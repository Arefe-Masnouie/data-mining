{
 "cells": [
  {
   "cell_type": "code",
   "execution_count": 1,
   "metadata": {},
   "outputs": [
    {
     "name": "stdout",
     "output_type": "stream",
     "text": [
      "3.1\n"
     ]
    }
   ],
   "source": [
    "import pandas as pd\n",
    "import numpy as np\n",
    "import networkx as nx\n",
    "import matplotlib.pyplot as plt\n",
    "from networkx.algorithms import community\n",
    "import matplotlib.colors as mcolors\n",
    "import seaborn as sns\n",
    "mycolor = np.array(list(mcolors.BASE_COLORS.keys()))\n",
    "print(nx.__version__)"
   ]
  },
  {
   "cell_type": "code",
   "execution_count": 2,
   "metadata": {},
   "outputs": [
    {
     "data": {
      "application/vnd.microsoft.datawrangler.viewer.v0+json": {
       "columns": [
        {
         "name": "index",
         "rawType": "int64",
         "type": "integer"
        },
        {
         "name": "fromPersonId",
         "rawType": "int64",
         "type": "integer"
        },
        {
         "name": "toPersonId",
         "rawType": "int64",
         "type": "integer"
        }
       ],
       "conversionMethod": "pd.DataFrame",
       "ref": "244157b7-2656-4221-9e67-94e12d6d6747",
       "rows": [
        [
         "0",
         "1",
         "2"
        ],
        [
         "1",
         "1",
         "3"
        ],
        [
         "2",
         "1",
         "4"
        ],
        [
         "3",
         "1",
         "5"
        ],
        [
         "4",
         "1",
         "6"
        ]
       ],
       "shape": {
        "columns": 2,
        "rows": 5
       }
      },
      "text/html": [
       "<div>\n",
       "<style scoped>\n",
       "    .dataframe tbody tr th:only-of-type {\n",
       "        vertical-align: middle;\n",
       "    }\n",
       "\n",
       "    .dataframe tbody tr th {\n",
       "        vertical-align: top;\n",
       "    }\n",
       "\n",
       "    .dataframe thead th {\n",
       "        text-align: right;\n",
       "    }\n",
       "</style>\n",
       "<table border=\"1\" class=\"dataframe\">\n",
       "  <thead>\n",
       "    <tr style=\"text-align: right;\">\n",
       "      <th></th>\n",
       "      <th>fromPersonId</th>\n",
       "      <th>toPersonId</th>\n",
       "    </tr>\n",
       "  </thead>\n",
       "  <tbody>\n",
       "    <tr>\n",
       "      <th>0</th>\n",
       "      <td>1</td>\n",
       "      <td>2</td>\n",
       "    </tr>\n",
       "    <tr>\n",
       "      <th>1</th>\n",
       "      <td>1</td>\n",
       "      <td>3</td>\n",
       "    </tr>\n",
       "    <tr>\n",
       "      <th>2</th>\n",
       "      <td>1</td>\n",
       "      <td>4</td>\n",
       "    </tr>\n",
       "    <tr>\n",
       "      <th>3</th>\n",
       "      <td>1</td>\n",
       "      <td>5</td>\n",
       "    </tr>\n",
       "    <tr>\n",
       "      <th>4</th>\n",
       "      <td>1</td>\n",
       "      <td>6</td>\n",
       "    </tr>\n",
       "  </tbody>\n",
       "</table>\n",
       "</div>"
      ],
      "text/plain": [
       "   fromPersonId  toPersonId\n",
       "0             1           2\n",
       "1             1           3\n",
       "2             1           4\n",
       "3             1           5\n",
       "4             1           6"
      ]
     },
     "execution_count": 2,
     "metadata": {},
     "output_type": "execute_result"
    }
   ],
   "source": [
    "df = pd.read_csv('karate.txt', sep=',')\n",
    "df.head()"
   ]
  },
  {
   "cell_type": "code",
   "execution_count": 4,
   "metadata": {},
   "outputs": [
    {
     "data": {
      "application/vnd.microsoft.datawrangler.viewer.v0+json": {
       "columns": [
        {
         "name": "index",
         "rawType": "int64",
         "type": "integer"
        },
        {
         "name": "source",
         "rawType": "int64",
         "type": "integer"
        },
        {
         "name": "target",
         "rawType": "int64",
         "type": "integer"
        }
       ],
       "conversionMethod": "pd.DataFrame",
       "ref": "903d514c-b624-4e6d-a431-86bfeb2045a9",
       "rows": [
        [
         "0",
         "1",
         "2"
        ],
        [
         "1",
         "1",
         "3"
        ],
        [
         "2",
         "1",
         "4"
        ],
        [
         "3",
         "1",
         "5"
        ],
        [
         "4",
         "1",
         "6"
        ]
       ],
       "shape": {
        "columns": 2,
        "rows": 5
       }
      },
      "text/html": [
       "<div>\n",
       "<style scoped>\n",
       "    .dataframe tbody tr th:only-of-type {\n",
       "        vertical-align: middle;\n",
       "    }\n",
       "\n",
       "    .dataframe tbody tr th {\n",
       "        vertical-align: top;\n",
       "    }\n",
       "\n",
       "    .dataframe thead th {\n",
       "        text-align: right;\n",
       "    }\n",
       "</style>\n",
       "<table border=\"1\" class=\"dataframe\">\n",
       "  <thead>\n",
       "    <tr style=\"text-align: right;\">\n",
       "      <th></th>\n",
       "      <th>source</th>\n",
       "      <th>target</th>\n",
       "    </tr>\n",
       "  </thead>\n",
       "  <tbody>\n",
       "    <tr>\n",
       "      <th>0</th>\n",
       "      <td>1</td>\n",
       "      <td>2</td>\n",
       "    </tr>\n",
       "    <tr>\n",
       "      <th>1</th>\n",
       "      <td>1</td>\n",
       "      <td>3</td>\n",
       "    </tr>\n",
       "    <tr>\n",
       "      <th>2</th>\n",
       "      <td>1</td>\n",
       "      <td>4</td>\n",
       "    </tr>\n",
       "    <tr>\n",
       "      <th>3</th>\n",
       "      <td>1</td>\n",
       "      <td>5</td>\n",
       "    </tr>\n",
       "    <tr>\n",
       "      <th>4</th>\n",
       "      <td>1</td>\n",
       "      <td>6</td>\n",
       "    </tr>\n",
       "  </tbody>\n",
       "</table>\n",
       "</div>"
      ],
      "text/plain": [
       "   source  target\n",
       "0       1       2\n",
       "1       1       3\n",
       "2       1       4\n",
       "3       1       5\n",
       "4       1       6"
      ]
     },
     "execution_count": 4,
     "metadata": {},
     "output_type": "execute_result"
    }
   ],
   "source": [
    "#changibg the name of columns\n",
    "df.rename(columns={'fromPersonId':'source', 'toPersonId':'target'}, inplace=True)\n",
    "df.head()"
   ]
  },
  {
   "cell_type": "code",
   "execution_count": null,
   "metadata": {},
   "outputs": [],
   "source": [
    "#converting the dataframe to a graph\n",
    "G1= nx.from_pandas_edgelist(df, 'source', 'target')\n",
    "G1 = G1.to_undirected() #to make sure that the graph is undirected"
   ]
  },
  {
   "cell_type": "code",
   "execution_count": null,
   "metadata": {},
   "outputs": [
    {
     "name": "stdout",
     "output_type": "stream",
     "text": [
      "Graph with 34 nodes and 77 edges\n"
     ]
    }
   ],
   "source": [
    "print(G1) #printing the information of the graph"
   ]
  },
  {
   "cell_type": "code",
   "execution_count": null,
   "metadata": {},
   "outputs": [
    {
     "data": {
      "image/png": "[encoded data removed]",
      "text/plain": [
       "<Figure size 432x288 with 1 Axes>"
      ]
     },
     "metadata": {},
     "output_type": "display_data"
    }
   ],
   "source": [
    "nx.draw_networkx(G1, with_labels=True, node_color='lightblue', node_size=500, font_size=10, font_color='black')"
   ]
  },
  {
   "cell_type": "code",
   "execution_count": 11,
   "metadata": {},
   "outputs": [
    {
     "name": "stdout",
     "output_type": "stream",
     "text": [
      "1\n"
     ]
    }
   ],
   "source": [
    "#The number of subgraphs\n",
    "print(nx.number_connected_components(G1))"
   ]
  },
  {
   "cell_type": "code",
   "execution_count": null,
   "metadata": {},
   "outputs": [
    {
     "name": "stdout",
     "output_type": "stream",
     "text": [
      "Graph with 34 nodes and 77 edges\n"
     ]
    }
   ],
   "source": [
    "#identify largest connected component\n",
    "Gcc = sorted(nx.connected_components(G1), key=len, reverse=True) #sorting the connected components\n",
    "G0 = G1.subgraph(Gcc[0]) #selecting the largest connected component\n",
    "print(G0)"
   ]
  },
  {
   "cell_type": "code",
   "execution_count": 14,
   "metadata": {},
   "outputs": [
    {
     "name": "stdout",
     "output_type": "stream",
     "text": [
      "[ 1  2  3  4  5  6  9 10 12 16]\n",
      "[ 2 10  6  6  3  2  1  1  1  2]\n"
     ]
    },
    {
     "data": {
      "image/png": "[encoded data removed]",
      "text/plain": [
       "<Figure size 432x288 with 1 Axes>"
      ]
     },
     "metadata": {
      "needs_background": "light"
     },
     "output_type": "display_data"
    }
   ],
   "source": [
    "degrees = [G0.degree(n) for n in G0.nodes()] #calculating the degree of each node\n",
    "degreen , degreecount = np.unique(degrees, return_counts=True) #counting the number of nodes with the same degree\n",
    "print(degreen)\n",
    "print(degreecount)\n",
    "\n",
    "plt.bar(degreen, degreecount, color='lightblue')\n",
    "plt.xlabel('Degree')\n",
    "plt.ylabel('Number of nodes')\n",
    "plt.title('Degree distribution')\n",
    "plt.show()\n"
   ]
  },
  {
   "cell_type": "code",
   "execution_count": null,
   "metadata": {},
   "outputs": [
    {
     "name": "stdout",
     "output_type": "stream",
     "text": [
      "{1: 0.15, 2: 0.3333333333333333, 3: 0.24444444444444444, 4: 0.6666666666666666, 5: 0.6666666666666666, 6: 0.5, 7: 0.5, 8: 1.0, 9: 0.5, 11: 0.6666666666666666, 12: 0, 13: 1.0, 14: 0.6, 18: 1.0, 20: 0.3333333333333333, 22: 1.0, 32: 0.2, 31: 0.5, 10: 0, 28: 0.16666666666666666, 29: 0.3333333333333333, 33: 0.18181818181818182, 17: 1.0, 34: 0.11666666666666667, 15: 1.0, 16: 1.0, 19: 1.0, 21: 1.0, 23: 0, 24: 0.4, 26: 0.3333333333333333, 30: 0.6666666666666666, 25: 0.3333333333333333, 27: 1.0}\n"
     ]
    }
   ],
   "source": [
    "#compute the local clustering coefficient for all nodes\n",
    "#the more they are closer to 1, the more connection they have\n",
    "clustering = nx.clustering(G0)\n",
    "print(clustering)"
   ]
  },
  {
   "cell_type": "code",
   "execution_count": 17,
   "metadata": {},
   "outputs": [
    {
     "data": {
      "text/plain": [
       "[(8, 1.0),\n",
       " (13, 1.0),\n",
       " (18, 1.0),\n",
       " (22, 1.0),\n",
       " (17, 1.0),\n",
       " (15, 1.0),\n",
       " (16, 1.0),\n",
       " (19, 1.0),\n",
       " (21, 1.0),\n",
       " (27, 1.0),\n",
       " (4, 0.6666666666666666),\n",
       " (5, 0.6666666666666666),\n",
       " (11, 0.6666666666666666),\n",
       " (30, 0.6666666666666666),\n",
       " (14, 0.6),\n",
       " (6, 0.5),\n",
       " (7, 0.5),\n",
       " (9, 0.5),\n",
       " (31, 0.5),\n",
       " (24, 0.4),\n",
       " (2, 0.3333333333333333),\n",
       " (20, 0.3333333333333333),\n",
       " (29, 0.3333333333333333),\n",
       " (26, 0.3333333333333333),\n",
       " (25, 0.3333333333333333),\n",
       " (3, 0.24444444444444444),\n",
       " (32, 0.2),\n",
       " (33, 0.18181818181818182),\n",
       " (28, 0.16666666666666666),\n",
       " (1, 0.15),\n",
       " (34, 0.11666666666666667),\n",
       " (12, 0),\n",
       " (10, 0),\n",
       " (23, 0)]"
      ]
     },
     "execution_count": 17,
     "metadata": {},
     "output_type": "execute_result"
    }
   ],
   "source": [
    "#\n",
    "clustering2 = list(clustering.items())\n",
    "clustering2.sort(key=lambda x: x[1], reverse=True)\n",
    "clustering2"
   ]
  },
  {
   "cell_type": "code",
   "execution_count": null,
   "metadata": {},
   "outputs": [
    {
     "data": {
      "text/plain": [
       "0.5409685086155674"
      ]
     },
     "execution_count": 18,
     "metadata": {},
     "output_type": "execute_result"
    }
   ],
   "source": [
    "#compute the average clustering coefficient\n",
    "#the more they are closer to 1, the more connection they have\n",
    "nx.average_clustering(G0)"
   ]
  },
  {
   "cell_type": "code",
   "execution_count": null,
   "metadata": {},
   "outputs": [
    {
     "data": {
      "text/plain": [
       "0.5409685086155674"
      ]
     },
     "execution_count": 19,
     "metadata": {},
     "output_type": "execute_result"
    }
   ],
   "source": [
    "#second way\n",
    "np.mean(list(clustering.values()))"
   ]
  },
  {
   "cell_type": "code",
   "execution_count": 20,
   "metadata": {},
   "outputs": [
    {
     "name": "stdout",
     "output_type": "stream",
     "text": [
      "5\n"
     ]
    }
   ],
   "source": [
    "print(nx.diameter(G0)) #the longest shortest path"
   ]
  },
  {
   "cell_type": "code",
   "execution_count": 21,
   "metadata": {},
   "outputs": [
    {
     "name": "stdout",
     "output_type": "stream",
     "text": [
      "2.4206773618538326\n"
     ]
    }
   ],
   "source": [
    "print(nx.average_shortest_path_length(G0)) #the average shortest path"
   ]
  }
 ],
 "metadata": {
  "kernelspec": {
   "display_name": "base",
   "language": "python",
   "name": "python3"
  },
  "language_info": {
   "codemirror_mode": {
    "name": "ipython",
    "version": 3
   },
   "file_extension": ".py",
   "mimetype": "text/x-python",
   "name": "python",
   "nbconvert_exporter": "python",
   "pygments_lexer": "ipython3",
   "version": "3.8.8"
  }
 },
 "nbformat": 4,
 "nbformat_minor": 2
}
