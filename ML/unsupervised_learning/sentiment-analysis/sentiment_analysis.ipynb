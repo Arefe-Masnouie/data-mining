{
 "cells": [
  {
   "cell_type": "code",
   "execution_count": 6,
   "id": "f672587b",
   "metadata": {},
   "outputs": [],
   "source": [
    "import numpy as np\n",
    "import pandas as pd\n",
    "import transformers\n",
    "from transformers import AutoConfig\n",
    "from transformers  import pipeline"
   ]
  },
  {
   "cell_type": "code",
   "execution_count": 11,
   "id": "74e6f557",
   "metadata": {},
   "outputs": [
    {
     "name": "stdout",
     "output_type": "stream",
     "text": [
      "WARNING *** OLE2 inconsistency: SSCS size is 0 but SSAT size is non-zero\n"
     ]
    },
    {
     "data": {
      "application/vnd.microsoft.datawrangler.viewer.v0+json": {
       "columns": [
        {
         "name": "index",
         "rawType": "int64",
         "type": "integer"
        },
        {
         "name": "id",
         "rawType": "int64",
         "type": "integer"
        },
        {
         "name": "product_id",
         "rawType": "int64",
         "type": "integer"
        },
        {
         "name": "product_title",
         "rawType": "object",
         "type": "string"
        },
        {
         "name": "title_en",
         "rawType": "object",
         "type": "string"
        },
        {
         "name": "user_id",
         "rawType": "int64",
         "type": "integer"
        },
        {
         "name": "likes",
         "rawType": "int64",
         "type": "integer"
        },
        {
         "name": "dislikes",
         "rawType": "int64",
         "type": "integer"
        },
        {
         "name": "verification_status",
         "rawType": "object",
         "type": "string"
        },
        {
         "name": "recommend",
         "rawType": "object",
         "type": "string"
        },
        {
         "name": "title",
         "rawType": "object",
         "type": "string"
        },
        {
         "name": "comment",
         "rawType": "object",
         "type": "string"
        },
        {
         "name": "label",
         "rawType": "float64",
         "type": "float"
        },
        {
         "name": "advantages",
         "rawType": "object",
         "type": "unknown"
        },
        {
         "name": "disadvantages",
         "rawType": "object",
         "type": "unknown"
        }
       ],
       "ref": "dae50fb3-53b4-4fb2-97eb-638f3ed3371e",
       "rows": [
        [
         "0",
         "51316",
         "197347",
         "پوشک مای بیبی مدل Chamomile سایز 4 بسته 34 عددی",
         "BC",
         "3189366",
         "8",
         "9",
         "verified",
         "\\N",
         "پس میده متاسفانه",
         "من چون همیشه مولفیکس استفاده کردم و هیچوقت مشکل پس دادن نداشتیم، یکبار از این برند استفاده کردم و متاسفانه بارها با لیاس و تسک خیس بچه مواجه شدم، به هر حال میزان قدرت جذبش از مولفیکس کمتره و زود به زود باید تعویض بشه، که اینطوری همون مدلفیکس به صرفه تر هست، که البته من تعویض زودتر رو هم انجام دادم و بازم همان مشکل پابرجا بود.",
         "2.0",
         null,
         null
        ],
        [
         "1",
         "51330",
         "481644",
         "استند لوازم  آرایشی کارا کد 12085",
         "PC",
         "4825894",
         "1",
         "1",
         "verified",
         "not_recommended",
         "اصلا خوب نبود.",
         "اصلا خوب نبود قطعاتش داخله سوراخایی که بود جا نمیشد سوراخا خیلی کوچیک بودن و میتونم بگم که با زور جا انداختمش اصلا خوب نبود،،بنظرم ریلی بود کشوش خیلی بهتر بود چون الان کجو کلست،،حالا در کل منکه گرفتم،اما پیشنهادش نمیکنم.",
         "2.0",
         null,
         null
        ],
        [
         "2",
         "51333",
         "262958",
         "کرم ضد جوش رنگی نوروا سری Actipur مدل Light Tinted حجم 30 میلی لیتر",
         "PC",
         "4815343",
         "9",
         "1",
         "verified",
         "\\N",
         "کرم  اکتی پور  نوروا",
         "من پوستم چربه و مستعد جوش،هر کرم پودری که استفاده میکردم بخاطر چربی پوستم سریع میماسید و احساس سنگینی میکردم و جوش میزدم!این کرم رو یکی از دوستان که مشکل پوست من رو داشت بهم معرفی کرد و خیلی راضی بود،منم گرفتم و واقعا راضی هستم",
         "2.0",
         "[\"مناسب استفاده روزانه برای افراد چرب و مستعد جوش\"]",
         "[\"از نظر کیفیت ندارد اما با توجه به مقدار کمی که دارد(۳۰میل)خیلی گران است!\"]"
        ],
        [
         "3",
         "51345",
         "292365",
         "چادر 2 نفره اف آی تی تنت مدل Single Roof AT1",
         "TS",
         "8089156",
         "3",
         "5",
         "verified",
         "recommended",
         "خوبه میشه بهتر باشه",
         "وقتی تحویل گرفتم از بزرگی بسته متعجب شدم اگر برای گردش و پیاده روی در نظر دارید خیلی حجیمه ودست و پا گیره کسانی که ماشین کچیک دارن درد سره چون تو صندوق عقب به صختی جا میشه اگه ماشینتون دوگانه باشه باید قیدش رو بزنید   ولی وقتی بازش کردین از جادار بودنش خوشحال میشید",
         "2.0",
         "[\"زیبایی\"]",
         "[\"نداشتن تهویه مناسب بزرگی بسته جمع شده\"]"
        ],
        [
         "4",
         "51347",
         "643764",
         "مچ بند هوشمند شیائومی مدل Mi Band 3",
         "PA",
         "8097889",
         "10",
         "3",
         "verified",
         "\\N",
         "پیشنهاد میکنم خریداری کنید",
         "قیمتش عالیه\nمن شنا گر هستم که 4 روز در هفته و معمولا 3 روز در هفته هم صبح و هم عصر میرم....ختی برای شیرجه زدن عالیه...\nشارژ بتطریش عالیه\nاگه بخواهیم مثلا سامسونگ بگیریم اولا خیلی گرون هستش و دوما نهایتا 30 دقیق در یک متر و نیم جوابگو هستش.\nخیلی سبک هستش\nمن کلا به غیر از شارژ کردن از دستم جدا نمیشه\nگوشیم کاملا دیگه بی صدا هستش چون دیگه به صدا احتیاجی ندارم همه جیز با دستبند مطلع میشم.\nپیام هم و تماس ها اگر انگلیسی باشه نمایش داده میشه اما فارسی رو علامت سوال نشون میده.\nبنظر من بخرید من که راضی هستم",
         "2.0",
         null,
         "[\"متاسفانه برچسب ضد خش خوبی ندارد\"]"
        ]
       ],
       "shape": {
        "columns": 14,
        "rows": 5
       }
      },
      "text/html": [
       "<div>\n",
       "<style scoped>\n",
       "    .dataframe tbody tr th:only-of-type {\n",
       "        vertical-align: middle;\n",
       "    }\n",
       "\n",
       "    .dataframe tbody tr th {\n",
       "        vertical-align: top;\n",
       "    }\n",
       "\n",
       "    .dataframe thead th {\n",
       "        text-align: right;\n",
       "    }\n",
       "</style>\n",
       "<table border=\"1\" class=\"dataframe\">\n",
       "  <thead>\n",
       "    <tr style=\"text-align: right;\">\n",
       "      <th></th>\n",
       "      <th>id</th>\n",
       "      <th>product_id</th>\n",
       "      <th>product_title</th>\n",
       "      <th>title_en</th>\n",
       "      <th>user_id</th>\n",
       "      <th>likes</th>\n",
       "      <th>dislikes</th>\n",
       "      <th>verification_status</th>\n",
       "      <th>recommend</th>\n",
       "      <th>title</th>\n",
       "      <th>comment</th>\n",
       "      <th>label</th>\n",
       "      <th>advantages</th>\n",
       "      <th>disadvantages</th>\n",
       "    </tr>\n",
       "  </thead>\n",
       "  <tbody>\n",
       "    <tr>\n",
       "      <th>0</th>\n",
       "      <td>51316</td>\n",
       "      <td>197347</td>\n",
       "      <td>پوشک مای بیبی مدل Chamomile سایز 4 بسته 34 عددی</td>\n",
       "      <td>BC</td>\n",
       "      <td>3189366</td>\n",
       "      <td>8</td>\n",
       "      <td>9</td>\n",
       "      <td>verified</td>\n",
       "      <td>\\N</td>\n",
       "      <td>پس میده متاسفانه</td>\n",
       "      <td>من چون همیشه مولفیکس استفاده کردم و هیچوقت مشک...</td>\n",
       "      <td>2.0</td>\n",
       "      <td>NaN</td>\n",
       "      <td>NaN</td>\n",
       "    </tr>\n",
       "    <tr>\n",
       "      <th>1</th>\n",
       "      <td>51330</td>\n",
       "      <td>481644</td>\n",
       "      <td>استند لوازم  آرایشی کارا کد 12085</td>\n",
       "      <td>PC</td>\n",
       "      <td>4825894</td>\n",
       "      <td>1</td>\n",
       "      <td>1</td>\n",
       "      <td>verified</td>\n",
       "      <td>not_recommended</td>\n",
       "      <td>اصلا خوب نبود.</td>\n",
       "      <td>اصلا خوب نبود قطعاتش داخله سوراخایی که بود جا ...</td>\n",
       "      <td>2.0</td>\n",
       "      <td>NaN</td>\n",
       "      <td>NaN</td>\n",
       "    </tr>\n",
       "    <tr>\n",
       "      <th>2</th>\n",
       "      <td>51333</td>\n",
       "      <td>262958</td>\n",
       "      <td>کرم ضد جوش رنگی نوروا سری Actipur مدل Light Ti...</td>\n",
       "      <td>PC</td>\n",
       "      <td>4815343</td>\n",
       "      <td>9</td>\n",
       "      <td>1</td>\n",
       "      <td>verified</td>\n",
       "      <td>\\N</td>\n",
       "      <td>کرم  اکتی پور  نوروا</td>\n",
       "      <td>من پوستم چربه و مستعد جوش،هر کرم پودری که استف...</td>\n",
       "      <td>2.0</td>\n",
       "      <td>[\"مناسب استفاده روزانه برای افراد چرب و مستعد ...</td>\n",
       "      <td>[\"از نظر کیفیت ندارد اما با توجه به مقدار کمی ...</td>\n",
       "    </tr>\n",
       "    <tr>\n",
       "      <th>3</th>\n",
       "      <td>51345</td>\n",
       "      <td>292365</td>\n",
       "      <td>چادر 2 نفره اف آی تی تنت مدل Single Roof AT1</td>\n",
       "      <td>TS</td>\n",
       "      <td>8089156</td>\n",
       "      <td>3</td>\n",
       "      <td>5</td>\n",
       "      <td>verified</td>\n",
       "      <td>recommended</td>\n",
       "      <td>خوبه میشه بهتر باشه</td>\n",
       "      <td>وقتی تحویل گرفتم از بزرگی بسته متعجب شدم اگر ب...</td>\n",
       "      <td>2.0</td>\n",
       "      <td>[\"زیبایی\"]</td>\n",
       "      <td>[\"نداشتن تهویه مناسب بزرگی بسته جمع شده\"]</td>\n",
       "    </tr>\n",
       "    <tr>\n",
       "      <th>4</th>\n",
       "      <td>51347</td>\n",
       "      <td>643764</td>\n",
       "      <td>مچ بند هوشمند شیائومی مدل Mi Band 3</td>\n",
       "      <td>PA</td>\n",
       "      <td>8097889</td>\n",
       "      <td>10</td>\n",
       "      <td>3</td>\n",
       "      <td>verified</td>\n",
       "      <td>\\N</td>\n",
       "      <td>پیشنهاد میکنم خریداری کنید</td>\n",
       "      <td>قیمتش عالیه\\nمن شنا گر هستم که 4 روز در هفته و...</td>\n",
       "      <td>2.0</td>\n",
       "      <td>NaN</td>\n",
       "      <td>[\"متاسفانه برچسب ضد خش خوبی ندارد\"]</td>\n",
       "    </tr>\n",
       "  </tbody>\n",
       "</table>\n",
       "</div>"
      ],
      "text/plain": [
       "      id  product_id                                      product_title  \\\n",
       "0  51316      197347    پوشک مای بیبی مدل Chamomile سایز 4 بسته 34 عددی   \n",
       "1  51330      481644                  استند لوازم  آرایشی کارا کد 12085   \n",
       "2  51333      262958  کرم ضد جوش رنگی نوروا سری Actipur مدل Light Ti...   \n",
       "3  51345      292365       چادر 2 نفره اف آی تی تنت مدل Single Roof AT1   \n",
       "4  51347      643764                مچ بند هوشمند شیائومی مدل Mi Band 3   \n",
       "\n",
       "  title_en  user_id  likes  dislikes verification_status        recommend  \\\n",
       "0       BC  3189366      8         9            verified               \\N   \n",
       "1       PC  4825894      1         1            verified  not_recommended   \n",
       "2       PC  4815343      9         1            verified               \\N   \n",
       "3       TS  8089156      3         5            verified      recommended   \n",
       "4       PA  8097889     10         3            verified               \\N   \n",
       "\n",
       "                        title  \\\n",
       "0            پس میده متاسفانه   \n",
       "1              اصلا خوب نبود.   \n",
       "2        کرم  اکتی پور  نوروا   \n",
       "3         خوبه میشه بهتر باشه   \n",
       "4  پیشنهاد میکنم خریداری کنید   \n",
       "\n",
       "                                             comment  label  \\\n",
       "0  من چون همیشه مولفیکس استفاده کردم و هیچوقت مشک...    2.0   \n",
       "1  اصلا خوب نبود قطعاتش داخله سوراخایی که بود جا ...    2.0   \n",
       "2  من پوستم چربه و مستعد جوش،هر کرم پودری که استف...    2.0   \n",
       "3  وقتی تحویل گرفتم از بزرگی بسته متعجب شدم اگر ب...    2.0   \n",
       "4  قیمتش عالیه\\nمن شنا گر هستم که 4 روز در هفته و...    2.0   \n",
       "\n",
       "                                          advantages  \\\n",
       "0                                                NaN   \n",
       "1                                                NaN   \n",
       "2  [\"مناسب استفاده روزانه برای افراد چرب و مستعد ...   \n",
       "3                                         [\"زیبایی\"]   \n",
       "4                                                NaN   \n",
       "\n",
       "                                       disadvantages  \n",
       "0                                                NaN  \n",
       "1                                                NaN  \n",
       "2  [\"از نظر کیفیت ندارد اما با توجه به مقدار کمی ...  \n",
       "3          [\"نداشتن تهویه مناسب بزرگی بسته جمع شده\"]  \n",
       "4                [\"متاسفانه برچسب ضد خش خوبی ندارد\"]  "
      ]
     },
     "execution_count": 11,
     "metadata": {},
     "output_type": "execute_result"
    }
   ],
   "source": [
    "df = pd.read_excel('data.xls')\n",
    "df.head()"
   ]
  },
  {
   "cell_type": "code",
   "execution_count": 12,
   "id": "439ea43b",
   "metadata": {},
   "outputs": [
    {
     "data": {
      "application/vnd.microsoft.datawrangler.viewer.v0+json": {
       "columns": [
        {
         "name": "index",
         "rawType": "int64",
         "type": "integer"
        },
        {
         "name": "comment",
         "rawType": "object",
         "type": "string"
        },
        {
         "name": "score",
         "rawType": "float64",
         "type": "float"
        },
        {
         "name": "istest",
         "rawType": "bool",
         "type": "boolean"
        }
       ],
       "ref": "2c4373a0-48c4-457e-8cc3-2d22d36d5c5a",
       "rows": [
        [
         "33938",
         "محصول ایرانی هست و از معدود کارهای باکیفیت ایرانی که وقت گذاشتن براش",
         "1.0",
         "False"
        ],
        [
         "1786",
         "در شگفت انگیز خریدم و بسیار عالی و خوش بو ست. خیلی شیک هم هست. بسیار راضی ام\n3 مدل از ادیدات رو خریدم و بسیار بسیار خوش بو هستند و یکی از یکی بهتر\nبه ترتیب از بهترین :\n1- مدل UEFA Champions League Arena Edition\n2- مدل GET Ready\n3- مدل ICE Dive",
         "1.0",
         "False"
        ],
        [
         "52214",
         "بوی خوبی داره ولی مندگاری در حد متوسطه",
         "1.0",
         "True"
        ],
        [
         "61503",
         "عالی بود مرسی",
         "1.0",
         "True"
        ],
        [
         "38799",
         "نسبت به قیمت کیفیت فوق العاده عالی دارد",
         "1.0",
         "False"
        ],
        [
         "17185",
         "چند روز پیش از دیجی خریدم و به دستم رسید.وقتی سایزش رو دیدم شاخ در آوردم.چون نسبت به سایزی که انتخاب کرده بودم خیلی کوچکتر بود و مناسب یه پسر لاغر نهایتا ۱۵ ساله .\nهمینجوری انداختمش کنار.\nاگه خواستین بخرین حداقل دو سایز بزرگتر سفارش بدین.\nدر ضمن خودشم زیاد شبیه عکس نیست.",
         "0.0",
         "False"
        ],
        [
         "35782",
         "بسیار خوش دوخت - فرم عالی روی بدن-",
         "1.0",
         "True"
        ],
        [
         "59397",
         "تو سرعت زیاد میوفته وسط جاده،همیشه باید سفتش کرد مواظب بود که نیوفته",
         "0.0",
         "False"
        ],
        [
         "60700",
         "از خریدم راضیم. کیفیت باطریهای مکسل در حد قابل قبولیه. من این رو برای سوئیچ ماشین گرفتم که قیمتش نسبت به بازار عالیه.",
         "1.0",
         "True"
        ],
        [
         "34181",
         "کیفیت خوب ٬٬ اندازه خوب نسبت به حجم که دو لیتری است\nالبته در شگفتانگیز خرید کردن خیلی ارزش داره",
         "1.0",
         "False"
        ]
       ],
       "shape": {
        "columns": 3,
        "rows": 10
       }
      },
      "text/html": [
       "<div>\n",
       "<style scoped>\n",
       "    .dataframe tbody tr th:only-of-type {\n",
       "        vertical-align: middle;\n",
       "    }\n",
       "\n",
       "    .dataframe tbody tr th {\n",
       "        vertical-align: top;\n",
       "    }\n",
       "\n",
       "    .dataframe thead th {\n",
       "        text-align: right;\n",
       "    }\n",
       "</style>\n",
       "<table border=\"1\" class=\"dataframe\">\n",
       "  <thead>\n",
       "    <tr style=\"text-align: right;\">\n",
       "      <th></th>\n",
       "      <th>comment</th>\n",
       "      <th>score</th>\n",
       "      <th>istest</th>\n",
       "    </tr>\n",
       "  </thead>\n",
       "  <tbody>\n",
       "    <tr>\n",
       "      <th>33938</th>\n",
       "      <td>محصول ایرانی هست و از معدود کارهای باکیفیت ایر...</td>\n",
       "      <td>1.0</td>\n",
       "      <td>False</td>\n",
       "    </tr>\n",
       "    <tr>\n",
       "      <th>1786</th>\n",
       "      <td>در شگفت انگیز خریدم و بسیار عالی و خوش بو ست. ...</td>\n",
       "      <td>1.0</td>\n",
       "      <td>False</td>\n",
       "    </tr>\n",
       "    <tr>\n",
       "      <th>52214</th>\n",
       "      <td>بوی خوبی داره ولی مندگاری در حد متوسطه</td>\n",
       "      <td>1.0</td>\n",
       "      <td>True</td>\n",
       "    </tr>\n",
       "    <tr>\n",
       "      <th>61503</th>\n",
       "      <td>عالی بود مرسی</td>\n",
       "      <td>1.0</td>\n",
       "      <td>True</td>\n",
       "    </tr>\n",
       "    <tr>\n",
       "      <th>38799</th>\n",
       "      <td>نسبت به قیمت کیفیت فوق العاده عالی دارد</td>\n",
       "      <td>1.0</td>\n",
       "      <td>False</td>\n",
       "    </tr>\n",
       "    <tr>\n",
       "      <th>17185</th>\n",
       "      <td>چند روز پیش از دیجی خریدم و به دستم رسید.وقتی ...</td>\n",
       "      <td>0.0</td>\n",
       "      <td>False</td>\n",
       "    </tr>\n",
       "    <tr>\n",
       "      <th>35782</th>\n",
       "      <td>بسیار خوش دوخت - فرم عالی روی بدن-</td>\n",
       "      <td>1.0</td>\n",
       "      <td>True</td>\n",
       "    </tr>\n",
       "    <tr>\n",
       "      <th>59397</th>\n",
       "      <td>تو سرعت زیاد میوفته وسط جاده،همیشه باید سفتش ک...</td>\n",
       "      <td>0.0</td>\n",
       "      <td>False</td>\n",
       "    </tr>\n",
       "    <tr>\n",
       "      <th>60700</th>\n",
       "      <td>از خریدم راضیم. کیفیت باطریهای مکسل در حد قابل...</td>\n",
       "      <td>1.0</td>\n",
       "      <td>True</td>\n",
       "    </tr>\n",
       "    <tr>\n",
       "      <th>34181</th>\n",
       "      <td>کیفیت خوب ٬٬ اندازه خوب نسبت به حجم که دو لیتر...</td>\n",
       "      <td>1.0</td>\n",
       "      <td>False</td>\n",
       "    </tr>\n",
       "  </tbody>\n",
       "</table>\n",
       "</div>"
      ],
      "text/plain": [
       "                                                 comment  score  istest\n",
       "33938  محصول ایرانی هست و از معدود کارهای باکیفیت ایر...    1.0   False\n",
       "1786   در شگفت انگیز خریدم و بسیار عالی و خوش بو ست. ...    1.0   False\n",
       "52214             بوی خوبی داره ولی مندگاری در حد متوسطه    1.0    True\n",
       "61503                                      عالی بود مرسی    1.0    True\n",
       "38799            نسبت به قیمت کیفیت فوق العاده عالی دارد    1.0   False\n",
       "17185  چند روز پیش از دیجی خریدم و به دستم رسید.وقتی ...    0.0   False\n",
       "35782                 بسیار خوش دوخت - فرم عالی روی بدن-    1.0    True\n",
       "59397  تو سرعت زیاد میوفته وسط جاده،همیشه باید سفتش ک...    0.0   False\n",
       "60700  از خریدم راضیم. کیفیت باطریهای مکسل در حد قابل...    1.0    True\n",
       "34181  کیفیت خوب ٬٬ اندازه خوب نسبت به حجم که دو لیتر...    1.0   False"
      ]
     },
     "execution_count": 12,
     "metadata": {},
     "output_type": "execute_result"
    }
   ],
   "source": [
    "df.loc[df['recommend']=='recommended', 'score']=1\n",
    "df.loc[df['recommend']=='not_recommended', 'score']=0\n",
    "\n",
    "df=df.loc[~df['score'].isna(),['comment','score']].copy()\n",
    "df=df.sample(1000)\n",
    "df['istest'] = np.random.rand(len(df)) < 0.2\n",
    "df.sample(10)"
   ]
  },
  {
   "cell_type": "code",
   "execution_count": null,
   "id": "4ef78366",
   "metadata": {},
   "outputs": [],
   "source": []
  }
 ],
 "metadata": {
  "kernelspec": {
   "display_name": "base",
   "language": "python",
   "name": "python3"
  },
  "language_info": {
   "codemirror_mode": {
    "name": "ipython",
    "version": 3
   },
   "file_extension": ".py",
   "mimetype": "text/x-python",
   "name": "python",
   "nbconvert_exporter": "python",
   "pygments_lexer": "ipython3",
   "version": "3.8.8"
  }
 },
 "nbformat": 4,
 "nbformat_minor": 5
}
