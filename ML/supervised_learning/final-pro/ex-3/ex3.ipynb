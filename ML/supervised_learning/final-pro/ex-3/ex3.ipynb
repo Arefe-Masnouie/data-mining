{
 "cells": [
  {
   "cell_type": "code",
   "execution_count": 1,
   "id": "aa72df59",
   "metadata": {},
   "outputs": [],
   "source": [
    "import numpy as np\n",
    "import pandas as pd\n",
    "from sklearn.model_selection import train_test_split\n",
    "from sklearn.preprocessing import StandardScaler\n",
    "from sklearn.linear_model import LogisticRegression\n",
    "from sklearn.naive_bayes import GaussianNB\n",
    "from sklearn.metrics import confusion_matrix, ConfusionMatrixDisplay, classification_report\n",
    "import matplotlib.pyplot as plt\n",
    "from imblearn.over_sampling import SMOTE"
   ]
  },
  {
   "cell_type": "code",
   "execution_count": 2,
   "id": "08b6cdff",
   "metadata": {},
   "outputs": [
    {
     "data": {
      "application/vnd.microsoft.datawrangler.viewer.v0+json": {
       "columns": [
        {
         "name": "index",
         "rawType": "int64",
         "type": "integer"
        },
        {
         "name": "NtDuplicateObject",
         "rawType": "int64",
         "type": "integer"
        },
        {
         "name": "NtOpenSection",
         "rawType": "int64",
         "type": "integer"
        },
        {
         "name": "CoUninitialize",
         "rawType": "int64",
         "type": "integer"
        },
        {
         "name": "RegCloseKey",
         "rawType": "int64",
         "type": "integer"
        },
        {
         "name": "LdrUnloadDll",
         "rawType": "int64",
         "type": "integer"
        },
        {
         "name": "DrawTextExW",
         "rawType": "int64",
         "type": "integer"
        },
        {
         "name": "GetSystemInfo",
         "rawType": "int64",
         "type": "integer"
        },
        {
         "name": "RegQueryValueExA",
         "rawType": "int64",
         "type": "integer"
        },
        {
         "name": "getaddrinfo",
         "rawType": "int64",
         "type": "integer"
        },
        {
         "name": "WSAStartup",
         "rawType": "int64",
         "type": "integer"
        },
        {
         "name": "GetSystemWindowsDirectoryW",
         "rawType": "int64",
         "type": "integer"
        },
        {
         "name": "NtClose",
         "rawType": "int64",
         "type": "integer"
        },
        {
         "name": "GetFileVersionInfoSizeW",
         "rawType": "int64",
         "type": "integer"
        },
        {
         "name": "MessageBoxTimeoutA",
         "rawType": "int64",
         "type": "integer"
        },
        {
         "name": "RegQueryValueExW",
         "rawType": "int64",
         "type": "integer"
        },
        {
         "name": "NtOpenDirectoryObject",
         "rawType": "int64",
         "type": "integer"
        },
        {
         "name": "RegEnumKeyW",
         "rawType": "int64",
         "type": "integer"
        },
        {
         "name": "GetSystemMetrics",
         "rawType": "int64",
         "type": "integer"
        },
        {
         "name": "NtMapViewOfSection",
         "rawType": "int64",
         "type": "integer"
        },
        {
         "name": "NtCreateThreadEx",
         "rawType": "int64",
         "type": "integer"
        },
        {
         "name": "CreateActCtxW",
         "rawType": "int64",
         "type": "integer"
        },
        {
         "name": "RegOpenKeyExW",
         "rawType": "int64",
         "type": "integer"
        },
        {
         "name": "NtAllocateVirtualMemory",
         "rawType": "int64",
         "type": "integer"
        },
        {
         "name": "RegOpenKeyExA",
         "rawType": "int64",
         "type": "integer"
        },
        {
         "name": "LdrGetDllHandle",
         "rawType": "int64",
         "type": "integer"
        },
        {
         "name": "NtQuerySystemInformation",
         "rawType": "int64",
         "type": "integer"
        },
        {
         "name": "NtResumeThread",
         "rawType": "int64",
         "type": "integer"
        },
        {
         "name": "GetUserNameW",
         "rawType": "int64",
         "type": "integer"
        },
        {
         "name": "CreateThread",
         "rawType": "int64",
         "type": "integer"
        },
        {
         "name": "NtUnmapViewOfSection",
         "rawType": "int64",
         "type": "integer"
        },
        {
         "name": "CoCreateInstance",
         "rawType": "int64",
         "type": "integer"
        },
        {
         "name": "GetSystemDirectoryW",
         "rawType": "int64",
         "type": "integer"
        },
        {
         "name": "CryptAcquireContextW",
         "rawType": "int64",
         "type": "integer"
        },
        {
         "name": "SetUnhandledExceptionFilter",
         "rawType": "int64",
         "type": "integer"
        },
        {
         "name": "FindResourceExW",
         "rawType": "int64",
         "type": "integer"
        },
        {
         "name": "NtFreeVirtualMemory",
         "rawType": "int64",
         "type": "integer"
        },
        {
         "name": "GetSystemTimeAsFileTime",
         "rawType": "int64",
         "type": "integer"
        },
        {
         "name": "CryptDecrypt",
         "rawType": "int64",
         "type": "integer"
        },
        {
         "name": "NtCreateMutant",
         "rawType": "int64",
         "type": "integer"
        },
        {
         "name": "NtProtectVirtualMemory",
         "rawType": "int64",
         "type": "integer"
        },
        {
         "name": "CoInitializeEx",
         "rawType": "int64",
         "type": "integer"
        },
        {
         "name": "LoadStringW",
         "rawType": "int64",
         "type": "integer"
        },
        {
         "name": "NtOpenKey",
         "rawType": "int64",
         "type": "integer"
        },
        {
         "name": "NtOpenMutant",
         "rawType": "int64",
         "type": "integer"
        },
        {
         "name": "LdrGetProcedureAddress",
         "rawType": "int64",
         "type": "integer"
        },
        {
         "name": "GetFileVersionInfoW",
         "rawType": "int64",
         "type": "integer"
        },
        {
         "name": "NtEnumerateKey",
         "rawType": "int64",
         "type": "integer"
        },
        {
         "name": "NtOpenKeyEx",
         "rawType": "int64",
         "type": "integer"
        },
        {
         "name": "LdrLoadDll",
         "rawType": "int64",
         "type": "integer"
        },
        {
         "name": "NtTerminateProcess",
         "rawType": "int64",
         "type": "integer"
        },
        {
         "name": "NtQueryValueKey",
         "rawType": "int64",
         "type": "integer"
        },
        {
         "name": "GetAdaptersAddresses",
         "rawType": "int64",
         "type": "integer"
        },
        {
         "name": "GetFileAttributesW",
         "rawType": "int64",
         "type": "integer"
        },
        {
         "name": "NtDelayExecution",
         "rawType": "int64",
         "type": "integer"
        },
        {
         "name": "SetErrorMode",
         "rawType": "int64",
         "type": "integer"
        },
        {
         "name": "GetFileInformationByHandle",
         "rawType": "int64",
         "type": "integer"
        },
        {
         "name": "SetFilePointerEx",
         "rawType": "int64",
         "type": "integer"
        },
        {
         "name": "RtlAddVectoredExceptionHandler",
         "rawType": "int64",
         "type": "integer"
        },
        {
         "name": "NtCreateFile",
         "rawType": "int64",
         "type": "integer"
        },
        {
         "name": "GlobalMemoryStatusEx",
         "rawType": "int64",
         "type": "integer"
        },
        {
         "name": "CoInitializeSecurity",
         "rawType": "int64",
         "type": "integer"
        },
        {
         "name": "NtQueryInformationFile",
         "rawType": "int64",
         "type": "integer"
        },
        {
         "name": "NtQueryKey",
         "rawType": "int64",
         "type": "integer"
        },
        {
         "name": "IsDebuggerPresent",
         "rawType": "int64",
         "type": "integer"
        },
        {
         "name": "WSASocketW",
         "rawType": "int64",
         "type": "integer"
        },
        {
         "name": "NtDeviceIoControlFile",
         "rawType": "int64",
         "type": "integer"
        },
        {
         "name": "NtReadFile",
         "rawType": "int64",
         "type": "integer"
        },
        {
         "name": "NtSetValueKey",
         "rawType": "int64",
         "type": "integer"
        },
        {
         "name": "setsockopt",
         "rawType": "int64",
         "type": "integer"
        },
        {
         "name": "GlobalMemoryStatus",
         "rawType": "int64",
         "type": "integer"
        },
        {
         "name": "NtEnumerateValueKey",
         "rawType": "int64",
         "type": "integer"
        },
        {
         "name": "UuidCreate",
         "rawType": "int64",
         "type": "integer"
        },
        {
         "name": "GetBestInterfaceEx",
         "rawType": "int64",
         "type": "integer"
        },
        {
         "name": "NtCreateKey",
         "rawType": "int64",
         "type": "integer"
        },
        {
         "name": "NtQueueApcThread",
         "rawType": "int64",
         "type": "integer"
        },
        {
         "name": "GetFileSize",
         "rawType": "int64",
         "type": "integer"
        },
        {
         "name": "SHGetFolderPathW",
         "rawType": "int64",
         "type": "integer"
        },
        {
         "name": "GetComputerNameW",
         "rawType": "int64",
         "type": "integer"
        },
        {
         "name": "RegEnumKeyExW",
         "rawType": "int64",
         "type": "integer"
        },
        {
         "name": "GetComputerNameA",
         "rawType": "int64",
         "type": "integer"
        },
        {
         "name": "FindFirstFileExW",
         "rawType": "int64",
         "type": "integer"
        },
        {
         "name": "closesocket",
         "rawType": "int64",
         "type": "integer"
        },
        {
         "name": "RegEnumValueW",
         "rawType": "int64",
         "type": "integer"
        },
        {
         "name": "NtCreateSection",
         "rawType": "int64",
         "type": "integer"
        },
        {
         "name": "GetTimeZoneInformation",
         "rawType": "int64",
         "type": "integer"
        },
        {
         "name": "SearchPathW",
         "rawType": "int64",
         "type": "integer"
        },
        {
         "name": "GetFileType",
         "rawType": "int64",
         "type": "integer"
        },
        {
         "name": "GetNativeSystemInfo",
         "rawType": "int64",
         "type": "integer"
        },
        {
         "name": "GetShortPathNameW",
         "rawType": "int64",
         "type": "integer"
        },
        {
         "name": "NtOpenProcess",
         "rawType": "int64",
         "type": "integer"
        },
        {
         "name": "OleInitialize",
         "rawType": "int64",
         "type": "integer"
        },
        {
         "name": "NtOpenFile",
         "rawType": "int64",
         "type": "integer"
        },
        {
         "name": "RegQueryInfoKeyW",
         "rawType": "int64",
         "type": "integer"
        },
        {
         "name": "NtQueryDirectoryFile",
         "rawType": "int64",
         "type": "integer"
        },
        {
         "name": "__exception__",
         "rawType": "int64",
         "type": "integer"
        },
        {
         "name": "NtQueryAttributesFile",
         "rawType": "int64",
         "type": "integer"
        },
        {
         "name": "GetAddrInfoW",
         "rawType": "int64",
         "type": "integer"
        },
        {
         "name": "GetFileAttributesExW",
         "rawType": "int64",
         "type": "integer"
        },
        {
         "name": "EnumWindows",
         "rawType": "int64",
         "type": "integer"
        },
        {
         "name": "GetForegroundWindow",
         "rawType": "int64",
         "type": "integer"
        },
        {
         "name": "UnhookWindowsHookEx",
         "rawType": "int64",
         "type": "integer"
        },
        {
         "name": "CoGetClassObject",
         "rawType": "int64",
         "type": "integer"
        },
        {
         "name": "GetCursorPos",
         "rawType": "int64",
         "type": "integer"
        },
        {
         "name": "LoadStringA",
         "rawType": "int64",
         "type": "integer"
        },
        {
         "name": "SetWindowsHookExA",
         "rawType": "int64",
         "type": "integer"
        },
        {
         "name": "LoadResource",
         "rawType": "int64",
         "type": "integer"
        },
        {
         "name": "FindWindowA",
         "rawType": "int64",
         "type": "integer"
        },
        {
         "name": "SizeofResource",
         "rawType": "int64",
         "type": "integer"
        },
        {
         "name": "GetTempPathW",
         "rawType": "int64",
         "type": "integer"
        },
        {
         "name": "FindResourceA",
         "rawType": "int64",
         "type": "integer"
        },
        {
         "name": "GetUserNameA",
         "rawType": "int64",
         "type": "integer"
        },
        {
         "name": "FindResourceW",
         "rawType": "int64",
         "type": "integer"
        },
        {
         "name": "RegCreateKeyExA",
         "rawType": "int64",
         "type": "integer"
        },
        {
         "name": "RegEnumKeyExA",
         "rawType": "int64",
         "type": "integer"
        },
        {
         "name": "SetFileTime",
         "rawType": "int64",
         "type": "integer"
        },
        {
         "name": "ReadProcessMemory",
         "rawType": "int64",
         "type": "integer"
        },
        {
         "name": "RegEnumValueA",
         "rawType": "int64",
         "type": "integer"
        },
        {
         "name": "GetKeyState",
         "rawType": "int64",
         "type": "integer"
        },
        {
         "name": "SetFilePointer",
         "rawType": "int64",
         "type": "integer"
        },
        {
         "name": "FindWindowW",
         "rawType": "int64",
         "type": "integer"
        },
        {
         "name": "RegDeleteValueW",
         "rawType": "int64",
         "type": "integer"
        },
        {
         "name": "SetWindowsHookExW",
         "rawType": "int64",
         "type": "integer"
        },
        {
         "name": "FindWindowExW",
         "rawType": "int64",
         "type": "integer"
        },
        {
         "name": "SetFileAttributesW",
         "rawType": "int64",
         "type": "integer"
        },
        {
         "name": "RegSetValueExW",
         "rawType": "int64",
         "type": "integer"
        },
        {
         "name": "GetVolumePathNamesForVolumeNameW",
         "rawType": "int64",
         "type": "integer"
        },
        {
         "name": "FindResourceExA",
         "rawType": "int64",
         "type": "integer"
        },
        {
         "name": "FindWindowExA",
         "rawType": "int64",
         "type": "integer"
        },
        {
         "name": "InternetSetOptionA",
         "rawType": "int64",
         "type": "integer"
        },
        {
         "name": "RegCreateKeyExW",
         "rawType": "int64",
         "type": "integer"
        },
        {
         "name": "OpenServiceA",
         "rawType": "int64",
         "type": "integer"
        },
        {
         "name": "NtWriteFile",
         "rawType": "int64",
         "type": "integer"
        },
        {
         "name": "GetVolumeNameForVolumeMountPointW",
         "rawType": "int64",
         "type": "integer"
        },
        {
         "name": "NtOpenThread",
         "rawType": "int64",
         "type": "integer"
        },
        {
         "name": "RegSetValueExA",
         "rawType": "int64",
         "type": "integer"
        },
        {
         "name": "GetDiskFreeSpaceExW",
         "rawType": "int64",
         "type": "integer"
        },
        {
         "name": "NtSetInformationFile",
         "rawType": "int64",
         "type": "integer"
        },
        {
         "name": "InternetCloseHandle",
         "rawType": "int64",
         "type": "integer"
        },
        {
         "name": "InternetQueryOptionA",
         "rawType": "int64",
         "type": "integer"
        },
        {
         "name": "CreateDirectoryW",
         "rawType": "int64",
         "type": "integer"
        },
        {
         "name": "DeleteFileW",
         "rawType": "int64",
         "type": "integer"
        },
        {
         "name": "GetFileSizeEx",
         "rawType": "int64",
         "type": "integer"
        },
        {
         "name": "InternetOpenA",
         "rawType": "int64",
         "type": "integer"
        },
        {
         "name": "GetFileInformationByHandleEx",
         "rawType": "int64",
         "type": "integer"
        },
        {
         "name": "InternetOpenUrlA",
         "rawType": "int64",
         "type": "integer"
        },
        {
         "name": "OpenSCManagerA",
         "rawType": "int64",
         "type": "integer"
        },
        {
         "name": "shutdown",
         "rawType": "int64",
         "type": "integer"
        },
        {
         "name": "getsockname",
         "rawType": "int64",
         "type": "integer"
        },
        {
         "name": "DrawTextExA",
         "rawType": "int64",
         "type": "integer"
        },
        {
         "name": "socket",
         "rawType": "int64",
         "type": "integer"
        },
        {
         "name": "gethostbyname",
         "rawType": "int64",
         "type": "integer"
        },
        {
         "name": "bind",
         "rawType": "int64",
         "type": "integer"
        },
        {
         "name": "MessageBoxTimeoutW",
         "rawType": "int64",
         "type": "integer"
        },
        {
         "name": "CreateProcessInternalW",
         "rawType": "int64",
         "type": "integer"
        },
        {
         "name": "CreateToolhelp32Snapshot",
         "rawType": "int64",
         "type": "integer"
        },
        {
         "name": "MoveFileWithProgressW",
         "rawType": "int64",
         "type": "integer"
        },
        {
         "name": "OpenServiceW",
         "rawType": "int64",
         "type": "integer"
        },
        {
         "name": "SendNotifyMessageW",
         "rawType": "int64",
         "type": "integer"
        },
        {
         "name": "Process32NextW",
         "rawType": "int64",
         "type": "integer"
        },
        {
         "name": "StartServiceW",
         "rawType": "int64",
         "type": "integer"
        },
        {
         "name": "Process32FirstW",
         "rawType": "int64",
         "type": "integer"
        },
        {
         "name": "GetAsyncKeyState",
         "rawType": "int64",
         "type": "integer"
        },
        {
         "name": "OpenSCManagerW",
         "rawType": "int64",
         "type": "integer"
        },
        {
         "name": "CreateServiceW",
         "rawType": "int64",
         "type": "integer"
        },
        {
         "name": "NtReadVirtualMemory",
         "rawType": "int64",
         "type": "integer"
        },
        {
         "name": "timeGetTime",
         "rawType": "int64",
         "type": "integer"
        },
        {
         "name": "GetKeyboardState",
         "rawType": "int64",
         "type": "integer"
        },
        {
         "name": "Module32FirstW",
         "rawType": "int64",
         "type": "integer"
        },
        {
         "name": "WriteConsoleW",
         "rawType": "int64",
         "type": "integer"
        },
        {
         "name": "InternetCrackUrlA",
         "rawType": "int64",
         "type": "integer"
        },
        {
         "name": "URLDownloadToFileW",
         "rawType": "int64",
         "type": "integer"
        },
        {
         "name": "LookupPrivilegeValueW",
         "rawType": "int64",
         "type": "integer"
        },
        {
         "name": "CoCreateInstanceEx",
         "rawType": "int64",
         "type": "integer"
        },
        {
         "name": "InternetGetConnectedStateExA",
         "rawType": "int64",
         "type": "integer"
        },
        {
         "name": "select",
         "rawType": "int64",
         "type": "integer"
        },
        {
         "name": "IWbemServices_ExecQuery",
         "rawType": "int64",
         "type": "integer"
        },
        {
         "name": "connect",
         "rawType": "int64",
         "type": "integer"
        },
        {
         "name": "WriteProcessMemory",
         "rawType": "int64",
         "type": "integer"
        },
        {
         "name": "NtSetContextThread",
         "rawType": "int64",
         "type": "integer"
        },
        {
         "name": "NtGetContextThread",
         "rawType": "int64",
         "type": "integer"
        },
        {
         "name": "CryptHashData",
         "rawType": "int64",
         "type": "integer"
        },
        {
         "name": "CryptCreateHash",
         "rawType": "int64",
         "type": "integer"
        },
        {
         "name": "CopyFileExW",
         "rawType": "int64",
         "type": "integer"
        },
        {
         "name": "CryptAcquireContextA",
         "rawType": "int64",
         "type": "integer"
        },
        {
         "name": "ShellExecuteExW",
         "rawType": "int64",
         "type": "integer"
        },
        {
         "name": "DeleteService",
         "rawType": "int64",
         "type": "integer"
        },
        {
         "name": "RtlRemoveVectoredExceptionHandler",
         "rawType": "int64",
         "type": "integer"
        },
        {
         "name": "RemoveDirectoryW",
         "rawType": "int64",
         "type": "integer"
        },
        {
         "name": "ObtainUserAgentString",
         "rawType": "int64",
         "type": "integer"
        },
        {
         "name": "StartServiceA",
         "rawType": "int64",
         "type": "integer"
        },
        {
         "name": "HttpSendRequestW",
         "rawType": "int64",
         "type": "integer"
        },
        {
         "name": "InternetOpenW",
         "rawType": "int64",
         "type": "integer"
        },
        {
         "name": "HttpOpenRequestW",
         "rawType": "int64",
         "type": "integer"
        },
        {
         "name": "InternetConnectW",
         "rawType": "int64",
         "type": "integer"
        },
        {
         "name": "HttpQueryInfoA",
         "rawType": "int64",
         "type": "integer"
        },
        {
         "name": "InternetCrackUrlW",
         "rawType": "int64",
         "type": "integer"
        },
        {
         "name": "EnumServicesStatusW",
         "rawType": "int64",
         "type": "integer"
        },
        {
         "name": "ControlService",
         "rawType": "int64",
         "type": "integer"
        },
        {
         "name": "GetUserNameExW",
         "rawType": "int64",
         "type": "integer"
        },
        {
         "name": "DeviceIoControl",
         "rawType": "int64",
         "type": "integer"
        },
        {
         "name": "CryptExportKey",
         "rawType": "int64",
         "type": "integer"
        },
        {
         "name": "NetShareEnum",
         "rawType": "int64",
         "type": "integer"
        },
        {
         "name": "SHGetSpecialFolderLocation",
         "rawType": "int64",
         "type": "integer"
        },
        {
         "name": "ioctlsocket",
         "rawType": "int64",
         "type": "integer"
        },
        {
         "name": "LookupAccountSidW",
         "rawType": "int64",
         "type": "integer"
        },
        {
         "name": "NetUserGetInfo",
         "rawType": "int64",
         "type": "integer"
        },
        {
         "name": "CryptEncrypt",
         "rawType": "int64",
         "type": "integer"
        },
        {
         "name": "CopyFileW",
         "rawType": "int64",
         "type": "integer"
        },
        {
         "name": "RtlAddVectoredContinueHandler",
         "rawType": "int64",
         "type": "integer"
        },
        {
         "name": "SetStdHandle",
         "rawType": "int64",
         "type": "integer"
        },
        {
         "name": "ReadCabinetState",
         "rawType": "int64",
         "type": "integer"
        },
        {
         "name": "GetVolumePathNameW",
         "rawType": "int64",
         "type": "integer"
        },
        {
         "name": "SetEndOfFile",
         "rawType": "int64",
         "type": "integer"
        },
        {
         "name": "RemoveDirectoryA",
         "rawType": "int64",
         "type": "integer"
        },
        {
         "name": "GetSystemDirectoryA",
         "rawType": "int64",
         "type": "integer"
        },
        {
         "name": "recv",
         "rawType": "int64",
         "type": "integer"
        },
        {
         "name": "DeleteUrlCacheEntryA",
         "rawType": "int64",
         "type": "integer"
        },
        {
         "name": "RegDeleteValueA",
         "rawType": "int64",
         "type": "integer"
        },
        {
         "name": "SendNotifyMessageA",
         "rawType": "int64",
         "type": "integer"
        },
        {
         "name": "send",
         "rawType": "int64",
         "type": "integer"
        },
        {
         "name": "GetSystemWindowsDirectoryA",
         "rawType": "int64",
         "type": "integer"
        },
        {
         "name": "NtTerminateThread",
         "rawType": "int64",
         "type": "integer"
        },
        {
         "name": "CopyFileA",
         "rawType": "int64",
         "type": "integer"
        },
        {
         "name": "Thread32First",
         "rawType": "int64",
         "type": "integer"
        },
        {
         "name": "NtSuspendThread",
         "rawType": "int64",
         "type": "integer"
        },
        {
         "name": "Thread32Next",
         "rawType": "int64",
         "type": "integer"
        },
        {
         "name": "Module32NextW",
         "rawType": "int64",
         "type": "integer"
        },
        {
         "name": "DnsQuery_A",
         "rawType": "int64",
         "type": "integer"
        },
        {
         "name": "GetAdaptersInfo",
         "rawType": "int64",
         "type": "integer"
        },
        {
         "name": "WSASocketA",
         "rawType": "int64",
         "type": "integer"
        },
        {
         "name": "GetDiskFreeSpaceW",
         "rawType": "int64",
         "type": "integer"
        },
        {
         "name": "InternetOpenUrlW",
         "rawType": "int64",
         "type": "integer"
        },
        {
         "name": "CreateRemoteThread",
         "rawType": "int64",
         "type": "integer"
        },
        {
         "name": "RegQueryInfoKeyA",
         "rawType": "int64",
         "type": "integer"
        },
        {
         "name": "RegisterHotKey",
         "rawType": "int64",
         "type": "integer"
        },
        {
         "name": "InternetSetStatusCallback",
         "rawType": "int64",
         "type": "integer"
        },
        {
         "name": "InternetGetConnectedState",
         "rawType": "int64",
         "type": "integer"
        },
        {
         "name": "SetFileInformationByHandle",
         "rawType": "int64",
         "type": "integer"
        },
        {
         "name": "CreateJobObjectW",
         "rawType": "int64",
         "type": "integer"
        },
        {
         "name": "NtDeleteKey",
         "rawType": "int64",
         "type": "integer"
        },
        {
         "name": "WriteConsoleA",
         "rawType": "int64",
         "type": "integer"
        },
        {
         "name": "CryptGenKey",
         "rawType": "int64",
         "type": "integer"
        },
        {
         "name": "OutputDebugStringA",
         "rawType": "int64",
         "type": "integer"
        },
        {
         "name": "CertOpenSystemStoreA",
         "rawType": "int64",
         "type": "integer"
        },
        {
         "name": "IWbemServices_ExecMethod",
         "rawType": "int64",
         "type": "integer"
        },
        {
         "name": "GetUserNameExA",
         "rawType": "int64",
         "type": "integer"
        },
        {
         "name": "HttpOpenRequestA",
         "rawType": "int64",
         "type": "integer"
        },
        {
         "name": "InternetConnectA",
         "rawType": "int64",
         "type": "integer"
        },
        {
         "name": "HttpSendRequestA",
         "rawType": "int64",
         "type": "integer"
        },
        {
         "name": "CreateServiceA",
         "rawType": "int64",
         "type": "integer"
        },
        {
         "name": "NtQueryFullAttributesFile",
         "rawType": "int64",
         "type": "integer"
        },
        {
         "name": "CryptProtectData",
         "rawType": "int64",
         "type": "integer"
        },
        {
         "name": "CryptDecodeObjectEx",
         "rawType": "int64",
         "type": "integer"
        },
        {
         "name": "RegDeleteKeyA",
         "rawType": "int64",
         "type": "integer"
        },
        {
         "name": "RegDeleteKeyW",
         "rawType": "int64",
         "type": "integer"
        },
        {
         "name": "InternetReadFile",
         "rawType": "int64",
         "type": "integer"
        },
        {
         "name": "WSAConnect",
         "rawType": "int64",
         "type": "integer"
        },
        {
         "name": "DeleteUrlCacheEntryW",
         "rawType": "int64",
         "type": "integer"
        },
        {
         "name": "__anomaly__",
         "rawType": "int64",
         "type": "integer"
        },
        {
         "name": "COleScript_Compile",
         "rawType": "int64",
         "type": "integer"
        },
        {
         "name": "CHyperlink_SetUrlComponent",
         "rawType": "int64",
         "type": "integer"
        },
        {
         "name": "NtWriteVirtualMemory",
         "rawType": "int64",
         "type": "integer"
        },
        {
         "name": "NtQueryMultipleValueKey",
         "rawType": "int64",
         "type": "integer"
        },
        {
         "name": "ActiveXObjectFncObj_Construct",
         "rawType": "int64",
         "type": "integer"
        },
        {
         "name": "RtlCreateUserThread",
         "rawType": "int64",
         "type": "integer"
        },
        {
         "name": "CertOpenStore",
         "rawType": "int64",
         "type": "integer"
        },
        {
         "name": "CertControlStore",
         "rawType": "int64",
         "type": "integer"
        },
        {
         "name": "SetInformationJobObject",
         "rawType": "int64",
         "type": "integer"
        },
        {
         "name": "AssignProcessToJobObject",
         "rawType": "int64",
         "type": "integer"
        },
        {
         "name": "listen",
         "rawType": "int64",
         "type": "integer"
        },
        {
         "name": "accept",
         "rawType": "int64",
         "type": "integer"
        },
        {
         "name": "DecryptMessage",
         "rawType": "int64",
         "type": "integer"
        },
        {
         "name": "EncryptMessage",
         "rawType": "int64",
         "type": "integer"
        },
        {
         "name": "NtLoadDriver",
         "rawType": "int64",
         "type": "integer"
        },
        {
         "name": "GetFileVersionInfoSizeExW",
         "rawType": "int64",
         "type": "integer"
        },
        {
         "name": "GetFileVersionInfoExW",
         "rawType": "int64",
         "type": "integer"
        },
        {
         "name": "InternetGetConnectedStateExW",
         "rawType": "int64",
         "type": "integer"
        },
        {
         "name": "WSARecvFrom",
         "rawType": "int64",
         "type": "integer"
        },
        {
         "name": "WSASendTo",
         "rawType": "int64",
         "type": "integer"
        },
        {
         "name": "WSARecv",
         "rawType": "int64",
         "type": "integer"
        },
        {
         "name": "WSASend",
         "rawType": "int64",
         "type": "integer"
        },
        {
         "name": "CryptProtectMemory",
         "rawType": "int64",
         "type": "integer"
        },
        {
         "name": "sendto",
         "rawType": "int64",
         "type": "integer"
        },
        {
         "name": "PRF",
         "rawType": "int64",
         "type": "integer"
        },
        {
         "name": "InternetWriteFile",
         "rawType": "int64",
         "type": "integer"
        },
        {
         "name": "NtDeleteValueKey",
         "rawType": "int64",
         "type": "integer"
        },
        {
         "name": "JsGlobalObjectDefaultEvalHelper",
         "rawType": "int64",
         "type": "integer"
        },
        {
         "name": "CertCreateCertificateContext",
         "rawType": "int64",
         "type": "integer"
        },
        {
         "name": "CreateDirectoryExW",
         "rawType": "int64",
         "type": "integer"
        },
        {
         "name": "recvfrom",
         "rawType": "int64",
         "type": "integer"
        },
        {
         "name": "CertOpenSystemStoreW",
         "rawType": "int64",
         "type": "integer"
        },
        {
         "name": "CryptUnprotectData",
         "rawType": "int64",
         "type": "integer"
        },
        {
         "name": "FindFirstFileExA",
         "rawType": "int64",
         "type": "integer"
        },
        {
         "name": "RtlDecompressBuffer",
         "rawType": "int64",
         "type": "integer"
        },
        {
         "name": "NetGetJoinInformation",
         "rawType": "int64",
         "type": "integer"
        },
        {
         "name": "NtCreateUserProcess",
         "rawType": "int64",
         "type": "integer"
        },
        {
         "name": "CryptUnprotectMemory",
         "rawType": "int64",
         "type": "integer"
        },
        {
         "name": "OleConvertOLESTREAMToIStorage",
         "rawType": "int64",
         "type": "integer"
        },
        {
         "name": "DnsQuery_W",
         "rawType": "int64",
         "type": "integer"
        },
        {
         "name": "NtDeleteFile",
         "rawType": "int64",
         "type": "integer"
        },
        {
         "name": "ExitWindowsEx",
         "rawType": "int64",
         "type": "integer"
        },
        {
         "name": "DnsQuery_UTF8",
         "rawType": "int64",
         "type": "integer"
        },
        {
         "name": "CreateRemoteThreadEx",
         "rawType": "int64",
         "type": "integer"
        },
        {
         "name": "NtCreateDirectoryObject",
         "rawType": "int64",
         "type": "integer"
        },
        {
         "name": "EnumServicesStatusA",
         "rawType": "int64",
         "type": "integer"
        },
        {
         "name": "NtShutdownSystem",
         "rawType": "int64",
         "type": "integer"
        },
        {
         "name": "NtCreateProcessEx",
         "rawType": "int64",
         "type": "integer"
        },
        {
         "name": "NotifyBootConfigStatus",
         "rawType": "int64",
         "type": "integer"
        },
        {
         "name": "NtSaveKey",
         "rawType": "int64",
         "type": "integer"
        },
        {
         "name": "system",
         "rawType": "int64",
         "type": "integer"
        },
        {
         "name": "WNetGetProviderNameW",
         "rawType": "int64",
         "type": "integer"
        },
        {
         "name": "OUTPUT",
         "rawType": "int64",
         "type": "integer"
        }
       ],
       "ref": "64a47b94-54c3-45d0-8be9-a0ae223a57be",
       "rows": [
        [
         "0",
         "0",
         "0",
         "0",
         "0",
         "0",
         "2",
         "0",
         "0",
         "0",
         "0",
         "1",
         "7",
         "0",
         "0",
         "0",
         "0",
         "0",
         "17",
         "1",
         "0",
         "0",
         "0",
         "7",
         "8",
         "10",
         "0",
         "0",
         "0",
         "0",
         "0",
         "0",
         "1",
         "0",
         "0",
         "21",
         "2",
         "0",
         "0",
         "0",
         "0",
         "2",
         "0",
         "2",
         "0",
         "573",
         "0",
         "0",
         "0",
         "25",
         "0",
         "2",
         "0",
         "1",
         "0",
         "4",
         "0",
         "0",
         "0",
         "1",
         "0",
         "0",
         "0",
         "0",
         "0",
         "0",
         "0",
         "0",
         "0",
         "0",
         "0",
         "0",
         "0",
         "0",
         "0",
         "0",
         "0",
         "0",
         "0",
         "0",
         "0",
         "1",
         "0",
         "0",
         "1",
         "0",
         "0",
         "0",
         "0",
         "0",
         "0",
         "0",
         "0",
         "0",
         "0",
         "1",
         "4",
         "0",
         "0",
         "0",
         "0",
         "0",
         "0",
         "0",
         "205",
         "0",
         "22",
         "1",
         "1",
         "2",
         "2",
         "0",
         "0",
         "0",
         "0",
         "0",
         "0",
         "0",
         "0",
         "0",
         "0",
         "0",
         "0",
         "0",
         "0",
         "0",
         "0",
         "0",
         "0",
         "0",
         "0",
         "0",
         "0",
         "0",
         "0",
         "0",
         "0",
         "0",
         "0",
         "0",
         "0",
         "0",
         "0",
         "0",
         "0",
         "0",
         "0",
         "0",
         "0",
         "0",
         "0",
         "0",
         "0",
         "0",
         "0",
         "0",
         "0",
         "0",
         "0",
         "0",
         "0",
         "0",
         "0",
         "0",
         "0",
         "0",
         "0",
         "0",
         "0",
         "0",
         "0",
         "0",
         "0",
         "0",
         "0",
         "0",
         "0",
         "0",
         "0",
         "0",
         "0",
         "0",
         "0",
         "0",
         "0",
         "0",
         "0",
         "0",
         "0",
         "0",
         "0",
         "0",
         "0",
         "0",
         "0",
         "0",
         "0",
         "0",
         "0",
         "0",
         "0",
         "0",
         "0",
         "0",
         "0",
         "0",
         "0",
         "0",
         "0",
         "0",
         "0",
         "0",
         "0",
         "0",
         "0",
         "0",
         "0",
         "0",
         "0",
         "0",
         "0",
         "0",
         "0",
         "0",
         "0",
         "0",
         "0",
         "0",
         "0",
         "0",
         "0",
         "0",
         "0",
         "0",
         "0",
         "0",
         "0",
         "0",
         "0",
         "0",
         "0",
         "0",
         "0",
         "0",
         "0",
         "0",
         "0",
         "0",
         "0",
         "0",
         "0",
         "0",
         "0",
         "0",
         "0",
         "0",
         "0",
         "0",
         "0",
         "0",
         "0",
         "0",
         "0",
         "0",
         "0",
         "0",
         "0",
         "0",
         "0",
         "0",
         "0",
         "0",
         "0",
         "0",
         "0",
         "0",
         "0",
         "0",
         "0",
         "0",
         "0",
         "0",
         "0",
         "0",
         "0",
         "0",
         "0",
         "0",
         "0",
         "0",
         "0",
         "0",
         "0",
         "0",
         "0",
         "0",
         "0",
         "0",
         "0",
         "0",
         "0",
         "0",
         "0",
         "0",
         "0",
         "0",
         "0",
         "0",
         "0",
         "0",
         "0",
         "0",
         "1"
        ],
        [
         "1",
         "2",
         "2",
         "0",
         "10",
         "0",
         "4",
         "1",
         "0",
         "0",
         "1",
         "1",
         "28",
         "1",
         "0",
         "5",
         "0",
         "0",
         "60",
         "3",
         "0",
         "0",
         "24",
         "16",
         "3",
         "12",
         "0",
         "0",
         "0",
         "0",
         "2",
         "0",
         "1",
         "0",
         "0",
         "26",
         "6",
         "0",
         "0",
         "0",
         "0",
         "2",
         "5",
         "5",
         "1",
         "112",
         "1",
         "0",
         "0",
         "5",
         "0",
         "2",
         "0",
         "0",
         "0",
         "0",
         "0",
         "0",
         "0",
         "1",
         "0",
         "0",
         "0",
         "0",
         "0",
         "0",
         "0",
         "0",
         "0",
         "0",
         "0",
         "0",
         "0",
         "0",
         "0",
         "0",
         "0",
         "0",
         "0",
         "28",
         "0",
         "0",
         "1",
         "0",
         "1",
         "0",
         "0",
         "0",
         "0",
         "0",
         "0",
         "0",
         "0",
         "0",
         "0",
         "1",
         "4",
         "0",
         "0",
         "0",
         "0",
         "0",
         "0",
         "2",
         "112",
         "0",
         "25",
         "1",
         "1",
         "1",
         "2",
         "0",
         "0",
         "0",
         "0",
         "0",
         "0",
         "0",
         "0",
         "0",
         "0",
         "0",
         "0",
         "0",
         "0",
         "0",
         "0",
         "0",
         "0",
         "0",
         "0",
         "0",
         "0",
         "0",
         "0",
         "0",
         "0",
         "0",
         "0",
         "0",
         "0",
         "0",
         "0",
         "0",
         "0",
         "0",
         "0",
         "1",
         "1",
         "65",
         "1",
         "1",
         "1",
         "0",
         "0",
         "0",
         "0",
         "0",
         "0",
         "0",
         "0",
         "0",
         "0",
         "0",
         "0",
         "0",
         "0",
         "0",
         "0",
         "0",
         "0",
         "0",
         "0",
         "0",
         "0",
         "0",
         "0",
         "0",
         "0",
         "0",
         "0",
         "0",
         "0",
         "0",
         "0",
         "0",
         "0",
         "0",
         "0",
         "0",
         "0",
         "0",
         "0",
         "0",
         "0",
         "0",
         "0",
         "0",
         "0",
         "0",
         "0",
         "0",
         "0",
         "0",
         "0",
         "0",
         "0",
         "0",
         "0",
         "0",
         "0",
         "0",
         "0",
         "0",
         "0",
         "0",
         "0",
         "0",
         "0",
         "0",
         "0",
         "0",
         "0",
         "0",
         "0",
         "0",
         "0",
         "0",
         "0",
         "0",
         "0",
         "0",
         "0",
         "0",
         "0",
         "0",
         "0",
         "0",
         "0",
         "0",
         "0",
         "0",
         "0",
         "0",
         "0",
         "0",
         "0",
         "0",
         "0",
         "0",
         "0",
         "0",
         "0",
         "0",
         "0",
         "0",
         "0",
         "0",
         "0",
         "0",
         "0",
         "0",
         "0",
         "0",
         "0",
         "0",
         "0",
         "0",
         "0",
         "0",
         "0",
         "0",
         "0",
         "0",
         "0",
         "0",
         "0",
         "0",
         "0",
         "0",
         "0",
         "0",
         "0",
         "0",
         "0",
         "0",
         "0",
         "0",
         "0",
         "0",
         "0",
         "0",
         "0",
         "0",
         "0",
         "0",
         "0",
         "0",
         "0",
         "0",
         "0",
         "0",
         "0",
         "0",
         "0",
         "0",
         "0",
         "0",
         "0",
         "0",
         "0",
         "0",
         "1"
        ],
        [
         "2",
         "5",
         "2",
         "2",
         "96",
         "2",
         "15",
         "3",
         "116",
         "2",
         "1",
         "1",
         "46",
         "3",
         "1",
         "8",
         "1",
         "174",
         "84",
         "3",
         "1",
         "0",
         "92",
         "24",
         "4",
         "46",
         "1",
         "1",
         "3",
         "1",
         "2",
         "1",
         "5",
         "1",
         "3",
         "2",
         "5",
         "6",
         "1",
         "1",
         "13",
         "2",
         "5",
         "7",
         "1",
         "2487",
         "3",
         "28",
         "33",
         "17",
         "1",
         "12",
         "0",
         "0",
         "1",
         "0",
         "0",
         "0",
         "0",
         "1",
         "0",
         "0",
         "4",
         "0",
         "0",
         "0",
         "0",
         "0",
         "0",
         "0",
         "0",
         "0",
         "0",
         "0",
         "0",
         "0",
         "0",
         "0",
         "0",
         "0",
         "0",
         "0",
         "0",
         "0",
         "1",
         "0",
         "0",
         "0",
         "0",
         "0",
         "1",
         "0",
         "0",
         "0",
         "0",
         "0",
         "0",
         "0",
         "0",
         "0",
         "0",
         "0",
         "0",
         "0",
         "0",
         "0",
         "0",
         "0",
         "0",
         "0",
         "0",
         "0",
         "0",
         "0",
         "0",
         "0",
         "0",
         "0",
         "0",
         "0",
         "0",
         "0",
         "0",
         "0",
         "0",
         "0",
         "0",
         "0",
         "0",
         "0",
         "0",
         "0",
         "0",
         "0",
         "0",
         "0",
         "0",
         "0",
         "0",
         "0",
         "0",
         "0",
         "0",
         "0",
         "0",
         "0",
         "0",
         "0",
         "0",
         "0",
         "0",
         "0",
         "0",
         "0",
         "0",
         "0",
         "0",
         "0",
         "0",
         "0",
         "0",
         "0",
         "0",
         "0",
         "0",
         "0",
         "0",
         "0",
         "0",
         "0",
         "0",
         "0",
         "0",
         "0",
         "0",
         "0",
         "0",
         "0",
         "0",
         "0",
         "0",
         "0",
         "0",
         "0",
         "0",
         "0",
         "0",
         "0",
         "0",
         "0",
         "0",
         "0",
         "0",
         "0",
         "0",
         "0",
         "0",
         "0",
         "0",
         "0",
         "0",
         "0",
         "0",
         "0",
         "0",
         "0",
         "0",
         "0",
         "0",
         "0",
         "0",
         "0",
         "0",
         "0",
         "0",
         "0",
         "0",
         "0",
         "0",
         "0",
         "0",
         "0",
         "0",
         "0",
         "0",
         "0",
         "0",
         "0",
         "0",
         "0",
         "0",
         "0",
         "0",
         "0",
         "0",
         "0",
         "0",
         "0",
         "0",
         "0",
         "0",
         "0",
         "0",
         "0",
         "0",
         "0",
         "0",
         "0",
         "0",
         "0",
         "0",
         "0",
         "0",
         "0",
         "0",
         "0",
         "0",
         "0",
         "0",
         "0",
         "0",
         "0",
         "0",
         "0",
         "0",
         "0",
         "0",
         "0",
         "0",
         "0",
         "0",
         "0",
         "0",
         "0",
         "0",
         "0",
         "0",
         "0",
         "0",
         "0",
         "0",
         "0",
         "0",
         "0",
         "0",
         "0",
         "0",
         "0",
         "0",
         "0",
         "0",
         "0",
         "0",
         "0",
         "0",
         "0",
         "0",
         "0",
         "0",
         "0",
         "0",
         "0",
         "0",
         "0",
         "0",
         "0",
         "0",
         "0",
         "0",
         "0",
         "0",
         "0",
         "1"
        ],
        [
         "3",
         "9",
         "13",
         "5",
         "662",
         "37",
         "0",
         "0",
         "405",
         "0",
         "1",
         "11",
         "466",
         "2",
         "0",
         "631",
         "0",
         "21",
         "11",
         "8",
         "1",
         "2",
         "422",
         "258",
         "409",
         "20",
         "0",
         "3",
         "4",
         "4",
         "8",
         "5",
         "3",
         "0",
         "2",
         "14",
         "141",
         "21",
         "1",
         "8",
         "6",
         "4",
         "22",
         "28",
         "1",
         "197",
         "2",
         "0",
         "0",
         "61",
         "6",
         "18",
         "0",
         "15",
         "1573",
         "18",
         "0",
         "0",
         "0",
         "339",
         "0",
         "1",
         "0",
         "0",
         "1",
         "0",
         "0",
         "8",
         "0",
         "0",
         "0",
         "0",
         "0",
         "0",
         "0",
         "0",
         "326",
         "3",
         "1",
         "12",
         "0",
         "14",
         "0",
         "6",
         "3",
         "0",
         "0",
         "3",
         "2",
         "0",
         "5",
         "2",
         "2",
         "3",
         "5",
         "0",
         "2",
         "0",
         "4",
         "0",
         "2",
         "0",
         "0",
         "0",
         "0",
         "1",
         "16",
         "0",
         "7",
         "1",
         "1",
         "0",
         "5",
         "2",
         "0",
         "0",
         "1",
         "0",
         "0",
         "0",
         "0",
         "8",
         "0",
         "0",
         "2",
         "4",
         "8",
         "0",
         "0",
         "0",
         "0",
         "0",
         "1",
         "4",
         "0",
         "2",
         "0",
         "0",
         "0",
         "0",
         "4",
         "1",
         "1",
         "0",
         "1",
         "0",
         "0",
         "0",
         "0",
         "0",
         "21",
         "20",
         "0",
         "0",
         "2",
         "0",
         "0",
         "0",
         "0",
         "0",
         "0",
         "0",
         "0",
         "0",
         "0",
         "0",
         "223",
         "0",
         "0",
         "1",
         "0",
         "0",
         "0",
         "0",
         "0",
         "0",
         "0",
         "0",
         "2",
         "1",
         "1",
         "1",
         "1",
         "1",
         "1",
         "1",
         "0",
         "0",
         "0",
         "0",
         "0",
         "0",
         "0",
         "0",
         "0",
         "0",
         "0",
         "0",
         "0",
         "0",
         "0",
         "0",
         "0",
         "0",
         "0",
         "0",
         "0",
         "0",
         "0",
         "0",
         "0",
         "0",
         "0",
         "0",
         "0",
         "0",
         "0",
         "0",
         "0",
         "0",
         "0",
         "0",
         "0",
         "0",
         "0",
         "0",
         "0",
         "0",
         "0",
         "0",
         "0",
         "0",
         "0",
         "0",
         "0",
         "0",
         "0",
         "0",
         "0",
         "0",
         "0",
         "0",
         "0",
         "0",
         "0",
         "0",
         "0",
         "0",
         "0",
         "0",
         "0",
         "0",
         "0",
         "0",
         "0",
         "0",
         "0",
         "0",
         "0",
         "0",
         "0",
         "0",
         "0",
         "0",
         "0",
         "0",
         "0",
         "0",
         "0",
         "0",
         "0",
         "0",
         "0",
         "0",
         "0",
         "0",
         "0",
         "0",
         "0",
         "0",
         "0",
         "0",
         "0",
         "0",
         "0",
         "0",
         "0",
         "0",
         "0",
         "0",
         "0",
         "0",
         "0",
         "0",
         "0",
         "0",
         "0",
         "0",
         "0",
         "0",
         "0",
         "0",
         "0",
         "0",
         "0",
         "0",
         "0",
         "0",
         "0",
         "0",
         "0",
         "0",
         "1"
        ],
        [
         "4",
         "3",
         "2",
         "2",
         "94",
         "3",
         "17",
         "4",
         "116",
         "2",
         "1",
         "1",
         "71",
         "2",
         "1",
         "8",
         "1",
         "174",
         "53",
         "2",
         "1",
         "1",
         "92",
         "24",
         "4",
         "17",
         "1",
         "1",
         "3",
         "1",
         "7",
         "1",
         "4",
         "1",
         "2",
         "2",
         "1",
         "7",
         "1",
         "1",
         "5",
         "2",
         "5",
         "5",
         "1",
         "475",
         "2",
         "28",
         "33",
         "21",
         "3",
         "11",
         "0",
         "0",
         "0",
         "0",
         "0",
         "0",
         "0",
         "0",
         "0",
         "0",
         "0",
         "0",
         "0",
         "0",
         "0",
         "0",
         "0",
         "0",
         "0",
         "0",
         "0",
         "0",
         "0",
         "0",
         "0",
         "0",
         "0",
         "0",
         "0",
         "0",
         "0",
         "0",
         "0",
         "0",
         "0",
         "0",
         "0",
         "0",
         "0",
         "0",
         "0",
         "0",
         "0",
         "0",
         "0",
         "0",
         "0",
         "0",
         "0",
         "0",
         "0",
         "0",
         "0",
         "0",
         "0",
         "0",
         "0",
         "0",
         "0",
         "0",
         "0",
         "0",
         "0",
         "0",
         "0",
         "0",
         "0",
         "0",
         "0",
         "0",
         "0",
         "0",
         "0",
         "0",
         "0",
         "0",
         "0",
         "0",
         "0",
         "0",
         "0",
         "0",
         "0",
         "0",
         "0",
         "0",
         "0",
         "0",
         "0",
         "0",
         "0",
         "0",
         "0",
         "0",
         "0",
         "0",
         "0",
         "0",
         "0",
         "0",
         "0",
         "0",
         "0",
         "0",
         "0",
         "0",
         "0",
         "0",
         "0",
         "0",
         "0",
         "0",
         "0",
         "0",
         "0",
         "0",
         "0",
         "0",
         "0",
         "0",
         "0",
         "0",
         "0",
         "0",
         "0",
         "0",
         "0",
         "0",
         "0",
         "0",
         "0",
         "0",
         "0",
         "0",
         "0",
         "0",
         "0",
         "0",
         "0",
         "0",
         "0",
         "0",
         "0",
         "0",
         "0",
         "0",
         "0",
         "0",
         "0",
         "0",
         "0",
         "0",
         "0",
         "0",
         "0",
         "0",
         "0",
         "0",
         "0",
         "0",
         "0",
         "0",
         "0",
         "0",
         "0",
         "0",
         "0",
         "0",
         "0",
         "0",
         "0",
         "0",
         "0",
         "0",
         "0",
         "0",
         "0",
         "0",
         "0",
         "0",
         "0",
         "0",
         "0",
         "0",
         "0",
         "0",
         "0",
         "0",
         "0",
         "0",
         "0",
         "0",
         "0",
         "0",
         "0",
         "0",
         "0",
         "0",
         "0",
         "0",
         "0",
         "0",
         "0",
         "0",
         "0",
         "0",
         "0",
         "0",
         "0",
         "0",
         "0",
         "0",
         "0",
         "0",
         "0",
         "0",
         "0",
         "0",
         "0",
         "0",
         "0",
         "0",
         "0",
         "0",
         "0",
         "0",
         "0",
         "0",
         "0",
         "0",
         "0",
         "0",
         "0",
         "0",
         "0",
         "0",
         "0",
         "0",
         "0",
         "0",
         "0",
         "0",
         "0",
         "0",
         "0",
         "0",
         "0",
         "0",
         "0",
         "0",
         "0",
         "0",
         "0",
         "0",
         "0",
         "0",
         "0",
         "0",
         "0",
         "0",
         "1"
        ]
       ],
       "shape": {
        "columns": 312,
        "rows": 5
       }
      },
      "text/html": [
       "<div>\n",
       "<style scoped>\n",
       "    .dataframe tbody tr th:only-of-type {\n",
       "        vertical-align: middle;\n",
       "    }\n",
       "\n",
       "    .dataframe tbody tr th {\n",
       "        vertical-align: top;\n",
       "    }\n",
       "\n",
       "    .dataframe thead th {\n",
       "        text-align: right;\n",
       "    }\n",
       "</style>\n",
       "<table border=\"1\" class=\"dataframe\">\n",
       "  <thead>\n",
       "    <tr style=\"text-align: right;\">\n",
       "      <th></th>\n",
       "      <th>NtDuplicateObject</th>\n",
       "      <th>NtOpenSection</th>\n",
       "      <th>CoUninitialize</th>\n",
       "      <th>RegCloseKey</th>\n",
       "      <th>LdrUnloadDll</th>\n",
       "      <th>DrawTextExW</th>\n",
       "      <th>GetSystemInfo</th>\n",
       "      <th>RegQueryValueExA</th>\n",
       "      <th>getaddrinfo</th>\n",
       "      <th>WSAStartup</th>\n",
       "      <th>...</th>\n",
       "      <th>CreateRemoteThreadEx</th>\n",
       "      <th>NtCreateDirectoryObject</th>\n",
       "      <th>EnumServicesStatusA</th>\n",
       "      <th>NtShutdownSystem</th>\n",
       "      <th>NtCreateProcessEx</th>\n",
       "      <th>NotifyBootConfigStatus</th>\n",
       "      <th>NtSaveKey</th>\n",
       "      <th>system</th>\n",
       "      <th>WNetGetProviderNameW</th>\n",
       "      <th>OUTPUT</th>\n",
       "    </tr>\n",
       "  </thead>\n",
       "  <tbody>\n",
       "    <tr>\n",
       "      <th>0</th>\n",
       "      <td>0</td>\n",
       "      <td>0</td>\n",
       "      <td>0</td>\n",
       "      <td>0</td>\n",
       "      <td>0</td>\n",
       "      <td>2</td>\n",
       "      <td>0</td>\n",
       "      <td>0</td>\n",
       "      <td>0</td>\n",
       "      <td>0</td>\n",
       "      <td>...</td>\n",
       "      <td>0</td>\n",
       "      <td>0</td>\n",
       "      <td>0</td>\n",
       "      <td>0</td>\n",
       "      <td>0</td>\n",
       "      <td>0</td>\n",
       "      <td>0</td>\n",
       "      <td>0</td>\n",
       "      <td>0</td>\n",
       "      <td>1</td>\n",
       "    </tr>\n",
       "    <tr>\n",
       "      <th>1</th>\n",
       "      <td>2</td>\n",
       "      <td>2</td>\n",
       "      <td>0</td>\n",
       "      <td>10</td>\n",
       "      <td>0</td>\n",
       "      <td>4</td>\n",
       "      <td>1</td>\n",
       "      <td>0</td>\n",
       "      <td>0</td>\n",
       "      <td>1</td>\n",
       "      <td>...</td>\n",
       "      <td>0</td>\n",
       "      <td>0</td>\n",
       "      <td>0</td>\n",
       "      <td>0</td>\n",
       "      <td>0</td>\n",
       "      <td>0</td>\n",
       "      <td>0</td>\n",
       "      <td>0</td>\n",
       "      <td>0</td>\n",
       "      <td>1</td>\n",
       "    </tr>\n",
       "    <tr>\n",
       "      <th>2</th>\n",
       "      <td>5</td>\n",
       "      <td>2</td>\n",
       "      <td>2</td>\n",
       "      <td>96</td>\n",
       "      <td>2</td>\n",
       "      <td>15</td>\n",
       "      <td>3</td>\n",
       "      <td>116</td>\n",
       "      <td>2</td>\n",
       "      <td>1</td>\n",
       "      <td>...</td>\n",
       "      <td>0</td>\n",
       "      <td>0</td>\n",
       "      <td>0</td>\n",
       "      <td>0</td>\n",
       "      <td>0</td>\n",
       "      <td>0</td>\n",
       "      <td>0</td>\n",
       "      <td>0</td>\n",
       "      <td>0</td>\n",
       "      <td>1</td>\n",
       "    </tr>\n",
       "    <tr>\n",
       "      <th>3</th>\n",
       "      <td>9</td>\n",
       "      <td>13</td>\n",
       "      <td>5</td>\n",
       "      <td>662</td>\n",
       "      <td>37</td>\n",
       "      <td>0</td>\n",
       "      <td>0</td>\n",
       "      <td>405</td>\n",
       "      <td>0</td>\n",
       "      <td>1</td>\n",
       "      <td>...</td>\n",
       "      <td>0</td>\n",
       "      <td>0</td>\n",
       "      <td>0</td>\n",
       "      <td>0</td>\n",
       "      <td>0</td>\n",
       "      <td>0</td>\n",
       "      <td>0</td>\n",
       "      <td>0</td>\n",
       "      <td>0</td>\n",
       "      <td>1</td>\n",
       "    </tr>\n",
       "    <tr>\n",
       "      <th>4</th>\n",
       "      <td>3</td>\n",
       "      <td>2</td>\n",
       "      <td>2</td>\n",
       "      <td>94</td>\n",
       "      <td>3</td>\n",
       "      <td>17</td>\n",
       "      <td>4</td>\n",
       "      <td>116</td>\n",
       "      <td>2</td>\n",
       "      <td>1</td>\n",
       "      <td>...</td>\n",
       "      <td>0</td>\n",
       "      <td>0</td>\n",
       "      <td>0</td>\n",
       "      <td>0</td>\n",
       "      <td>0</td>\n",
       "      <td>0</td>\n",
       "      <td>0</td>\n",
       "      <td>0</td>\n",
       "      <td>0</td>\n",
       "      <td>1</td>\n",
       "    </tr>\n",
       "  </tbody>\n",
       "</table>\n",
       "<p>5 rows × 312 columns</p>\n",
       "</div>"
      ],
      "text/plain": [
       "   NtDuplicateObject  NtOpenSection  CoUninitialize  RegCloseKey  \\\n",
       "0                  0              0               0            0   \n",
       "1                  2              2               0           10   \n",
       "2                  5              2               2           96   \n",
       "3                  9             13               5          662   \n",
       "4                  3              2               2           94   \n",
       "\n",
       "   LdrUnloadDll  DrawTextExW  GetSystemInfo  RegQueryValueExA  getaddrinfo  \\\n",
       "0             0            2              0                 0            0   \n",
       "1             0            4              1                 0            0   \n",
       "2             2           15              3               116            2   \n",
       "3            37            0              0               405            0   \n",
       "4             3           17              4               116            2   \n",
       "\n",
       "   WSAStartup  ...  CreateRemoteThreadEx  NtCreateDirectoryObject  \\\n",
       "0           0  ...                     0                        0   \n",
       "1           1  ...                     0                        0   \n",
       "2           1  ...                     0                        0   \n",
       "3           1  ...                     0                        0   \n",
       "4           1  ...                     0                        0   \n",
       "\n",
       "   EnumServicesStatusA  NtShutdownSystem  NtCreateProcessEx  \\\n",
       "0                    0                 0                  0   \n",
       "1                    0                 0                  0   \n",
       "2                    0                 0                  0   \n",
       "3                    0                 0                  0   \n",
       "4                    0                 0                  0   \n",
       "\n",
       "   NotifyBootConfigStatus  NtSaveKey  system  WNetGetProviderNameW  OUTPUT  \n",
       "0                       0          0       0                     0       1  \n",
       "1                       0          0       0                     0       1  \n",
       "2                       0          0       0                     0       1  \n",
       "3                       0          0       0                     0       1  \n",
       "4                       0          0       0                     0       1  \n",
       "\n",
       "[5 rows x 312 columns]"
      ]
     },
     "execution_count": 2,
     "metadata": {},
     "output_type": "execute_result"
    }
   ],
   "source": [
    "df = pd.read_csv(\"anti-malware .csv\")\n",
    "df.head()"
   ]
  },
  {
   "cell_type": "code",
   "execution_count": 6,
   "id": "52e68157",
   "metadata": {},
   "outputs": [
    {
     "name": "stdout",
     "output_type": "stream",
     "text": [
      "<class 'pandas.core.frame.DataFrame'>\n",
      "RangeIndex: 11261 entries, 0 to 11260\n",
      "Columns: 312 entries, NtDuplicateObject to OUTPUT\n",
      "dtypes: int64(312)\n",
      "memory usage: 26.8 MB\n"
     ]
    }
   ],
   "source": [
    "df.info()"
   ]
  },
  {
   "cell_type": "code",
   "execution_count": 3,
   "id": "c0994736",
   "metadata": {},
   "outputs": [
    {
     "data": {
      "application/vnd.microsoft.datawrangler.viewer.v0+json": {
       "columns": [
        {
         "name": "index",
         "rawType": "object",
         "type": "string"
        },
        {
         "name": "0",
         "rawType": "int64",
         "type": "integer"
        }
       ],
       "ref": "19bcd521-b9cc-43f8-8b24-12665cc2aa55",
       "rows": [
        [
         "NtDuplicateObject",
         "0"
        ],
        [
         "NtOpenSection",
         "0"
        ],
        [
         "CoUninitialize",
         "0"
        ],
        [
         "RegCloseKey",
         "0"
        ],
        [
         "LdrUnloadDll",
         "0"
        ],
        [
         "DrawTextExW",
         "0"
        ],
        [
         "GetSystemInfo",
         "0"
        ],
        [
         "RegQueryValueExA",
         "0"
        ],
        [
         "getaddrinfo",
         "0"
        ],
        [
         "WSAStartup",
         "0"
        ],
        [
         "GetSystemWindowsDirectoryW",
         "0"
        ],
        [
         "NtClose",
         "0"
        ],
        [
         "GetFileVersionInfoSizeW",
         "0"
        ],
        [
         "MessageBoxTimeoutA",
         "0"
        ],
        [
         "RegQueryValueExW",
         "0"
        ],
        [
         "NtOpenDirectoryObject",
         "0"
        ],
        [
         "RegEnumKeyW",
         "0"
        ],
        [
         "GetSystemMetrics",
         "0"
        ],
        [
         "NtMapViewOfSection",
         "0"
        ],
        [
         "NtCreateThreadEx",
         "0"
        ],
        [
         "CreateActCtxW",
         "0"
        ],
        [
         "RegOpenKeyExW",
         "0"
        ],
        [
         "NtAllocateVirtualMemory",
         "0"
        ],
        [
         "RegOpenKeyExA",
         "0"
        ],
        [
         "LdrGetDllHandle",
         "0"
        ],
        [
         "NtQuerySystemInformation",
         "0"
        ],
        [
         "NtResumeThread",
         "0"
        ],
        [
         "GetUserNameW",
         "0"
        ],
        [
         "CreateThread",
         "0"
        ],
        [
         "NtUnmapViewOfSection",
         "0"
        ],
        [
         "CoCreateInstance",
         "0"
        ],
        [
         "GetSystemDirectoryW",
         "0"
        ],
        [
         "CryptAcquireContextW",
         "0"
        ],
        [
         "SetUnhandledExceptionFilter",
         "0"
        ],
        [
         "FindResourceExW",
         "0"
        ],
        [
         "NtFreeVirtualMemory",
         "0"
        ],
        [
         "GetSystemTimeAsFileTime",
         "0"
        ],
        [
         "CryptDecrypt",
         "0"
        ],
        [
         "NtCreateMutant",
         "0"
        ],
        [
         "NtProtectVirtualMemory",
         "0"
        ],
        [
         "CoInitializeEx",
         "0"
        ],
        [
         "LoadStringW",
         "0"
        ],
        [
         "NtOpenKey",
         "0"
        ],
        [
         "NtOpenMutant",
         "0"
        ],
        [
         "LdrGetProcedureAddress",
         "0"
        ],
        [
         "GetFileVersionInfoW",
         "0"
        ],
        [
         "NtEnumerateKey",
         "0"
        ],
        [
         "NtOpenKeyEx",
         "0"
        ],
        [
         "LdrLoadDll",
         "0"
        ],
        [
         "NtTerminateProcess",
         "0"
        ]
       ],
       "shape": {
        "columns": 1,
        "rows": 312
       }
      },
      "text/plain": [
       "NtDuplicateObject         0\n",
       "NtOpenSection             0\n",
       "CoUninitialize            0\n",
       "RegCloseKey               0\n",
       "LdrUnloadDll              0\n",
       "                         ..\n",
       "NotifyBootConfigStatus    0\n",
       "NtSaveKey                 0\n",
       "system                    0\n",
       "WNetGetProviderNameW      0\n",
       "OUTPUT                    0\n",
       "Length: 312, dtype: int64"
      ]
     },
     "execution_count": 3,
     "metadata": {},
     "output_type": "execute_result"
    }
   ],
   "source": [
    "df.dropna(inplace=True)\n",
    "#checking the null values again\n",
    "df.isnull().sum()"
   ]
  },
  {
   "cell_type": "code",
   "execution_count": 4,
   "id": "4552431c",
   "metadata": {},
   "outputs": [
    {
     "data": {
      "text/plain": [
       "0"
      ]
     },
     "execution_count": 4,
     "metadata": {},
     "output_type": "execute_result"
    }
   ],
   "source": [
    "#dropping the duplicate\n",
    "df.drop_duplicates(inplace=True)\n",
    "df.duplicated().sum()"
   ]
  },
  {
   "cell_type": "code",
   "execution_count": 5,
   "id": "5d8e14b6",
   "metadata": {},
   "outputs": [],
   "source": [
    "x = df.drop(columns=['OUTPUT'], axis=1)\n",
    "y = df['OUTPUT']\n",
    "X_train, X_test, y_train, y_test = train_test_split(x, y, test_size=0.2, random_state=42)"
   ]
  },
  {
   "cell_type": "code",
   "execution_count": 6,
   "id": "c8aea8d9",
   "metadata": {},
   "outputs": [],
   "source": [
    "stn = StandardScaler()\n",
    "X_train = stn.fit_transform(X_train)"
   ]
  },
  {
   "cell_type": "code",
   "execution_count": 7,
   "id": "f5b1d38f",
   "metadata": {},
   "outputs": [],
   "source": [
    "smote = SMOTE(random_state=42)\n",
    "X_train_smote, y_train_smote = smote.fit_resample(X_train, y_train)"
   ]
  },
  {
   "cell_type": "code",
   "execution_count": 8,
   "id": "ea091882",
   "metadata": {},
   "outputs": [
    {
     "name": "stderr",
     "output_type": "stream",
     "text": [
      "C:\\Users\\USer\\AppData\\Roaming\\Python\\Python38\\site-packages\\sklearn\\base.py:458: UserWarning: X has feature names, but LogisticRegression was fitted without feature names\n",
      "  warnings.warn(\n"
     ]
    },
    {
     "data": {
      "image/png": "[encoded data removed]",
      "text/plain": [
       "<Figure size 432x288 with 2 Axes>"
      ]
     },
     "metadata": {
      "needs_background": "light"
     },
     "output_type": "display_data"
    },
    {
     "name": "stdout",
     "output_type": "stream",
     "text": [
      "              precision    recall  f1-score   support\n",
      "\n",
      "           0       0.25      0.03      0.06       128\n",
      "           1       0.93      0.99      0.96      1637\n",
      "\n",
      "    accuracy                           0.92      1765\n",
      "   macro avg       0.59      0.51      0.51      1765\n",
      "weighted avg       0.88      0.92      0.89      1765\n",
      "\n"
     ]
    }
   ],
   "source": [
    "lg = LogisticRegression(\n",
    "    class_weight='balanced',\n",
    "    max_iter=1000,\n",
    "    random_state=42)\n",
    "lg.fit(X_train_smote, y_train_smote)\n",
    "ypred_lg = lg.predict(X_test)\n",
    "\n",
    "cm_lg = confusion_matrix(y_test, ypred_lg)\n",
    "cm_lg_disp = ConfusionMatrixDisplay(cm_lg)\n",
    "cm_lg_disp.plot(cmap=plt.cm.Blues)\n",
    "plt.title(\"Logistic Regression Confusion Matrix\")\n",
    "plt.show()\n",
    "\n",
    "print(classification_report(y_test, ypred_lg))"
   ]
  },
  {
   "cell_type": "code",
   "execution_count": 9,
   "id": "8787856d",
   "metadata": {},
   "outputs": [
    {
     "name": "stderr",
     "output_type": "stream",
     "text": [
      "C:\\Users\\USer\\AppData\\Roaming\\Python\\Python38\\site-packages\\sklearn\\base.py:458: UserWarning: X has feature names, but GaussianNB was fitted without feature names\n",
      "  warnings.warn(\n"
     ]
    },
    {
     "data": {
      "image/png": "[encoded data removed]",
      "text/plain": [
       "<Figure size 432x288 with 2 Axes>"
      ]
     },
     "metadata": {
      "needs_background": "light"
     },
     "output_type": "display_data"
    },
    {
     "name": "stdout",
     "output_type": "stream",
     "text": [
      "              precision    recall  f1-score   support\n",
      "\n",
      "           0       0.50      0.01      0.02       128\n",
      "           1       0.93      1.00      0.96      1637\n",
      "\n",
      "    accuracy                           0.93      1765\n",
      "   macro avg       0.71      0.50      0.49      1765\n",
      "weighted avg       0.90      0.93      0.89      1765\n",
      "\n"
     ]
    }
   ],
   "source": [
    "#naive bayes model\n",
    "gn = GaussianNB()\n",
    "gn.fit(X_train_smote, y_train_smote)\n",
    "ypred_gn = gn.predict(X_test)\n",
    "\n",
    "cm_gn = confusion_matrix(y_test, ypred_gn)\n",
    "cm_gn_disp = ConfusionMatrixDisplay(cm_gn)\n",
    "cm_gn_disp.plot(cmap=plt.cm.Blues)\n",
    "plt.title(\"Naive Bayes Confusion Matrix\")\n",
    "plt.show()\n",
    "\n",
    "print(classification_report(y_test, ypred_gn))"
   ]
  }
 ],
 "metadata": {
  "kernelspec": {
   "display_name": "base",
   "language": "python",
   "name": "python3"
  },
  "language_info": {
   "codemirror_mode": {
    "name": "ipython",
    "version": 3
   },
   "file_extension": ".py",
   "mimetype": "text/x-python",
   "name": "python",
   "nbconvert_exporter": "python",
   "pygments_lexer": "ipython3",
   "version": "3.8.8"
  }
 },
 "nbformat": 4,
 "nbformat_minor": 5
}
