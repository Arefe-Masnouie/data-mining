{
 "cells": [
  {
   "cell_type": "code",
   "execution_count": 10,
   "id": "b5d8d4f9",
   "metadata": {},
   "outputs": [],
   "source": [
    "import numpy as np\n",
    "import pandas as pd\n",
    "from sklearn.model_selection import train_test_split\n",
    "from sklearn.neighbors import KNeighborsClassifier\n",
    "from sklearn.preprocessing import LabelEncoder, StandardScaler\n",
    "from sklearn.metrics import f1_score"
   ]
  },
  {
   "cell_type": "code",
   "execution_count": 13,
   "id": "d3aaf022",
   "metadata": {},
   "outputs": [
    {
     "data": {
      "application/vnd.microsoft.datawrangler.viewer.v0+json": {
       "columns": [
        {
         "name": "index",
         "rawType": "int64",
         "type": "integer"
        },
        {
         "name": "Date",
         "rawType": "object",
         "type": "string"
        },
        {
         "name": "Location",
         "rawType": "object",
         "type": "string"
        },
        {
         "name": "MinTemp",
         "rawType": "float64",
         "type": "float"
        },
        {
         "name": "MaxTemp",
         "rawType": "float64",
         "type": "float"
        },
        {
         "name": "Rainfall",
         "rawType": "float64",
         "type": "float"
        },
        {
         "name": "Evaporation",
         "rawType": "float64",
         "type": "float"
        },
        {
         "name": "Sunshine",
         "rawType": "float64",
         "type": "float"
        },
        {
         "name": "WindGustDir",
         "rawType": "object",
         "type": "string"
        },
        {
         "name": "WindGustSpeed",
         "rawType": "float64",
         "type": "float"
        },
        {
         "name": "WindDir9am",
         "rawType": "object",
         "type": "string"
        },
        {
         "name": "WindDir3pm",
         "rawType": "object",
         "type": "string"
        },
        {
         "name": "WindSpeed9am",
         "rawType": "float64",
         "type": "float"
        },
        {
         "name": "WindSpeed3pm",
         "rawType": "float64",
         "type": "float"
        },
        {
         "name": "Humidity9am",
         "rawType": "float64",
         "type": "float"
        },
        {
         "name": "Humidity3pm",
         "rawType": "float64",
         "type": "float"
        },
        {
         "name": "Pressure9am",
         "rawType": "float64",
         "type": "float"
        },
        {
         "name": "Pressure3pm",
         "rawType": "float64",
         "type": "float"
        },
        {
         "name": "Cloud9am",
         "rawType": "float64",
         "type": "float"
        },
        {
         "name": "Cloud3pm",
         "rawType": "float64",
         "type": "float"
        },
        {
         "name": "Temp9am",
         "rawType": "float64",
         "type": "float"
        },
        {
         "name": "Temp3pm",
         "rawType": "float64",
         "type": "float"
        },
        {
         "name": "RainToday",
         "rawType": "object",
         "type": "string"
        },
        {
         "name": "RainTomorrow",
         "rawType": "object",
         "type": "string"
        }
       ],
       "ref": "adfccb14-0081-485e-a6d3-24d2bf10fe66",
       "rows": [
        [
         "0",
         "2008-12-01",
         "Albury",
         "13.4",
         "22.9",
         "0.6",
         null,
         null,
         "W",
         "44.0",
         "W",
         "WNW",
         "20.0",
         "24.0",
         "71.0",
         "22.0",
         "1007.7",
         "1007.1",
         "8.0",
         null,
         "16.9",
         "21.8",
         "No",
         "No"
        ],
        [
         "1",
         "2008-12-02",
         "Albury",
         "7.4",
         "25.1",
         "0.0",
         null,
         null,
         "WNW",
         "44.0",
         "NNW",
         "WSW",
         "4.0",
         "22.0",
         "44.0",
         "25.0",
         "1010.6",
         "1007.8",
         null,
         null,
         "17.2",
         "24.3",
         "No",
         "No"
        ],
        [
         "2",
         "2008-12-03",
         "Albury",
         "12.9",
         "25.7",
         "0.0",
         null,
         null,
         "WSW",
         "46.0",
         "W",
         "WSW",
         "19.0",
         "26.0",
         "38.0",
         "30.0",
         "1007.6",
         "1008.7",
         null,
         "2.0",
         "21.0",
         "23.2",
         "No",
         "No"
        ],
        [
         "3",
         "2008-12-04",
         "Albury",
         "9.2",
         "28.0",
         "0.0",
         null,
         null,
         "NE",
         "24.0",
         "SE",
         "E",
         "11.0",
         "9.0",
         "45.0",
         "16.0",
         "1017.6",
         "1012.8",
         null,
         null,
         "18.1",
         "26.5",
         "No",
         "No"
        ],
        [
         "4",
         "2008-12-05",
         "Albury",
         "17.5",
         "32.3",
         "1.0",
         null,
         null,
         "W",
         "41.0",
         "ENE",
         "NW",
         "7.0",
         "20.0",
         "82.0",
         "33.0",
         "1010.8",
         "1006.0",
         "7.0",
         "8.0",
         "17.8",
         "29.7",
         "No",
         "No"
        ]
       ],
       "shape": {
        "columns": 23,
        "rows": 5
       }
      },
      "text/html": [
       "<div>\n",
       "<style scoped>\n",
       "    .dataframe tbody tr th:only-of-type {\n",
       "        vertical-align: middle;\n",
       "    }\n",
       "\n",
       "    .dataframe tbody tr th {\n",
       "        vertical-align: top;\n",
       "    }\n",
       "\n",
       "    .dataframe thead th {\n",
       "        text-align: right;\n",
       "    }\n",
       "</style>\n",
       "<table border=\"1\" class=\"dataframe\">\n",
       "  <thead>\n",
       "    <tr style=\"text-align: right;\">\n",
       "      <th></th>\n",
       "      <th>Date</th>\n",
       "      <th>Location</th>\n",
       "      <th>MinTemp</th>\n",
       "      <th>MaxTemp</th>\n",
       "      <th>Rainfall</th>\n",
       "      <th>Evaporation</th>\n",
       "      <th>Sunshine</th>\n",
       "      <th>WindGustDir</th>\n",
       "      <th>WindGustSpeed</th>\n",
       "      <th>WindDir9am</th>\n",
       "      <th>...</th>\n",
       "      <th>Humidity9am</th>\n",
       "      <th>Humidity3pm</th>\n",
       "      <th>Pressure9am</th>\n",
       "      <th>Pressure3pm</th>\n",
       "      <th>Cloud9am</th>\n",
       "      <th>Cloud3pm</th>\n",
       "      <th>Temp9am</th>\n",
       "      <th>Temp3pm</th>\n",
       "      <th>RainToday</th>\n",
       "      <th>RainTomorrow</th>\n",
       "    </tr>\n",
       "  </thead>\n",
       "  <tbody>\n",
       "    <tr>\n",
       "      <th>0</th>\n",
       "      <td>2008-12-01</td>\n",
       "      <td>Albury</td>\n",
       "      <td>13.4</td>\n",
       "      <td>22.9</td>\n",
       "      <td>0.6</td>\n",
       "      <td>NaN</td>\n",
       "      <td>NaN</td>\n",
       "      <td>W</td>\n",
       "      <td>44.0</td>\n",
       "      <td>W</td>\n",
       "      <td>...</td>\n",
       "      <td>71.0</td>\n",
       "      <td>22.0</td>\n",
       "      <td>1007.7</td>\n",
       "      <td>1007.1</td>\n",
       "      <td>8.0</td>\n",
       "      <td>NaN</td>\n",
       "      <td>16.9</td>\n",
       "      <td>21.8</td>\n",
       "      <td>No</td>\n",
       "      <td>No</td>\n",
       "    </tr>\n",
       "    <tr>\n",
       "      <th>1</th>\n",
       "      <td>2008-12-02</td>\n",
       "      <td>Albury</td>\n",
       "      <td>7.4</td>\n",
       "      <td>25.1</td>\n",
       "      <td>0.0</td>\n",
       "      <td>NaN</td>\n",
       "      <td>NaN</td>\n",
       "      <td>WNW</td>\n",
       "      <td>44.0</td>\n",
       "      <td>NNW</td>\n",
       "      <td>...</td>\n",
       "      <td>44.0</td>\n",
       "      <td>25.0</td>\n",
       "      <td>1010.6</td>\n",
       "      <td>1007.8</td>\n",
       "      <td>NaN</td>\n",
       "      <td>NaN</td>\n",
       "      <td>17.2</td>\n",
       "      <td>24.3</td>\n",
       "      <td>No</td>\n",
       "      <td>No</td>\n",
       "    </tr>\n",
       "    <tr>\n",
       "      <th>2</th>\n",
       "      <td>2008-12-03</td>\n",
       "      <td>Albury</td>\n",
       "      <td>12.9</td>\n",
       "      <td>25.7</td>\n",
       "      <td>0.0</td>\n",
       "      <td>NaN</td>\n",
       "      <td>NaN</td>\n",
       "      <td>WSW</td>\n",
       "      <td>46.0</td>\n",
       "      <td>W</td>\n",
       "      <td>...</td>\n",
       "      <td>38.0</td>\n",
       "      <td>30.0</td>\n",
       "      <td>1007.6</td>\n",
       "      <td>1008.7</td>\n",
       "      <td>NaN</td>\n",
       "      <td>2.0</td>\n",
       "      <td>21.0</td>\n",
       "      <td>23.2</td>\n",
       "      <td>No</td>\n",
       "      <td>No</td>\n",
       "    </tr>\n",
       "    <tr>\n",
       "      <th>3</th>\n",
       "      <td>2008-12-04</td>\n",
       "      <td>Albury</td>\n",
       "      <td>9.2</td>\n",
       "      <td>28.0</td>\n",
       "      <td>0.0</td>\n",
       "      <td>NaN</td>\n",
       "      <td>NaN</td>\n",
       "      <td>NE</td>\n",
       "      <td>24.0</td>\n",
       "      <td>SE</td>\n",
       "      <td>...</td>\n",
       "      <td>45.0</td>\n",
       "      <td>16.0</td>\n",
       "      <td>1017.6</td>\n",
       "      <td>1012.8</td>\n",
       "      <td>NaN</td>\n",
       "      <td>NaN</td>\n",
       "      <td>18.1</td>\n",
       "      <td>26.5</td>\n",
       "      <td>No</td>\n",
       "      <td>No</td>\n",
       "    </tr>\n",
       "    <tr>\n",
       "      <th>4</th>\n",
       "      <td>2008-12-05</td>\n",
       "      <td>Albury</td>\n",
       "      <td>17.5</td>\n",
       "      <td>32.3</td>\n",
       "      <td>1.0</td>\n",
       "      <td>NaN</td>\n",
       "      <td>NaN</td>\n",
       "      <td>W</td>\n",
       "      <td>41.0</td>\n",
       "      <td>ENE</td>\n",
       "      <td>...</td>\n",
       "      <td>82.0</td>\n",
       "      <td>33.0</td>\n",
       "      <td>1010.8</td>\n",
       "      <td>1006.0</td>\n",
       "      <td>7.0</td>\n",
       "      <td>8.0</td>\n",
       "      <td>17.8</td>\n",
       "      <td>29.7</td>\n",
       "      <td>No</td>\n",
       "      <td>No</td>\n",
       "    </tr>\n",
       "  </tbody>\n",
       "</table>\n",
       "<p>5 rows × 23 columns</p>\n",
       "</div>"
      ],
      "text/plain": [
       "         Date Location  MinTemp  MaxTemp  Rainfall  Evaporation  Sunshine  \\\n",
       "0  2008-12-01   Albury     13.4     22.9       0.6          NaN       NaN   \n",
       "1  2008-12-02   Albury      7.4     25.1       0.0          NaN       NaN   \n",
       "2  2008-12-03   Albury     12.9     25.7       0.0          NaN       NaN   \n",
       "3  2008-12-04   Albury      9.2     28.0       0.0          NaN       NaN   \n",
       "4  2008-12-05   Albury     17.5     32.3       1.0          NaN       NaN   \n",
       "\n",
       "  WindGustDir  WindGustSpeed WindDir9am  ... Humidity9am  Humidity3pm  \\\n",
       "0           W           44.0          W  ...        71.0         22.0   \n",
       "1         WNW           44.0        NNW  ...        44.0         25.0   \n",
       "2         WSW           46.0          W  ...        38.0         30.0   \n",
       "3          NE           24.0         SE  ...        45.0         16.0   \n",
       "4           W           41.0        ENE  ...        82.0         33.0   \n",
       "\n",
       "   Pressure9am  Pressure3pm  Cloud9am  Cloud3pm  Temp9am  Temp3pm  RainToday  \\\n",
       "0       1007.7       1007.1       8.0       NaN     16.9     21.8         No   \n",
       "1       1010.6       1007.8       NaN       NaN     17.2     24.3         No   \n",
       "2       1007.6       1008.7       NaN       2.0     21.0     23.2         No   \n",
       "3       1017.6       1012.8       NaN       NaN     18.1     26.5         No   \n",
       "4       1010.8       1006.0       7.0       8.0     17.8     29.7         No   \n",
       "\n",
       "   RainTomorrow  \n",
       "0            No  \n",
       "1            No  \n",
       "2            No  \n",
       "3            No  \n",
       "4            No  \n",
       "\n",
       "[5 rows x 23 columns]"
      ]
     },
     "execution_count": 13,
     "metadata": {},
     "output_type": "execute_result"
    }
   ],
   "source": [
    "df = pd.read_csv('BOM.csv')\n",
    "df.head()"
   ]
  },
  {
   "cell_type": "code",
   "execution_count": 14,
   "id": "450c83e5",
   "metadata": {},
   "outputs": [],
   "source": [
    "#droping unnecessary columns\n",
    "df.drop(['Location', 'WindGustDir', 'WindDir9am', 'WindDir3pm'], axis=1, inplace=True)     \n"
   ]
  },
  {
   "cell_type": "code",
   "execution_count": 15,
   "id": "40de2132",
   "metadata": {},
   "outputs": [
    {
     "name": "stdout",
     "output_type": "stream",
     "text": [
      "<class 'pandas.core.frame.DataFrame'>\n",
      "RangeIndex: 145460 entries, 0 to 145459\n",
      "Data columns (total 19 columns):\n",
      " #   Column         Non-Null Count   Dtype  \n",
      "---  ------         --------------   -----  \n",
      " 0   Date           145460 non-null  object \n",
      " 1   MinTemp        143975 non-null  float64\n",
      " 2   MaxTemp        144199 non-null  float64\n",
      " 3   Rainfall       142199 non-null  float64\n",
      " 4   Evaporation    82670 non-null   float64\n",
      " 5   Sunshine       75625 non-null   float64\n",
      " 6   WindGustSpeed  135197 non-null  float64\n",
      " 7   WindSpeed9am   143693 non-null  float64\n",
      " 8   WindSpeed3pm   142398 non-null  float64\n",
      " 9   Humidity9am    142806 non-null  float64\n",
      " 10  Humidity3pm    140953 non-null  float64\n",
      " 11  Pressure9am    130395 non-null  float64\n",
      " 12  Pressure3pm    130432 non-null  float64\n",
      " 13  Cloud9am       89572 non-null   float64\n",
      " 14  Cloud3pm       86102 non-null   float64\n",
      " 15  Temp9am        143693 non-null  float64\n",
      " 16  Temp3pm        141851 non-null  float64\n",
      " 17  RainToday      142199 non-null  object \n",
      " 18  RainTomorrow   142193 non-null  object \n",
      "dtypes: float64(16), object(3)\n",
      "memory usage: 21.1+ MB\n"
     ]
    }
   ],
   "source": [
    "df.info()"
   ]
  },
  {
   "cell_type": "code",
   "execution_count": 16,
   "id": "605bf3ab",
   "metadata": {},
   "outputs": [
    {
     "data": {
      "application/vnd.microsoft.datawrangler.viewer.v0+json": {
       "columns": [
        {
         "name": "index",
         "rawType": "object",
         "type": "string"
        },
        {
         "name": "count",
         "rawType": "float64",
         "type": "float"
        },
        {
         "name": "mean",
         "rawType": "float64",
         "type": "float"
        },
        {
         "name": "std",
         "rawType": "float64",
         "type": "float"
        },
        {
         "name": "min",
         "rawType": "float64",
         "type": "float"
        },
        {
         "name": "25%",
         "rawType": "float64",
         "type": "float"
        },
        {
         "name": "50%",
         "rawType": "float64",
         "type": "float"
        },
        {
         "name": "75%",
         "rawType": "float64",
         "type": "float"
        },
        {
         "name": "max",
         "rawType": "float64",
         "type": "float"
        }
       ],
       "ref": "2fb2c4d1-1d42-43e7-918e-bcf6599d0c76",
       "rows": [
        [
         "MinTemp",
         "143975.0",
         "12.19403438096892",
         "6.398494975663306",
         "-8.5",
         "7.6",
         "12.0",
         "16.9",
         "33.9"
        ],
        [
         "MaxTemp",
         "144199.0",
         "23.22134827564685",
         "7.119048845979072",
         "-4.8",
         "17.9",
         "22.6",
         "28.2",
         "48.1"
        ],
        [
         "Rainfall",
         "142199.0",
         "2.3609181499166656",
         "8.478059737721674",
         "0.0",
         "0.0",
         "0.0",
         "0.8",
         "371.0"
        ],
        [
         "Evaporation",
         "82670.0",
         "5.468231522922462",
         "4.193704094151472",
         "0.0",
         "2.6",
         "4.8",
         "7.4",
         "145.0"
        ],
        [
         "Sunshine",
         "75625.0",
         "7.6111775206611565",
         "3.785482964740147",
         "0.0",
         "4.8",
         "8.4",
         "10.6",
         "14.5"
        ],
        [
         "WindGustSpeed",
         "135197.0",
         "40.03523007167319",
         "13.607062267383647",
         "6.0",
         "31.0",
         "39.0",
         "48.0",
         "135.0"
        ],
        [
         "WindSpeed9am",
         "143693.0",
         "14.043425914971502",
         "8.915375322678761",
         "0.0",
         "7.0",
         "13.0",
         "19.0",
         "130.0"
        ],
        [
         "WindSpeed3pm",
         "142398.0",
         "18.662656778887342",
         "8.809800021251416",
         "0.0",
         "13.0",
         "19.0",
         "24.0",
         "87.0"
        ],
        [
         "Humidity9am",
         "142806.0",
         "68.88083133761887",
         "19.029164451844206",
         "0.0",
         "57.0",
         "70.0",
         "83.0",
         "100.0"
        ],
        [
         "Humidity3pm",
         "140953.0",
         "51.5391158755046",
         "20.795901656020494",
         "0.0",
         "37.0",
         "52.0",
         "66.0",
         "100.0"
        ],
        [
         "Pressure9am",
         "130395.0",
         "1017.6499397983052",
         "7.106530287523588",
         "980.5",
         "1012.9",
         "1017.6",
         "1022.4",
         "1041.0"
        ],
        [
         "Pressure3pm",
         "130432.0",
         "1015.2558888309618",
         "7.0374138081677975",
         "977.1",
         "1010.4",
         "1015.2",
         "1020.0",
         "1039.6"
        ],
        [
         "Cloud9am",
         "89572.0",
         "4.4474612602152455",
         "2.887158853517281",
         "0.0",
         "1.0",
         "5.0",
         "7.0",
         "9.0"
        ],
        [
         "Cloud3pm",
         "86102.0",
         "4.509930082924903",
         "2.7203573103322762",
         "0.0",
         "2.0",
         "5.0",
         "7.0",
         "9.0"
        ],
        [
         "Temp9am",
         "143693.0",
         "16.990631415587398",
         "6.488753140877108",
         "-7.2",
         "12.3",
         "16.7",
         "21.6",
         "40.2"
        ],
        [
         "Temp3pm",
         "141851.0",
         "21.68339031800974",
         "6.936650460035292",
         "-5.4",
         "16.6",
         "21.1",
         "26.4",
         "46.7"
        ]
       ],
       "shape": {
        "columns": 8,
        "rows": 16
       }
      },
      "text/html": [
       "<div>\n",
       "<style scoped>\n",
       "    .dataframe tbody tr th:only-of-type {\n",
       "        vertical-align: middle;\n",
       "    }\n",
       "\n",
       "    .dataframe tbody tr th {\n",
       "        vertical-align: top;\n",
       "    }\n",
       "\n",
       "    .dataframe thead th {\n",
       "        text-align: right;\n",
       "    }\n",
       "</style>\n",
       "<table border=\"1\" class=\"dataframe\">\n",
       "  <thead>\n",
       "    <tr style=\"text-align: right;\">\n",
       "      <th></th>\n",
       "      <th>count</th>\n",
       "      <th>mean</th>\n",
       "      <th>std</th>\n",
       "      <th>min</th>\n",
       "      <th>25%</th>\n",
       "      <th>50%</th>\n",
       "      <th>75%</th>\n",
       "      <th>max</th>\n",
       "    </tr>\n",
       "  </thead>\n",
       "  <tbody>\n",
       "    <tr>\n",
       "      <th>MinTemp</th>\n",
       "      <td>143975.0</td>\n",
       "      <td>12.194034</td>\n",
       "      <td>6.398495</td>\n",
       "      <td>-8.5</td>\n",
       "      <td>7.6</td>\n",
       "      <td>12.0</td>\n",
       "      <td>16.9</td>\n",
       "      <td>33.9</td>\n",
       "    </tr>\n",
       "    <tr>\n",
       "      <th>MaxTemp</th>\n",
       "      <td>144199.0</td>\n",
       "      <td>23.221348</td>\n",
       "      <td>7.119049</td>\n",
       "      <td>-4.8</td>\n",
       "      <td>17.9</td>\n",
       "      <td>22.6</td>\n",
       "      <td>28.2</td>\n",
       "      <td>48.1</td>\n",
       "    </tr>\n",
       "    <tr>\n",
       "      <th>Rainfall</th>\n",
       "      <td>142199.0</td>\n",
       "      <td>2.360918</td>\n",
       "      <td>8.478060</td>\n",
       "      <td>0.0</td>\n",
       "      <td>0.0</td>\n",
       "      <td>0.0</td>\n",
       "      <td>0.8</td>\n",
       "      <td>371.0</td>\n",
       "    </tr>\n",
       "    <tr>\n",
       "      <th>Evaporation</th>\n",
       "      <td>82670.0</td>\n",
       "      <td>5.468232</td>\n",
       "      <td>4.193704</td>\n",
       "      <td>0.0</td>\n",
       "      <td>2.6</td>\n",
       "      <td>4.8</td>\n",
       "      <td>7.4</td>\n",
       "      <td>145.0</td>\n",
       "    </tr>\n",
       "    <tr>\n",
       "      <th>Sunshine</th>\n",
       "      <td>75625.0</td>\n",
       "      <td>7.611178</td>\n",
       "      <td>3.785483</td>\n",
       "      <td>0.0</td>\n",
       "      <td>4.8</td>\n",
       "      <td>8.4</td>\n",
       "      <td>10.6</td>\n",
       "      <td>14.5</td>\n",
       "    </tr>\n",
       "    <tr>\n",
       "      <th>WindGustSpeed</th>\n",
       "      <td>135197.0</td>\n",
       "      <td>40.035230</td>\n",
       "      <td>13.607062</td>\n",
       "      <td>6.0</td>\n",
       "      <td>31.0</td>\n",
       "      <td>39.0</td>\n",
       "      <td>48.0</td>\n",
       "      <td>135.0</td>\n",
       "    </tr>\n",
       "    <tr>\n",
       "      <th>WindSpeed9am</th>\n",
       "      <td>143693.0</td>\n",
       "      <td>14.043426</td>\n",
       "      <td>8.915375</td>\n",
       "      <td>0.0</td>\n",
       "      <td>7.0</td>\n",
       "      <td>13.0</td>\n",
       "      <td>19.0</td>\n",
       "      <td>130.0</td>\n",
       "    </tr>\n",
       "    <tr>\n",
       "      <th>WindSpeed3pm</th>\n",
       "      <td>142398.0</td>\n",
       "      <td>18.662657</td>\n",
       "      <td>8.809800</td>\n",
       "      <td>0.0</td>\n",
       "      <td>13.0</td>\n",
       "      <td>19.0</td>\n",
       "      <td>24.0</td>\n",
       "      <td>87.0</td>\n",
       "    </tr>\n",
       "    <tr>\n",
       "      <th>Humidity9am</th>\n",
       "      <td>142806.0</td>\n",
       "      <td>68.880831</td>\n",
       "      <td>19.029164</td>\n",
       "      <td>0.0</td>\n",
       "      <td>57.0</td>\n",
       "      <td>70.0</td>\n",
       "      <td>83.0</td>\n",
       "      <td>100.0</td>\n",
       "    </tr>\n",
       "    <tr>\n",
       "      <th>Humidity3pm</th>\n",
       "      <td>140953.0</td>\n",
       "      <td>51.539116</td>\n",
       "      <td>20.795902</td>\n",
       "      <td>0.0</td>\n",
       "      <td>37.0</td>\n",
       "      <td>52.0</td>\n",
       "      <td>66.0</td>\n",
       "      <td>100.0</td>\n",
       "    </tr>\n",
       "    <tr>\n",
       "      <th>Pressure9am</th>\n",
       "      <td>130395.0</td>\n",
       "      <td>1017.649940</td>\n",
       "      <td>7.106530</td>\n",
       "      <td>980.5</td>\n",
       "      <td>1012.9</td>\n",
       "      <td>1017.6</td>\n",
       "      <td>1022.4</td>\n",
       "      <td>1041.0</td>\n",
       "    </tr>\n",
       "    <tr>\n",
       "      <th>Pressure3pm</th>\n",
       "      <td>130432.0</td>\n",
       "      <td>1015.255889</td>\n",
       "      <td>7.037414</td>\n",
       "      <td>977.1</td>\n",
       "      <td>1010.4</td>\n",
       "      <td>1015.2</td>\n",
       "      <td>1020.0</td>\n",
       "      <td>1039.6</td>\n",
       "    </tr>\n",
       "    <tr>\n",
       "      <th>Cloud9am</th>\n",
       "      <td>89572.0</td>\n",
       "      <td>4.447461</td>\n",
       "      <td>2.887159</td>\n",
       "      <td>0.0</td>\n",
       "      <td>1.0</td>\n",
       "      <td>5.0</td>\n",
       "      <td>7.0</td>\n",
       "      <td>9.0</td>\n",
       "    </tr>\n",
       "    <tr>\n",
       "      <th>Cloud3pm</th>\n",
       "      <td>86102.0</td>\n",
       "      <td>4.509930</td>\n",
       "      <td>2.720357</td>\n",
       "      <td>0.0</td>\n",
       "      <td>2.0</td>\n",
       "      <td>5.0</td>\n",
       "      <td>7.0</td>\n",
       "      <td>9.0</td>\n",
       "    </tr>\n",
       "    <tr>\n",
       "      <th>Temp9am</th>\n",
       "      <td>143693.0</td>\n",
       "      <td>16.990631</td>\n",
       "      <td>6.488753</td>\n",
       "      <td>-7.2</td>\n",
       "      <td>12.3</td>\n",
       "      <td>16.7</td>\n",
       "      <td>21.6</td>\n",
       "      <td>40.2</td>\n",
       "    </tr>\n",
       "    <tr>\n",
       "      <th>Temp3pm</th>\n",
       "      <td>141851.0</td>\n",
       "      <td>21.683390</td>\n",
       "      <td>6.936650</td>\n",
       "      <td>-5.4</td>\n",
       "      <td>16.6</td>\n",
       "      <td>21.1</td>\n",
       "      <td>26.4</td>\n",
       "      <td>46.7</td>\n",
       "    </tr>\n",
       "  </tbody>\n",
       "</table>\n",
       "</div>"
      ],
      "text/plain": [
       "                  count         mean        std    min     25%     50%  \\\n",
       "MinTemp        143975.0    12.194034   6.398495   -8.5     7.6    12.0   \n",
       "MaxTemp        144199.0    23.221348   7.119049   -4.8    17.9    22.6   \n",
       "Rainfall       142199.0     2.360918   8.478060    0.0     0.0     0.0   \n",
       "Evaporation     82670.0     5.468232   4.193704    0.0     2.6     4.8   \n",
       "Sunshine        75625.0     7.611178   3.785483    0.0     4.8     8.4   \n",
       "WindGustSpeed  135197.0    40.035230  13.607062    6.0    31.0    39.0   \n",
       "WindSpeed9am   143693.0    14.043426   8.915375    0.0     7.0    13.0   \n",
       "WindSpeed3pm   142398.0    18.662657   8.809800    0.0    13.0    19.0   \n",
       "Humidity9am    142806.0    68.880831  19.029164    0.0    57.0    70.0   \n",
       "Humidity3pm    140953.0    51.539116  20.795902    0.0    37.0    52.0   \n",
       "Pressure9am    130395.0  1017.649940   7.106530  980.5  1012.9  1017.6   \n",
       "Pressure3pm    130432.0  1015.255889   7.037414  977.1  1010.4  1015.2   \n",
       "Cloud9am        89572.0     4.447461   2.887159    0.0     1.0     5.0   \n",
       "Cloud3pm        86102.0     4.509930   2.720357    0.0     2.0     5.0   \n",
       "Temp9am        143693.0    16.990631   6.488753   -7.2    12.3    16.7   \n",
       "Temp3pm        141851.0    21.683390   6.936650   -5.4    16.6    21.1   \n",
       "\n",
       "                  75%     max  \n",
       "MinTemp          16.9    33.9  \n",
       "MaxTemp          28.2    48.1  \n",
       "Rainfall          0.8   371.0  \n",
       "Evaporation       7.4   145.0  \n",
       "Sunshine         10.6    14.5  \n",
       "WindGustSpeed    48.0   135.0  \n",
       "WindSpeed9am     19.0   130.0  \n",
       "WindSpeed3pm     24.0    87.0  \n",
       "Humidity9am      83.0   100.0  \n",
       "Humidity3pm      66.0   100.0  \n",
       "Pressure9am    1022.4  1041.0  \n",
       "Pressure3pm    1020.0  1039.6  \n",
       "Cloud9am          7.0     9.0  \n",
       "Cloud3pm          7.0     9.0  \n",
       "Temp9am          21.6    40.2  \n",
       "Temp3pm          26.4    46.7  "
      ]
     },
     "execution_count": 16,
     "metadata": {},
     "output_type": "execute_result"
    }
   ],
   "source": [
    "df.describe().transpose() "
   ]
  },
  {
   "cell_type": "code",
   "execution_count": 17,
   "id": "0f3d80de",
   "metadata": {},
   "outputs": [
    {
     "data": {
      "application/vnd.microsoft.datawrangler.viewer.v0+json": {
       "columns": [
        {
         "name": "index",
         "rawType": "object",
         "type": "string"
        },
        {
         "name": "0",
         "rawType": "int64",
         "type": "integer"
        }
       ],
       "ref": "6f375128-a784-493e-98c1-e51182de0cbf",
       "rows": [
        [
         "Date",
         "0"
        ],
        [
         "MinTemp",
         "1485"
        ],
        [
         "MaxTemp",
         "1261"
        ],
        [
         "Rainfall",
         "3261"
        ],
        [
         "Evaporation",
         "62790"
        ],
        [
         "Sunshine",
         "69835"
        ],
        [
         "WindGustSpeed",
         "10263"
        ],
        [
         "WindSpeed9am",
         "1767"
        ],
        [
         "WindSpeed3pm",
         "3062"
        ],
        [
         "Humidity9am",
         "2654"
        ],
        [
         "Humidity3pm",
         "4507"
        ],
        [
         "Pressure9am",
         "15065"
        ],
        [
         "Pressure3pm",
         "15028"
        ],
        [
         "Cloud9am",
         "55888"
        ],
        [
         "Cloud3pm",
         "59358"
        ],
        [
         "Temp9am",
         "1767"
        ],
        [
         "Temp3pm",
         "3609"
        ],
        [
         "RainToday",
         "3261"
        ],
        [
         "RainTomorrow",
         "3267"
        ]
       ],
       "shape": {
        "columns": 1,
        "rows": 19
       }
      },
      "text/plain": [
       "Date                 0\n",
       "MinTemp           1485\n",
       "MaxTemp           1261\n",
       "Rainfall          3261\n",
       "Evaporation      62790\n",
       "Sunshine         69835\n",
       "WindGustSpeed    10263\n",
       "WindSpeed9am      1767\n",
       "WindSpeed3pm      3062\n",
       "Humidity9am       2654\n",
       "Humidity3pm       4507\n",
       "Pressure9am      15065\n",
       "Pressure3pm      15028\n",
       "Cloud9am         55888\n",
       "Cloud3pm         59358\n",
       "Temp9am           1767\n",
       "Temp3pm           3609\n",
       "RainToday         3261\n",
       "RainTomorrow      3267\n",
       "dtype: int64"
      ]
     },
     "execution_count": 17,
     "metadata": {},
     "output_type": "execute_result"
    }
   ],
   "source": [
    "df.isna().sum()"
   ]
  },
  {
   "cell_type": "code",
   "execution_count": 18,
   "id": "3059ba5d",
   "metadata": {},
   "outputs": [
    {
     "data": {
      "application/vnd.microsoft.datawrangler.viewer.v0+json": {
       "columns": [
        {
         "name": "index",
         "rawType": "object",
         "type": "string"
        },
        {
         "name": "0",
         "rawType": "int64",
         "type": "integer"
        }
       ],
       "ref": "a99adb7a-368d-4d38-bd98-eb8bb8c54da8",
       "rows": [
        [
         "Date",
         "0"
        ],
        [
         "MinTemp",
         "0"
        ],
        [
         "MaxTemp",
         "0"
        ],
        [
         "Rainfall",
         "0"
        ],
        [
         "Evaporation",
         "0"
        ],
        [
         "Sunshine",
         "0"
        ],
        [
         "WindGustSpeed",
         "0"
        ],
        [
         "WindSpeed9am",
         "0"
        ],
        [
         "WindSpeed3pm",
         "0"
        ],
        [
         "Humidity9am",
         "0"
        ],
        [
         "Humidity3pm",
         "0"
        ],
        [
         "Pressure9am",
         "0"
        ],
        [
         "Pressure3pm",
         "0"
        ],
        [
         "Cloud9am",
         "0"
        ],
        [
         "Cloud3pm",
         "0"
        ],
        [
         "Temp9am",
         "0"
        ],
        [
         "Temp3pm",
         "0"
        ],
        [
         "RainToday",
         "0"
        ],
        [
         "RainTomorrow",
         "0"
        ]
       ],
       "shape": {
        "columns": 1,
        "rows": 19
       }
      },
      "text/plain": [
       "Date             0\n",
       "MinTemp          0\n",
       "MaxTemp          0\n",
       "Rainfall         0\n",
       "Evaporation      0\n",
       "Sunshine         0\n",
       "WindGustSpeed    0\n",
       "WindSpeed9am     0\n",
       "WindSpeed3pm     0\n",
       "Humidity9am      0\n",
       "Humidity3pm      0\n",
       "Pressure9am      0\n",
       "Pressure3pm      0\n",
       "Cloud9am         0\n",
       "Cloud3pm         0\n",
       "Temp9am          0\n",
       "Temp3pm          0\n",
       "RainToday        0\n",
       "RainTomorrow     0\n",
       "dtype: int64"
      ]
     },
     "execution_count": 18,
     "metadata": {},
     "output_type": "execute_result"
    }
   ],
   "source": [
    "df.dropna(inplace=True)\n",
    "df.isna().sum()"
   ]
  },
  {
   "cell_type": "code",
   "execution_count": 19,
   "id": "93b57f2f",
   "metadata": {},
   "outputs": [],
   "source": [
    "#label encoding\n",
    "for col in df.select_dtypes(include=['object']).columns:\n",
    "    le = LabelEncoder()\n",
    "    df[col] = le.fit_transform(df[col])\n",
    "\n",
    "#feature scaling()\n",
    "scaler = StandardScaler()\n",
    "df[df.select_dtypes(include=['float64', 'int64']).columns] = scaler.fit_transform(df.select_dtypes(include=['float64', 'int64']))"
   ]
  },
  {
   "cell_type": "code",
   "execution_count": 21,
   "id": "a663b8e6",
   "metadata": {},
   "outputs": [],
   "source": [
    "#splitting the dataset\n",
    "X = df.drop('RainTomorrow', axis=1)\n",
    "y = df['RainTomorrow']\n",
    "X_train, X_test, y_train, y_test = train_test_split(X, y, test_size=0.2, random_state=42)"
   ]
  },
  {
   "cell_type": "code",
   "execution_count": null,
   "id": "b329be3a",
   "metadata": {},
   "outputs": [
    {
     "name": "stdout",
     "output_type": "stream",
     "text": [
      "K=1, F1 Score=0.5954\n",
      "K=2, F1 Score=0.4692\n",
      "K=3, F1 Score=0.5630\n",
      "K=4, F1 Score=0.4685\n",
      "K=5, F1 Score=0.5447\n",
      "K=6, F1 Score=0.4761\n",
      "K=7, F1 Score=0.5397\n",
      "K=8, F1 Score=0.4626\n",
      "K=9, F1 Score=0.5126\n",
      "K=10, F1 Score=0.4497\n",
      "K=11, F1 Score=0.4958\n",
      "K=12, F1 Score=0.4371\n",
      "K=13, F1 Score=0.4773\n",
      "K=14, F1 Score=0.4366\n",
      "K=15, F1 Score=0.4658\n",
      "K=16, F1 Score=0.4157\n",
      "K=17, F1 Score=0.4465\n",
      "K=18, F1 Score=0.4052\n",
      "K=19, F1 Score=0.4332\n",
      "K=20, F1 Score=0.3966\n",
      "\n",
      "✅ بهترین K: 1 با F1 = 0.5954\n"
     ]
    }
   ],
   "source": [
    "# KNN Classifier\n",
    "best_k = 1\n",
    "best_f1 = 0\n",
    "\n",
    "for k in range(1, 21):\n",
    "    knn = KNeighborsClassifier(n_neighbors=k)\n",
    "    knn.fit(X_train, y_train)\n",
    "    y_pred = knn.predict(X_test)\n",
    "    f1 = f1_score(y_test, y_pred)\n",
    "    print(f\"K={k}, F1 Score={f1:.4f}\")\n",
    "    \n",
    "    if f1 > best_f1:\n",
    "        best_f1 = f1\n",
    "        best_k = k\n",
    "\n",
    "print(f\"\\nbest k: {best_k} with F1 = {best_f1:.4f}\")\n"
   ]
  }
 ],
 "metadata": {
  "kernelspec": {
   "display_name": "base",
   "language": "python",
   "name": "python3"
  },
  "language_info": {
   "codemirror_mode": {
    "name": "ipython",
    "version": 3
   },
   "file_extension": ".py",
   "mimetype": "text/x-python",
   "name": "python",
   "nbconvert_exporter": "python",
   "pygments_lexer": "ipython3",
   "version": "3.8.8"
  }
 },
 "nbformat": 4,
 "nbformat_minor": 5
}
