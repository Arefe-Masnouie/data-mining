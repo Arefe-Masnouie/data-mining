{
 "cells": [
  {
   "cell_type": "code",
   "execution_count": 11,
   "id": "3133030e",
   "metadata": {},
   "outputs": [],
   "source": [
    "#fist exercise\n",
    "import pandas as pd\n",
    "import numpy as np\n",
    "from sklearn.model_selection import train_test_split\n",
    "import seaborn as sns\n",
    "from sklearn.preprocessing import OneHotEncoder, StandardScaler\n",
    "from sklearn.impute import SimpleImputer\n",
    "from sklearn.linear_model import SGDRegressor\n",
    "from sklearn.metrics import mean_squared_error\n",
    "from sklearn.compose import ColumnTransformer"
   ]
  },
  {
   "cell_type": "code",
   "execution_count": 49,
   "id": "d9d10105",
   "metadata": {},
   "outputs": [
    {
     "data": {
      "text/plain": [
       "<bound method NDFrame.head of                       Movie  Year  Ratings  Genre      Gross       Budget  \\\n",
       "0                   13 Sins  2014      6.3      8       9130    4000000.0   \n",
       "1            22 Jump Street  2014      7.1      1  192000000   50000000.0   \n",
       "2            3 Days to Kill  2014      6.2      1   30700000   28000000.0   \n",
       "3    300: Rise of an Empire  2014      6.3      1  106000000  110000000.0   \n",
       "4         A Haunted House 2  2014      4.7      8   17300000    3500000.0   \n",
       "..                      ...   ...      ...    ...        ...          ...   \n",
       "226                Child 44  2015      6.4      4    1210000   50000000.0   \n",
       "227                   Aloha  2015      5.5     15   21000000   37000000.0   \n",
       "228     Unfinished Business  2015      5.4      8   10200000   35000000.0   \n",
       "229                War Room  2015      5.4      1   12300000    3000000.0   \n",
       "230             The Gallows  2015      4.4     15   22600000     100000.0   \n",
       "\n",
       "     Screens  Sequel  Sentiment    Views  Likes  Dislikes  Comments  \\\n",
       "0       45.0       1          0  3280543   4632       425       636   \n",
       "1     3306.0       2          2   583289   3465        61       186   \n",
       "2     2872.0       1          0   304861    328        34        47   \n",
       "3     3470.0       2          0   452917   2429       132       590   \n",
       "4     2310.0       2          0  3145573  12163       610      1082   \n",
       "..       ...     ...        ...      ...    ...       ...       ...   \n",
       "226     66.0       1          4  3701061   9325       641      1859   \n",
       "227   2815.0       1         13  7119456  18803      1128      2290   \n",
       "228   2777.0       1          7  3450614   6823       325       409   \n",
       "229      NaN       1         10    66872    400        67       201   \n",
       "230   2720.0       1         -5   659772   2841       431       606   \n",
       "\n",
       "     Aggregate Followers  \n",
       "0              1120000.0  \n",
       "1             12350000.0  \n",
       "2               483000.0  \n",
       "3               568000.0  \n",
       "4              1923800.0  \n",
       "..                   ...  \n",
       "226                  NaN  \n",
       "227                  NaN  \n",
       "228                  NaN  \n",
       "229                  NaN  \n",
       "230                  NaN  \n",
       "\n",
       "[231 rows x 14 columns]>"
      ]
     },
     "execution_count": 49,
     "metadata": {},
     "output_type": "execute_result"
    }
   ],
   "source": [
    "df = pd.read_excel(\"CSM_dataset.xlsx\")\n",
    "df.head"
   ]
  },
  {
   "cell_type": "code",
   "execution_count": 40,
   "id": "f92dbdfe",
   "metadata": {},
   "outputs": [
    {
     "name": "stdout",
     "output_type": "stream",
     "text": [
      "<class 'pandas.core.frame.DataFrame'>\n",
      "RangeIndex: 231 entries, 0 to 230\n",
      "Data columns (total 14 columns):\n",
      " #   Column               Non-Null Count  Dtype  \n",
      "---  ------               --------------  -----  \n",
      " 0   Movie                231 non-null    object \n",
      " 1   Year                 231 non-null    int64  \n",
      " 2   Ratings              231 non-null    float64\n",
      " 3   Genre                231 non-null    int64  \n",
      " 4   Gross                231 non-null    int64  \n",
      " 5   Budget               230 non-null    float64\n",
      " 6   Screens              221 non-null    float64\n",
      " 7   Sequel               231 non-null    int64  \n",
      " 8   Sentiment            231 non-null    int64  \n",
      " 9   Views                231 non-null    int64  \n",
      " 10  Likes                231 non-null    int64  \n",
      " 11  Dislikes             231 non-null    int64  \n",
      " 12  Comments             231 non-null    int64  \n",
      " 13  Aggregate Followers  196 non-null    float64\n",
      "dtypes: float64(4), int64(9), object(1)\n",
      "memory usage: 25.4+ KB\n"
     ]
    }
   ],
   "source": [
    "df.info()"
   ]
  },
  {
   "cell_type": "code",
   "execution_count": 5,
   "id": "8ea36438",
   "metadata": {},
   "outputs": [
    {
     "data": {
      "application/vnd.microsoft.datawrangler.viewer.v0+json": {
       "columns": [
        {
         "name": "index",
         "rawType": "object",
         "type": "string"
        },
        {
         "name": "Year",
         "rawType": "float64",
         "type": "float"
        },
        {
         "name": "Ratings",
         "rawType": "float64",
         "type": "float"
        },
        {
         "name": "Genre",
         "rawType": "float64",
         "type": "float"
        },
        {
         "name": "Gross",
         "rawType": "float64",
         "type": "float"
        },
        {
         "name": "Budget",
         "rawType": "float64",
         "type": "float"
        },
        {
         "name": "Screens",
         "rawType": "float64",
         "type": "float"
        },
        {
         "name": "Sequel",
         "rawType": "float64",
         "type": "float"
        },
        {
         "name": "Sentiment",
         "rawType": "float64",
         "type": "float"
        },
        {
         "name": "Views",
         "rawType": "float64",
         "type": "float"
        },
        {
         "name": "Likes",
         "rawType": "float64",
         "type": "float"
        },
        {
         "name": "Dislikes",
         "rawType": "float64",
         "type": "float"
        },
        {
         "name": "Comments",
         "rawType": "float64",
         "type": "float"
        },
        {
         "name": "Aggregate Followers",
         "rawType": "float64",
         "type": "float"
        }
       ],
       "ref": "8ae304ac-8d4f-4613-b060-7a89ed116a9b",
       "rows": [
        [
         "count",
         "231.0",
         "231.0",
         "231.0",
         "231.0",
         "230.0",
         "221.0",
         "231.0",
         "231.0",
         "231.0",
         "231.0",
         "231.0",
         "231.0",
         "196.0"
        ],
        [
         "mean",
         "2014.2943722943724",
         "6.441558441558442",
         "5.359307359307359",
         "68066033.2034632",
         "47921730.04678261",
         "2209.244343891403",
         "1.3593073593073592",
         "2.8095238095238093",
         "3712851.2900432902",
         "12732.536796536797",
         "679.0519480519481",
         "1825.7012987012988",
         "3038193.448979592"
        ],
        [
         "std",
         "0.45674978395408633",
         "0.988765235601936",
         "4.141611474428705",
         "88902891.2219994",
         "54288246.071780145",
         "1463.7677548110844",
         "0.9672405599289615",
         "6.996775359008652",
         "4511104.242784644",
         "28825.484480519735",
         "1243.9294810444062",
         "3571.040446600847",
         "4886278.073224598"
        ],
        [
         "min",
         "2014.0",
         "3.1",
         "1.0",
         "2470.0",
         "70000.0",
         "2.0",
         "1.0",
         "-38.0",
         "698.0",
         "1.0",
         "0.0",
         "0.0",
         "1066.0"
        ],
        [
         "25%",
         "2014.0",
         "5.8",
         "1.0",
         "10300000.0",
         "9000000.0",
         "449.0",
         "1.0",
         "0.0",
         "623302.0",
         "1776.5",
         "105.5",
         "248.5",
         "183025.0"
        ],
        [
         "50%",
         "2014.0",
         "6.5",
         "3.0",
         "37400000.0",
         "28000000.0",
         "2777.0",
         "1.0",
         "0.0",
         "2409338.0",
         "6096.0",
         "341.0",
         "837.0",
         "1052600.0"
        ],
        [
         "75%",
         "2015.0",
         "7.1",
         "8.0",
         "89350000.0",
         "65000000.0",
         "3372.0",
         "1.0",
         "5.5",
         "5217379.5",
         "15247.5",
         "697.5",
         "2137.0",
         "3694500.0"
        ],
        [
         "max",
         "2015.0",
         "8.7",
         "15.0",
         "643000000.0",
         "250000000.0",
         "4324.0",
         "7.0",
         "29.0",
         "32626778.0",
         "370552.0",
         "13960.0",
         "38363.0",
         "31030000.0"
        ]
       ],
       "shape": {
        "columns": 13,
        "rows": 8
       }
      },
      "text/html": [
       "<div>\n",
       "<style scoped>\n",
       "    .dataframe tbody tr th:only-of-type {\n",
       "        vertical-align: middle;\n",
       "    }\n",
       "\n",
       "    .dataframe tbody tr th {\n",
       "        vertical-align: top;\n",
       "    }\n",
       "\n",
       "    .dataframe thead th {\n",
       "        text-align: right;\n",
       "    }\n",
       "</style>\n",
       "<table border=\"1\" class=\"dataframe\">\n",
       "  <thead>\n",
       "    <tr style=\"text-align: right;\">\n",
       "      <th></th>\n",
       "      <th>Year</th>\n",
       "      <th>Ratings</th>\n",
       "      <th>Genre</th>\n",
       "      <th>Gross</th>\n",
       "      <th>Budget</th>\n",
       "      <th>Screens</th>\n",
       "      <th>Sequel</th>\n",
       "      <th>Sentiment</th>\n",
       "      <th>Views</th>\n",
       "      <th>Likes</th>\n",
       "      <th>Dislikes</th>\n",
       "      <th>Comments</th>\n",
       "      <th>Aggregate Followers</th>\n",
       "    </tr>\n",
       "  </thead>\n",
       "  <tbody>\n",
       "    <tr>\n",
       "      <th>count</th>\n",
       "      <td>231.000000</td>\n",
       "      <td>231.000000</td>\n",
       "      <td>231.000000</td>\n",
       "      <td>2.310000e+02</td>\n",
       "      <td>2.300000e+02</td>\n",
       "      <td>221.000000</td>\n",
       "      <td>231.000000</td>\n",
       "      <td>231.000000</td>\n",
       "      <td>2.310000e+02</td>\n",
       "      <td>231.000000</td>\n",
       "      <td>231.000000</td>\n",
       "      <td>231.000000</td>\n",
       "      <td>1.960000e+02</td>\n",
       "    </tr>\n",
       "    <tr>\n",
       "      <th>mean</th>\n",
       "      <td>2014.294372</td>\n",
       "      <td>6.441558</td>\n",
       "      <td>5.359307</td>\n",
       "      <td>6.806603e+07</td>\n",
       "      <td>4.792173e+07</td>\n",
       "      <td>2209.244344</td>\n",
       "      <td>1.359307</td>\n",
       "      <td>2.809524</td>\n",
       "      <td>3.712851e+06</td>\n",
       "      <td>12732.536797</td>\n",
       "      <td>679.051948</td>\n",
       "      <td>1825.701299</td>\n",
       "      <td>3.038193e+06</td>\n",
       "    </tr>\n",
       "    <tr>\n",
       "      <th>std</th>\n",
       "      <td>0.456750</td>\n",
       "      <td>0.988765</td>\n",
       "      <td>4.141611</td>\n",
       "      <td>8.890289e+07</td>\n",
       "      <td>5.428825e+07</td>\n",
       "      <td>1463.767755</td>\n",
       "      <td>0.967241</td>\n",
       "      <td>6.996775</td>\n",
       "      <td>4.511104e+06</td>\n",
       "      <td>28825.484481</td>\n",
       "      <td>1243.929481</td>\n",
       "      <td>3571.040447</td>\n",
       "      <td>4.886278e+06</td>\n",
       "    </tr>\n",
       "    <tr>\n",
       "      <th>min</th>\n",
       "      <td>2014.000000</td>\n",
       "      <td>3.100000</td>\n",
       "      <td>1.000000</td>\n",
       "      <td>2.470000e+03</td>\n",
       "      <td>7.000000e+04</td>\n",
       "      <td>2.000000</td>\n",
       "      <td>1.000000</td>\n",
       "      <td>-38.000000</td>\n",
       "      <td>6.980000e+02</td>\n",
       "      <td>1.000000</td>\n",
       "      <td>0.000000</td>\n",
       "      <td>0.000000</td>\n",
       "      <td>1.066000e+03</td>\n",
       "    </tr>\n",
       "    <tr>\n",
       "      <th>25%</th>\n",
       "      <td>2014.000000</td>\n",
       "      <td>5.800000</td>\n",
       "      <td>1.000000</td>\n",
       "      <td>1.030000e+07</td>\n",
       "      <td>9.000000e+06</td>\n",
       "      <td>449.000000</td>\n",
       "      <td>1.000000</td>\n",
       "      <td>0.000000</td>\n",
       "      <td>6.233020e+05</td>\n",
       "      <td>1776.500000</td>\n",
       "      <td>105.500000</td>\n",
       "      <td>248.500000</td>\n",
       "      <td>1.830250e+05</td>\n",
       "    </tr>\n",
       "    <tr>\n",
       "      <th>50%</th>\n",
       "      <td>2014.000000</td>\n",
       "      <td>6.500000</td>\n",
       "      <td>3.000000</td>\n",
       "      <td>3.740000e+07</td>\n",
       "      <td>2.800000e+07</td>\n",
       "      <td>2777.000000</td>\n",
       "      <td>1.000000</td>\n",
       "      <td>0.000000</td>\n",
       "      <td>2.409338e+06</td>\n",
       "      <td>6096.000000</td>\n",
       "      <td>341.000000</td>\n",
       "      <td>837.000000</td>\n",
       "      <td>1.052600e+06</td>\n",
       "    </tr>\n",
       "    <tr>\n",
       "      <th>75%</th>\n",
       "      <td>2015.000000</td>\n",
       "      <td>7.100000</td>\n",
       "      <td>8.000000</td>\n",
       "      <td>8.935000e+07</td>\n",
       "      <td>6.500000e+07</td>\n",
       "      <td>3372.000000</td>\n",
       "      <td>1.000000</td>\n",
       "      <td>5.500000</td>\n",
       "      <td>5.217380e+06</td>\n",
       "      <td>15247.500000</td>\n",
       "      <td>697.500000</td>\n",
       "      <td>2137.000000</td>\n",
       "      <td>3.694500e+06</td>\n",
       "    </tr>\n",
       "    <tr>\n",
       "      <th>max</th>\n",
       "      <td>2015.000000</td>\n",
       "      <td>8.700000</td>\n",
       "      <td>15.000000</td>\n",
       "      <td>6.430000e+08</td>\n",
       "      <td>2.500000e+08</td>\n",
       "      <td>4324.000000</td>\n",
       "      <td>7.000000</td>\n",
       "      <td>29.000000</td>\n",
       "      <td>3.262678e+07</td>\n",
       "      <td>370552.000000</td>\n",
       "      <td>13960.000000</td>\n",
       "      <td>38363.000000</td>\n",
       "      <td>3.103000e+07</td>\n",
       "    </tr>\n",
       "  </tbody>\n",
       "</table>\n",
       "</div>"
      ],
      "text/plain": [
       "              Year     Ratings       Genre         Gross        Budget  \\\n",
       "count   231.000000  231.000000  231.000000  2.310000e+02  2.300000e+02   \n",
       "mean   2014.294372    6.441558    5.359307  6.806603e+07  4.792173e+07   \n",
       "std       0.456750    0.988765    4.141611  8.890289e+07  5.428825e+07   \n",
       "min    2014.000000    3.100000    1.000000  2.470000e+03  7.000000e+04   \n",
       "25%    2014.000000    5.800000    1.000000  1.030000e+07  9.000000e+06   \n",
       "50%    2014.000000    6.500000    3.000000  3.740000e+07  2.800000e+07   \n",
       "75%    2015.000000    7.100000    8.000000  8.935000e+07  6.500000e+07   \n",
       "max    2015.000000    8.700000   15.000000  6.430000e+08  2.500000e+08   \n",
       "\n",
       "           Screens      Sequel   Sentiment         Views          Likes  \\\n",
       "count   221.000000  231.000000  231.000000  2.310000e+02     231.000000   \n",
       "mean   2209.244344    1.359307    2.809524  3.712851e+06   12732.536797   \n",
       "std    1463.767755    0.967241    6.996775  4.511104e+06   28825.484481   \n",
       "min       2.000000    1.000000  -38.000000  6.980000e+02       1.000000   \n",
       "25%     449.000000    1.000000    0.000000  6.233020e+05    1776.500000   \n",
       "50%    2777.000000    1.000000    0.000000  2.409338e+06    6096.000000   \n",
       "75%    3372.000000    1.000000    5.500000  5.217380e+06   15247.500000   \n",
       "max    4324.000000    7.000000   29.000000  3.262678e+07  370552.000000   \n",
       "\n",
       "           Dislikes      Comments  Aggregate Followers  \n",
       "count    231.000000    231.000000         1.960000e+02  \n",
       "mean     679.051948   1825.701299         3.038193e+06  \n",
       "std     1243.929481   3571.040447         4.886278e+06  \n",
       "min        0.000000      0.000000         1.066000e+03  \n",
       "25%      105.500000    248.500000         1.830250e+05  \n",
       "50%      341.000000    837.000000         1.052600e+06  \n",
       "75%      697.500000   2137.000000         3.694500e+06  \n",
       "max    13960.000000  38363.000000         3.103000e+07  "
      ]
     },
     "execution_count": 5,
     "metadata": {},
     "output_type": "execute_result"
    }
   ],
   "source": [
    "df.describe()"
   ]
  },
  {
   "cell_type": "code",
   "execution_count": 19,
   "id": "5e2fdfc3",
   "metadata": {},
   "outputs": [
    {
     "data": {
      "application/vnd.microsoft.datawrangler.viewer.v0+json": {
       "columns": [
        {
         "name": "index",
         "rawType": "object",
         "type": "string"
        },
        {
         "name": "0",
         "rawType": "int64",
         "type": "integer"
        }
       ],
       "ref": "89d1bf10-1a64-4aab-8ca0-7dc2c7df748e",
       "rows": [
        [
         "Movie",
         "0"
        ],
        [
         "Year",
         "0"
        ],
        [
         "Ratings",
         "0"
        ],
        [
         "Genre",
         "0"
        ],
        [
         "Gross",
         "0"
        ],
        [
         "Budget",
         "1"
        ],
        [
         "Screens",
         "10"
        ],
        [
         "Sequel",
         "0"
        ],
        [
         "Sentiment",
         "0"
        ],
        [
         "Views",
         "0"
        ],
        [
         "Likes",
         "0"
        ],
        [
         "Dislikes",
         "0"
        ],
        [
         "Comments",
         "0"
        ],
        [
         "Aggregate Followers",
         "35"
        ]
       ],
       "shape": {
        "columns": 1,
        "rows": 14
       }
      },
      "text/plain": [
       "Movie                   0\n",
       "Year                    0\n",
       "Ratings                 0\n",
       "Genre                   0\n",
       "Gross                   0\n",
       "Budget                  1\n",
       "Screens                10\n",
       "Sequel                  0\n",
       "Sentiment               0\n",
       "Views                   0\n",
       "Likes                   0\n",
       "Dislikes                0\n",
       "Comments                0\n",
       "Aggregate Followers    35\n",
       "dtype: int64"
      ]
     },
     "execution_count": 19,
     "metadata": {},
     "output_type": "execute_result"
    }
   ],
   "source": [
    "df.isnull().sum()"
   ]
  },
  {
   "cell_type": "code",
   "execution_count": 41,
   "id": "f6d92971",
   "metadata": {},
   "outputs": [
    {
     "data": {
      "application/vnd.microsoft.datawrangler.viewer.v0+json": {
       "columns": [
        {
         "name": "index",
         "rawType": "object",
         "type": "string"
        },
        {
         "name": "0",
         "rawType": "int64",
         "type": "integer"
        }
       ],
       "ref": "e3e48a77-6d35-4f68-84e8-9c1dd1ff38bd",
       "rows": [
        [
         "Movie",
         "0"
        ],
        [
         "Year",
         "0"
        ],
        [
         "Ratings",
         "0"
        ],
        [
         "Genre",
         "0"
        ],
        [
         "Gross",
         "0"
        ],
        [
         "Budget",
         "0"
        ],
        [
         "Screens",
         "0"
        ],
        [
         "Sequel",
         "0"
        ],
        [
         "Sentiment",
         "0"
        ],
        [
         "Views",
         "0"
        ],
        [
         "Likes",
         "0"
        ],
        [
         "Dislikes",
         "0"
        ],
        [
         "Comments",
         "0"
        ],
        [
         "Aggregate Followers",
         "35"
        ]
       ],
       "shape": {
        "columns": 1,
        "rows": 14
       }
      },
      "text/plain": [
       "Movie                   0\n",
       "Year                    0\n",
       "Ratings                 0\n",
       "Genre                   0\n",
       "Gross                   0\n",
       "Budget                  0\n",
       "Screens                 0\n",
       "Sequel                  0\n",
       "Sentiment               0\n",
       "Views                   0\n",
       "Likes                   0\n",
       "Dislikes                0\n",
       "Comments                0\n",
       "Aggregate Followers    35\n",
       "dtype: int64"
      ]
     },
     "execution_count": 41,
     "metadata": {},
     "output_type": "execute_result"
    }
   ],
   "source": [
    "df['Budget'].fillna(df['Budget'].mean(), inplace=True)\n",
    "df['Screens'].fillna(df['Screens'].mean(), inplace=True )\n",
    "df.isnull().sum()"
   ]
  },
  {
   "cell_type": "code",
   "execution_count": 42,
   "id": "8fdbf984",
   "metadata": {},
   "outputs": [
    {
     "data": {
      "text/plain": [
       "0"
      ]
     },
     "execution_count": 42,
     "metadata": {},
     "output_type": "execute_result"
    }
   ],
   "source": [
    "#checking for duplicates\n",
    "df = df.drop_duplicates()\n",
    "df.duplicated().sum()"
   ]
  },
  {
   "cell_type": "code",
   "execution_count": 50,
   "id": "224022f3",
   "metadata": {},
   "outputs": [],
   "source": [
    "X = df.drop(columns=['Gross','Movie'])\n",
    "y = df['Gross']\n"
   ]
  },
  {
   "cell_type": "code",
   "execution_count": 60,
   "id": "96059515",
   "metadata": {},
   "outputs": [],
   "source": [
    "num_cols = X.select_dtypes(include=[np.number]).columns.tolist()\n",
    "cat_cols = X.select_dtypes(include=['object']).columns.tolist()\n",
    "\n",
    "num_imputer = SimpleImputer(strategy='median')\n",
    "X_num = num_imputer.fit_transform(X[num_cols])\n",
    "\n",
    "scaler = StandardScaler()\n",
    "X_num_scaled = scaler.fit_transform(X_num)\n",
    "\n",
    "if cat_cols:\n",
    "    cat_imputer = SimpleImputer(strategy='most_frequent')\n",
    "    X_cat_raw = cat_imputer.fit_transform(X[cat_cols])\n",
    "\n",
    "    ohe = OneHotEncoder(handle_unknown='ignore', sparse=False)\n",
    "    X_cat = ohe.fit_transform(X_cat_raw)\n",
    "\n",
    "    X_processed = np.hstack([X_num_scaled, X_cat])\n",
    "else:\n",
    "    X_processed = X_num_scaled\n",
    "\n",
    "\n",
    "if np.isnan(X_processed).any():\n",
    "    print(\"⚠️ هنوز NaN داریم، حذف می‌کنیم...\")\n",
    "    # حذف سطرهایی که NaN دارند\n",
    "    mask = ~np.isnan(X_processed).any(axis=1)\n",
    "    X_processed = X_processed[mask]\n",
    "    y = y[mask]\n"
   ]
  },
  {
   "cell_type": "code",
   "execution_count": 61,
   "id": "c0233e1c",
   "metadata": {},
   "outputs": [],
   "source": [
    "X_train, X_test, y_train, y_test = train_test_split(X_processed, y, test_size=0.2, random_state=42)   \n"
   ]
  },
  {
   "cell_type": "code",
   "execution_count": 62,
   "id": "2f423107",
   "metadata": {},
   "outputs": [
    {
     "name": "stdout",
     "output_type": "stream",
     "text": [
      "Mean Squared Error: 2102521855128171.50\n"
     ]
    }
   ],
   "source": [
    "model = SGDRegressor(\n",
    "    loss='squared_error',\n",
    "    penalty='l2',\n",
    "    max_iter=1000,\n",
    "    tol=1e-3,\n",
    "    random_state=42\n",
    ")\n",
    "model.fit(X_train, y_train)\n",
    "y_pred = model.predict(X_test)\n",
    "mse = mean_squared_error(y_test, y_pred)\n",
    "print(f\"Mean Squared Error: {mse:.2f}\")"
   ]
  }
 ],
 "metadata": {
  "kernelspec": {
   "display_name": "base",
   "language": "python",
   "name": "python3"
  },
  "language_info": {
   "codemirror_mode": {
    "name": "ipython",
    "version": 3
   },
   "file_extension": ".py",
   "mimetype": "text/x-python",
   "name": "python",
   "nbconvert_exporter": "python",
   "pygments_lexer": "ipython3",
   "version": "3.8.8"
  }
 },
 "nbformat": 4,
 "nbformat_minor": 5
}
