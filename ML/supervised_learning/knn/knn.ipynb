{
 "cells": [
  {
   "cell_type": "code",
   "execution_count": 2,
   "id": "69e53784",
   "metadata": {},
   "outputs": [],
   "source": [
    "import numpy as np\n",
    "import pandas as pd\n",
    "import matplotlib.pyplot as plt\n",
    "import seaborn as sns"
   ]
  },
  {
   "cell_type": "code",
   "execution_count": 20,
   "id": "1440dad8",
   "metadata": {},
   "outputs": [
    {
     "data": {
      "application/vnd.microsoft.datawrangler.viewer.v0+json": {
       "columns": [
        {
         "name": "index",
         "rawType": "int64",
         "type": "integer"
        },
        {
         "name": "b",
         "rawType": "object",
         "type": "string"
        },
        {
         "name": "30.83",
         "rawType": "float64",
         "type": "float"
        },
        {
         "name": "0",
         "rawType": "float64",
         "type": "float"
        },
        {
         "name": "u",
         "rawType": "object",
         "type": "string"
        },
        {
         "name": "g",
         "rawType": "object",
         "type": "string"
        },
        {
         "name": "w",
         "rawType": "object",
         "type": "string"
        },
        {
         "name": "v",
         "rawType": "object",
         "type": "string"
        },
        {
         "name": "1.25",
         "rawType": "float64",
         "type": "float"
        },
        {
         "name": "t",
         "rawType": "object",
         "type": "string"
        },
        {
         "name": "t.1",
         "rawType": "object",
         "type": "string"
        },
        {
         "name": "1",
         "rawType": "int64",
         "type": "integer"
        },
        {
         "name": "f",
         "rawType": "object",
         "type": "string"
        },
        {
         "name": "g.1",
         "rawType": "object",
         "type": "string"
        },
        {
         "name": "202",
         "rawType": "float64",
         "type": "float"
        },
        {
         "name": "0.1",
         "rawType": "int64",
         "type": "integer"
        },
        {
         "name": "+",
         "rawType": "object",
         "type": "string"
        }
       ],
       "conversionMethod": "pd.DataFrame",
       "ref": "4c64cd2c-6428-43ae-b3ac-7ce62a6639cf",
       "rows": [
        [
         "0",
         "a",
         "58.67",
         "4.46",
         "u",
         "g",
         "q",
         "h",
         "3.04",
         "t",
         "t",
         "6",
         "f",
         "g",
         "43.0",
         "560",
         "+"
        ],
        [
         "1",
         "a",
         "24.5",
         "0.5",
         "u",
         "g",
         "q",
         "h",
         "1.5",
         "t",
         "f",
         "0",
         "f",
         "g",
         "280.0",
         "824",
         "+"
        ],
        [
         "2",
         "b",
         "27.83",
         "1.54",
         "u",
         "g",
         "w",
         "v",
         "3.75",
         "t",
         "t",
         "5",
         "t",
         "g",
         "100.0",
         "3",
         "+"
        ],
        [
         "3",
         "b",
         "20.17",
         "5.625",
         "u",
         "g",
         "w",
         "v",
         "1.71",
         "t",
         "f",
         "0",
         "f",
         "s",
         "120.0",
         "0",
         "+"
        ],
        [
         "4",
         "b",
         "32.08",
         "4.0",
         "u",
         "g",
         "m",
         "v",
         "2.5",
         "t",
         "f",
         "0",
         "t",
         "g",
         "360.0",
         "0",
         "+"
        ]
       ],
       "shape": {
        "columns": 16,
        "rows": 5
       }
      },
      "text/html": [
       "<div>\n",
       "<style scoped>\n",
       "    .dataframe tbody tr th:only-of-type {\n",
       "        vertical-align: middle;\n",
       "    }\n",
       "\n",
       "    .dataframe tbody tr th {\n",
       "        vertical-align: top;\n",
       "    }\n",
       "\n",
       "    .dataframe thead th {\n",
       "        text-align: right;\n",
       "    }\n",
       "</style>\n",
       "<table border=\"1\" class=\"dataframe\">\n",
       "  <thead>\n",
       "    <tr style=\"text-align: right;\">\n",
       "      <th></th>\n",
       "      <th>b</th>\n",
       "      <th>30.83</th>\n",
       "      <th>0</th>\n",
       "      <th>u</th>\n",
       "      <th>g</th>\n",
       "      <th>w</th>\n",
       "      <th>v</th>\n",
       "      <th>1.25</th>\n",
       "      <th>t</th>\n",
       "      <th>t.1</th>\n",
       "      <th>1</th>\n",
       "      <th>f</th>\n",
       "      <th>g.1</th>\n",
       "      <th>202</th>\n",
       "      <th>0.1</th>\n",
       "      <th>+</th>\n",
       "    </tr>\n",
       "  </thead>\n",
       "  <tbody>\n",
       "    <tr>\n",
       "      <th>0</th>\n",
       "      <td>a</td>\n",
       "      <td>58.67</td>\n",
       "      <td>4.460</td>\n",
       "      <td>u</td>\n",
       "      <td>g</td>\n",
       "      <td>q</td>\n",
       "      <td>h</td>\n",
       "      <td>3.04</td>\n",
       "      <td>t</td>\n",
       "      <td>t</td>\n",
       "      <td>6</td>\n",
       "      <td>f</td>\n",
       "      <td>g</td>\n",
       "      <td>43.0</td>\n",
       "      <td>560</td>\n",
       "      <td>+</td>\n",
       "    </tr>\n",
       "    <tr>\n",
       "      <th>1</th>\n",
       "      <td>a</td>\n",
       "      <td>24.50</td>\n",
       "      <td>0.500</td>\n",
       "      <td>u</td>\n",
       "      <td>g</td>\n",
       "      <td>q</td>\n",
       "      <td>h</td>\n",
       "      <td>1.50</td>\n",
       "      <td>t</td>\n",
       "      <td>f</td>\n",
       "      <td>0</td>\n",
       "      <td>f</td>\n",
       "      <td>g</td>\n",
       "      <td>280.0</td>\n",
       "      <td>824</td>\n",
       "      <td>+</td>\n",
       "    </tr>\n",
       "    <tr>\n",
       "      <th>2</th>\n",
       "      <td>b</td>\n",
       "      <td>27.83</td>\n",
       "      <td>1.540</td>\n",
       "      <td>u</td>\n",
       "      <td>g</td>\n",
       "      <td>w</td>\n",
       "      <td>v</td>\n",
       "      <td>3.75</td>\n",
       "      <td>t</td>\n",
       "      <td>t</td>\n",
       "      <td>5</td>\n",
       "      <td>t</td>\n",
       "      <td>g</td>\n",
       "      <td>100.0</td>\n",
       "      <td>3</td>\n",
       "      <td>+</td>\n",
       "    </tr>\n",
       "    <tr>\n",
       "      <th>3</th>\n",
       "      <td>b</td>\n",
       "      <td>20.17</td>\n",
       "      <td>5.625</td>\n",
       "      <td>u</td>\n",
       "      <td>g</td>\n",
       "      <td>w</td>\n",
       "      <td>v</td>\n",
       "      <td>1.71</td>\n",
       "      <td>t</td>\n",
       "      <td>f</td>\n",
       "      <td>0</td>\n",
       "      <td>f</td>\n",
       "      <td>s</td>\n",
       "      <td>120.0</td>\n",
       "      <td>0</td>\n",
       "      <td>+</td>\n",
       "    </tr>\n",
       "    <tr>\n",
       "      <th>4</th>\n",
       "      <td>b</td>\n",
       "      <td>32.08</td>\n",
       "      <td>4.000</td>\n",
       "      <td>u</td>\n",
       "      <td>g</td>\n",
       "      <td>m</td>\n",
       "      <td>v</td>\n",
       "      <td>2.50</td>\n",
       "      <td>t</td>\n",
       "      <td>f</td>\n",
       "      <td>0</td>\n",
       "      <td>t</td>\n",
       "      <td>g</td>\n",
       "      <td>360.0</td>\n",
       "      <td>0</td>\n",
       "      <td>+</td>\n",
       "    </tr>\n",
       "  </tbody>\n",
       "</table>\n",
       "</div>"
      ],
      "text/plain": [
       "   b  30.83      0  u  g  w  v  1.25  t t.1  1  f g.1    202  0.1  +\n",
       "0  a  58.67  4.460  u  g  q  h  3.04  t   t  6  f   g   43.0  560  +\n",
       "1  a  24.50  0.500  u  g  q  h  1.50  t   f  0  f   g  280.0  824  +\n",
       "2  b  27.83  1.540  u  g  w  v  3.75  t   t  5  t   g  100.0    3  +\n",
       "3  b  20.17  5.625  u  g  w  v  1.71  t   f  0  f   s  120.0    0  +\n",
       "4  b  32.08  4.000  u  g  m  v  2.50  t   f  0  t   g  360.0    0  +"
      ]
     },
     "execution_count": 20,
     "metadata": {},
     "output_type": "execute_result"
    }
   ],
   "source": [
    "df = pd.read_csv(\"crx.csv\",\n",
    "                 na_values='?')\n",
    "df.head()"
   ]
  },
  {
   "cell_type": "code",
   "execution_count": 21,
   "id": "45e89a56",
   "metadata": {},
   "outputs": [
    {
     "name": "stdout",
     "output_type": "stream",
     "text": [
      "<class 'pandas.core.frame.DataFrame'>\n",
      "RangeIndex: 689 entries, 0 to 688\n",
      "Data columns (total 16 columns):\n",
      " #   Column  Non-Null Count  Dtype  \n",
      "---  ------  --------------  -----  \n",
      " 0   b       677 non-null    object \n",
      " 1   30.83   677 non-null    float64\n",
      " 2   0       689 non-null    float64\n",
      " 3   u       683 non-null    object \n",
      " 4   g       683 non-null    object \n",
      " 5   w       680 non-null    object \n",
      " 6   v       680 non-null    object \n",
      " 7   1.25    689 non-null    float64\n",
      " 8   t       689 non-null    object \n",
      " 9   t.1     689 non-null    object \n",
      " 10  1       689 non-null    int64  \n",
      " 11  f       689 non-null    object \n",
      " 12  g.1     689 non-null    object \n",
      " 13  202     676 non-null    float64\n",
      " 14  0.1     689 non-null    int64  \n",
      " 15  +       689 non-null    object \n",
      "dtypes: float64(4), int64(2), object(10)\n",
      "memory usage: 86.2+ KB\n"
     ]
    }
   ],
   "source": [
    "df.info()"
   ]
  },
  {
   "cell_type": "code",
   "execution_count": 22,
   "id": "b99fd284",
   "metadata": {},
   "outputs": [
    {
     "data": {
      "text/plain": [
       "b        12\n",
       "30.83    12\n",
       "0         0\n",
       "u         6\n",
       "g         6\n",
       "w         9\n",
       "v         9\n",
       "1.25      0\n",
       "t         0\n",
       "t.1       0\n",
       "1         0\n",
       "f         0\n",
       "g.1       0\n",
       "202      13\n",
       "0.1       0\n",
       "+         0\n",
       "dtype: int64"
      ]
     },
     "execution_count": 22,
     "metadata": {},
     "output_type": "execute_result"
    }
   ],
   "source": [
    "df.isna().sum()"
   ]
  },
  {
   "cell_type": "code",
   "execution_count": 23,
   "id": "69fc58f2",
   "metadata": {},
   "outputs": [
    {
     "data": {
      "text/plain": [
       "([1, 2, 7, 10, 13, 14], [3, 4, 5, 6, 8, 9, 11, 12, 15])"
      ]
     },
     "execution_count": 23,
     "metadata": {},
     "output_type": "execute_result"
    }
   ],
   "source": [
    "#continous data\n",
    "cont_att = [1, 2, 7, 10, 13, 14]\n",
    "\n",
    "#discrete data\n",
    "dis_att = []\n",
    "for i in range(1, 16):\n",
    "    if i not in cont_att:\n",
    "        dis_att.append(i)\n",
    "\n",
    "cont_att, dis_att"
   ]
  },
  {
   "cell_type": "code",
   "execution_count": 24,
   "id": "76498f24",
   "metadata": {},
   "outputs": [
    {
     "name": "stdout",
     "output_type": "stream",
     "text": [
      "b        0\n",
      "30.83    0\n",
      "0        0\n",
      "u        0\n",
      "g        0\n",
      "w        0\n",
      "v        0\n",
      "1.25     0\n",
      "t        0\n",
      "t.1      0\n",
      "1        0\n",
      "f        0\n",
      "g.1      0\n",
      "202      0\n",
      "0.1      0\n",
      "+        0\n",
      "dtype: int64\n"
     ]
    }
   ],
   "source": [
    "for index in range(len(df.columns)):\n",
    "    column_name = df.columns[index]\n",
    "    if index in cont_att:  # Adjusting for 1-based indexing in cont_att\n",
    "        df[column_name].fillna(df[column_name].mean(), inplace=True)\n",
    "    else:\n",
    "        df[column_name].fillna(df[column_name].mode()[0], inplace=True)\n",
    "        # Filling missing values with mean for continuous and mode for discrete\n",
    "\n",
    "print(df.isna().sum())"
   ]
  },
  {
   "cell_type": "code",
   "execution_count": 25,
   "id": "b40f6218",
   "metadata": {},
   "outputs": [
    {
     "data": {
      "application/vnd.microsoft.datawrangler.viewer.v0+json": {
       "columns": [
        {
         "name": "index",
         "rawType": "int64",
         "type": "integer"
        },
        {
         "name": "30.83",
         "rawType": "float64",
         "type": "float"
        },
        {
         "name": "0",
         "rawType": "float64",
         "type": "float"
        },
        {
         "name": "1.25",
         "rawType": "float64",
         "type": "float"
        },
        {
         "name": "1",
         "rawType": "float64",
         "type": "float"
        },
        {
         "name": "202",
         "rawType": "float64",
         "type": "float"
        },
        {
         "name": "0.1",
         "rawType": "float64",
         "type": "float"
        }
       ],
       "conversionMethod": "pd.DataFrame",
       "ref": "bd65e670-d195-4099-9d74-a1a3796a0e38",
       "rows": [
        [
         "0",
         "0.6754887218045112",
         "0.15928571428571428",
         "0.10666666666666666",
         "0.08955223880597014",
         "0.021500000000000002",
         "0.005600000000000001"
        ],
        [
         "1",
         "0.16165413533834586",
         "0.017857142857142856",
         "0.05263157894736842",
         "0.0",
         "0.14",
         "0.00824"
        ],
        [
         "2",
         "0.21172932330827063",
         "0.055",
         "0.13157894736842105",
         "0.07462686567164178",
         "0.05",
         "3.0000000000000004e-05"
        ],
        [
         "3",
         "0.09654135338345868",
         "0.20089285714285712",
         "0.06",
         "0.0",
         "0.06",
         "0.0"
        ],
        [
         "4",
         "0.2756390977443609",
         "0.14285714285714285",
         "0.08771929824561403",
         "0.0",
         "0.18",
         "0.0"
        ]
       ],
       "shape": {
        "columns": 6,
        "rows": 5
       }
      },
      "text/html": [
       "<div>\n",
       "<style scoped>\n",
       "    .dataframe tbody tr th:only-of-type {\n",
       "        vertical-align: middle;\n",
       "    }\n",
       "\n",
       "    .dataframe tbody tr th {\n",
       "        vertical-align: top;\n",
       "    }\n",
       "\n",
       "    .dataframe thead th {\n",
       "        text-align: right;\n",
       "    }\n",
       "</style>\n",
       "<table border=\"1\" class=\"dataframe\">\n",
       "  <thead>\n",
       "    <tr style=\"text-align: right;\">\n",
       "      <th></th>\n",
       "      <th>30.83</th>\n",
       "      <th>0</th>\n",
       "      <th>1.25</th>\n",
       "      <th>1</th>\n",
       "      <th>202</th>\n",
       "      <th>0.1</th>\n",
       "    </tr>\n",
       "  </thead>\n",
       "  <tbody>\n",
       "    <tr>\n",
       "      <th>0</th>\n",
       "      <td>0.675489</td>\n",
       "      <td>0.159286</td>\n",
       "      <td>0.106667</td>\n",
       "      <td>0.089552</td>\n",
       "      <td>0.0215</td>\n",
       "      <td>0.00560</td>\n",
       "    </tr>\n",
       "    <tr>\n",
       "      <th>1</th>\n",
       "      <td>0.161654</td>\n",
       "      <td>0.017857</td>\n",
       "      <td>0.052632</td>\n",
       "      <td>0.000000</td>\n",
       "      <td>0.1400</td>\n",
       "      <td>0.00824</td>\n",
       "    </tr>\n",
       "    <tr>\n",
       "      <th>2</th>\n",
       "      <td>0.211729</td>\n",
       "      <td>0.055000</td>\n",
       "      <td>0.131579</td>\n",
       "      <td>0.074627</td>\n",
       "      <td>0.0500</td>\n",
       "      <td>0.00003</td>\n",
       "    </tr>\n",
       "    <tr>\n",
       "      <th>3</th>\n",
       "      <td>0.096541</td>\n",
       "      <td>0.200893</td>\n",
       "      <td>0.060000</td>\n",
       "      <td>0.000000</td>\n",
       "      <td>0.0600</td>\n",
       "      <td>0.00000</td>\n",
       "    </tr>\n",
       "    <tr>\n",
       "      <th>4</th>\n",
       "      <td>0.275639</td>\n",
       "      <td>0.142857</td>\n",
       "      <td>0.087719</td>\n",
       "      <td>0.000000</td>\n",
       "      <td>0.1800</td>\n",
       "      <td>0.00000</td>\n",
       "    </tr>\n",
       "  </tbody>\n",
       "</table>\n",
       "</div>"
      ],
      "text/plain": [
       "      30.83         0      1.25         1     202      0.1\n",
       "0  0.675489  0.159286  0.106667  0.089552  0.0215  0.00560\n",
       "1  0.161654  0.017857  0.052632  0.000000  0.1400  0.00824\n",
       "2  0.211729  0.055000  0.131579  0.074627  0.0500  0.00003\n",
       "3  0.096541  0.200893  0.060000  0.000000  0.0600  0.00000\n",
       "4  0.275639  0.142857  0.087719  0.000000  0.1800  0.00000"
      ]
     },
     "execution_count": 25,
     "metadata": {},
     "output_type": "execute_result"
    }
   ],
   "source": [
    "#normalizing the data\n",
    "from sklearn.preprocessing import MinMaxScaler\n",
    "scaler = MinMaxScaler()\n",
    "cont_att = df.columns[[1, 2, 7, 10, 13, 14]].tolist()\n",
    "df[cont_att] = scaler.fit_transform(df[cont_att])\n",
    "df[cont_att].head()"
   ]
  },
  {
   "cell_type": "code",
   "execution_count": 26,
   "id": "304eebdd",
   "metadata": {},
   "outputs": [
    {
     "name": "stderr",
     "output_type": "stream",
     "text": [
      "C:\\Users\\USer\\AppData\\Roaming\\Python\\Python38\\site-packages\\sklearn\\preprocessing\\_encoders.py:975: FutureWarning: `sparse` was renamed to `sparse_output` in version 1.2 and will be removed in 1.4. `sparse_output` is ignored unless you leave `sparse` to its default value.\n",
      "  warnings.warn(\n"
     ]
    }
   ],
   "source": [
    "from sklearn.preprocessing import OneHotEncoder\n",
    "one_hot  = OneHotEncoder(sparse = False)\n",
    "# Get column names from positions\n",
    "dis_att_cols = df.columns[dis_att].tolist()\n",
    "\n",
    "# Then use these names for one-hot encoding\n",
    "one_hot_data = one_hot.fit_transform(df[dis_att_cols])\n",
    "one_hot_data = pd.DataFrame(one_hot_data, \n",
    "                          columns=one_hot.get_feature_names_out(dis_att_cols))"
   ]
  },
  {
   "cell_type": "code",
   "execution_count": 27,
   "id": "6c2fd92a",
   "metadata": {},
   "outputs": [
    {
     "data": {
      "text/plain": [
       "+\n",
       "0    383\n",
       "1    306\n",
       "Name: count, dtype: int64"
      ]
     },
     "execution_count": 27,
     "metadata": {},
     "output_type": "execute_result"
    }
   ],
   "source": [
    "#Convert the target variable to binary\n",
    "df['+'] = df['+'].map({'+': 1, '-': 0})\n",
    "df['+'].value_counts()"
   ]
  },
  {
   "cell_type": "code",
   "execution_count": 28,
   "id": "3d862015",
   "metadata": {},
   "outputs": [],
   "source": [
    "from sklearn.model_selection import train_test_split\n",
    "x = df.drop(columns='+')\n",
    "y = df['+']\n",
    "\n",
    "X_train, X_test, y_train, y_test = train_test_split(x, y, test_size=0.2, random_state=42)   \n"
   ]
  },
  {
   "cell_type": "code",
   "execution_count": 29,
   "id": "145edce5",
   "metadata": {},
   "outputs": [],
   "source": [
    "from sklearn.preprocessing import OrdinalEncoder, OneHotEncoder\n",
    "\n",
    "# Example for ordinal encoding:\n",
    "ordinal_cols = [col for col in X_train.columns if X_train[col].dtype == 'object']\n",
    "encoder = OrdinalEncoder()\n",
    "X_train[ordinal_cols] = encoder.fit_transform(X_train[ordinal_cols])\n",
    "X_test[ordinal_cols] = encoder.transform(X_test[ordinal_cols])"
   ]
  },
  {
   "cell_type": "code",
   "execution_count": 30,
   "id": "20a4e615",
   "metadata": {},
   "outputs": [
    {
     "name": "stdout",
     "output_type": "stream",
     "text": [
      "Accuracy: 0.76\n"
     ]
    }
   ],
   "source": [
    "from sklearn.neighbors import KNeighborsClassifier\n",
    "\n",
    "knn = KNeighborsClassifier(n_neighbors=5)\n",
    "knn.fit(X_train, y_train)\n",
    "score = knn.score(X_test, y_test)\n",
    "print(f\"Accuracy: {score:.2f}\")\n"
   ]
  },
  {
   "cell_type": "code",
   "execution_count": 31,
   "id": "dba0e871",
   "metadata": {},
   "outputs": [
    {
     "data": {
      "image/png": "[encoded data removed]",
      "text/plain": [
       "<Figure size 720x432 with 1 Axes>"
      ]
     },
     "metadata": {
      "needs_background": "light"
     },
     "output_type": "display_data"
    }
   ],
   "source": [
    "list_of_scores = []\n",
    "\n",
    "for i in range(1, 20):\n",
    "    knn = KNeighborsClassifier(n_neighbors=i)\n",
    "    knn.fit(X_train, y_train)\n",
    "    score = knn.score(X_test, y_test)\n",
    "    list_of_scores.append(score)\n",
    "\n",
    "plt.figure(figsize=(10, 6))\n",
    "plt.plot(range(1, 20), list_of_scores, marker='o')\n",
    "plt.title('KNN Classifier Accuracy vs. K Value')\n",
    "plt.xlabel('K Value')\n",
    "plt.ylabel('Accuracy')\n",
    "plt.xticks(range(1, 20))\n",
    "plt.grid()\n",
    "plt.show()"
   ]
  },
  {
   "cell_type": "code",
   "execution_count": 33,
   "id": "95fa5851",
   "metadata": {},
   "outputs": [
    {
     "name": "stdout",
     "output_type": "stream",
     "text": [
      "4\n"
     ]
    }
   ],
   "source": [
    "scores = np.array(list_of_scores)\n",
    "index_max = np.argmax(scores)\n",
    "print(index_max+1) "
   ]
  }
 ],
 "metadata": {
  "kernelspec": {
   "display_name": "base",
   "language": "python",
   "name": "python3"
  },
  "language_info": {
   "codemirror_mode": {
    "name": "ipython",
    "version": 3
   },
   "file_extension": ".py",
   "mimetype": "text/x-python",
   "name": "python",
   "nbconvert_exporter": "python",
   "pygments_lexer": "ipython3",
   "version": "3.8.8"
  }
 },
 "nbformat": 4,
 "nbformat_minor": 5
}
