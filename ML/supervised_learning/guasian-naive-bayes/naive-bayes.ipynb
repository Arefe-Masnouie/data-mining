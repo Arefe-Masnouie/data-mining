{
 "cells": [
  {
   "cell_type": "code",
   "execution_count": 15,
   "id": "100811ab",
   "metadata": {},
   "outputs": [],
   "source": [
    "import numpy as np\n",
    "from sklearn.datasets import load_iris\n",
    "from sklearn.model_selection import train_test_split\n",
    "from sklearn.naive_bayes import GaussianNB, MultinomialNB\n",
    "from sklearn.metrics import accuracy_score, roc_curve, confusion_matrix\n",
    "import matplotlib.pyplot as plt\n",
    "import seaborn as sns"
   ]
  },
  {
   "cell_type": "code",
   "execution_count": 2,
   "id": "3a6750db",
   "metadata": {},
   "outputs": [
    {
     "name": "stdout",
     "output_type": "stream",
     "text": [
      "(150, 4)\n"
     ]
    }
   ],
   "source": [
    "X,Y = load_iris(return_X_y=True)\n",
    "\n",
    "print(X.shape)"
   ]
  },
  {
   "cell_type": "code",
   "execution_count": 4,
   "id": "ed700f99",
   "metadata": {},
   "outputs": [
    {
     "name": "stdout",
     "output_type": "stream",
     "text": [
      "(120, 4) (30, 4)\n"
     ]
    }
   ],
   "source": [
    "X_train,X_test,y_train,y_test = train_test_split(X,Y, test_size=0.2)\n",
    "\n",
    "print(X_train.shape, X_test.shape)"
   ]
  },
  {
   "cell_type": "code",
   "execution_count": 5,
   "id": "626fe1e2",
   "metadata": {},
   "outputs": [
    {
     "data": {
      "text/plain": [
       "array([[5.1, 2.5, 3. , 1.1],\n",
       "       [7.6, 3. , 6.6, 2.1],\n",
       "       [5.9, 3. , 5.1, 1.8],\n",
       "       [6.1, 2.8, 4. , 1.3],\n",
       "       [4.6, 3.1, 1.5, 0.2],\n",
       "       [5.1, 3.8, 1.9, 0.4],\n",
       "       [5. , 3.6, 1.4, 0.2],\n",
       "       [4.5, 2.3, 1.3, 0.3],\n",
       "       [5.5, 3.5, 1.3, 0.2],\n",
       "       [5.5, 2.5, 4. , 1.3],\n",
       "       [7.7, 2.6, 6.9, 2.3],\n",
       "       [6.4, 2.9, 4.3, 1.3],\n",
       "       [6.1, 3. , 4.9, 1.8],\n",
       "       [4.4, 2.9, 1.4, 0.2],\n",
       "       [5. , 3.2, 1.2, 0.2],\n",
       "       [6.7, 3.1, 4.7, 1.5],\n",
       "       [5.9, 3.2, 4.8, 1.8],\n",
       "       [6.7, 2.5, 5.8, 1.8],\n",
       "       [6.2, 2.9, 4.3, 1.3],\n",
       "       [6.9, 3.1, 5.4, 2.1],\n",
       "       [5.4, 3.7, 1.5, 0.2],\n",
       "       [4.7, 3.2, 1.6, 0.2],\n",
       "       [6. , 3.4, 4.5, 1.6],\n",
       "       [5.1, 3.3, 1.7, 0.5],\n",
       "       [6.3, 2.7, 4.9, 1.8],\n",
       "       [4.9, 3.1, 1.5, 0.1],\n",
       "       [7.1, 3. , 5.9, 2.1],\n",
       "       [5.6, 2.5, 3.9, 1.1],\n",
       "       [4.9, 3. , 1.4, 0.2],\n",
       "       [5. , 3.4, 1.6, 0.4],\n",
       "       [5.9, 3. , 4.2, 1.5],\n",
       "       [6.2, 2.8, 4.8, 1.8],\n",
       "       [4.6, 3.2, 1.4, 0.2],\n",
       "       [4.9, 2.4, 3.3, 1. ],\n",
       "       [6. , 2.2, 5. , 1.5],\n",
       "       [6.7, 3.3, 5.7, 2.1],\n",
       "       [7.7, 3. , 6.1, 2.3],\n",
       "       [6.4, 2.8, 5.6, 2.2],\n",
       "       [5.3, 3.7, 1.5, 0.2],\n",
       "       [5. , 3.5, 1.6, 0.6],\n",
       "       [6.4, 3.1, 5.5, 1.8],\n",
       "       [6.7, 3.3, 5.7, 2.5],\n",
       "       [5.4, 3.9, 1.7, 0.4],\n",
       "       [5.8, 2.7, 5.1, 1.9],\n",
       "       [6.5, 3. , 5.5, 1.8],\n",
       "       [6.1, 2.9, 4.7, 1.4],\n",
       "       [6.5, 2.8, 4.6, 1.5],\n",
       "       [6.9, 3.2, 5.7, 2.3],\n",
       "       [5.7, 2.9, 4.2, 1.3],\n",
       "       [6.3, 2.9, 5.6, 1.8],\n",
       "       [5.8, 4. , 1.2, 0.2],\n",
       "       [5.1, 3.7, 1.5, 0.4],\n",
       "       [4.8, 3.4, 1.9, 0.2],\n",
       "       [5.8, 2.7, 4.1, 1. ],\n",
       "       [6.8, 2.8, 4.8, 1.4],\n",
       "       [4.3, 3. , 1.1, 0.1],\n",
       "       [7. , 3.2, 4.7, 1.4],\n",
       "       [6.6, 2.9, 4.6, 1.3],\n",
       "       [6.8, 3. , 5.5, 2.1],\n",
       "       [6.5, 3. , 5.2, 2. ],\n",
       "       [5.1, 3.5, 1.4, 0.3],\n",
       "       [5.5, 2.6, 4.4, 1.2],\n",
       "       [6. , 2.2, 4. , 1. ],\n",
       "       [6.3, 2.5, 4.9, 1.5],\n",
       "       [5.8, 2.8, 5.1, 2.4],\n",
       "       [4.8, 3.1, 1.6, 0.2],\n",
       "       [5. , 3.3, 1.4, 0.2],\n",
       "       [6.2, 2.2, 4.5, 1.5],\n",
       "       [5.7, 3.8, 1.7, 0.3],\n",
       "       [5. , 3.5, 1.3, 0.3],\n",
       "       [5.7, 2.5, 5. , 2. ],\n",
       "       [5.1, 3.8, 1.6, 0.2],\n",
       "       [4.8, 3. , 1.4, 0.3],\n",
       "       [5.5, 4.2, 1.4, 0.2],\n",
       "       [6. , 2.9, 4.5, 1.5],\n",
       "       [6.5, 3.2, 5.1, 2. ],\n",
       "       [5.6, 2.7, 4.2, 1.3],\n",
       "       [6.3, 3.4, 5.6, 2.4],\n",
       "       [4.4, 3.2, 1.3, 0.2],\n",
       "       [7.7, 2.8, 6.7, 2. ],\n",
       "       [4.4, 3. , 1.3, 0.2],\n",
       "       [5.7, 2.8, 4.1, 1.3],\n",
       "       [5.2, 3.5, 1.5, 0.2],\n",
       "       [7.2, 3.2, 6. , 1.8],\n",
       "       [5.6, 3. , 4.1, 1.3],\n",
       "       [5.5, 2.3, 4. , 1.3],\n",
       "       [6. , 2.7, 5.1, 1.6],\n",
       "       [6.8, 3.2, 5.9, 2.3],\n",
       "       [6.2, 3.4, 5.4, 2.3],\n",
       "       [6.3, 2.3, 4.4, 1.3],\n",
       "       [5.1, 3.4, 1.5, 0.2],\n",
       "       [4.9, 3.1, 1.5, 0.2],\n",
       "       [4.7, 3.2, 1.3, 0.2],\n",
       "       [5.8, 2.6, 4. , 1.2],\n",
       "       [7.9, 3.8, 6.4, 2. ],\n",
       "       [5.1, 3.8, 1.5, 0.3],\n",
       "       [7.2, 3. , 5.8, 1.6],\n",
       "       [4.9, 2.5, 4.5, 1.7],\n",
       "       [6.4, 2.7, 5.3, 1.9],\n",
       "       [4.9, 3.6, 1.4, 0.1],\n",
       "       [6.4, 3.2, 4.5, 1.5],\n",
       "       [6.7, 3. , 5.2, 2.3],\n",
       "       [5.4, 3.4, 1.7, 0.2],\n",
       "       [5.2, 4.1, 1.5, 0.1],\n",
       "       [6.5, 3. , 5.8, 2.2],\n",
       "       [4.6, 3.4, 1.4, 0.3],\n",
       "       [4.8, 3.4, 1.6, 0.2],\n",
       "       [5.4, 3. , 4.5, 1.5],\n",
       "       [6.3, 3.3, 6. , 2.5],\n",
       "       [5.8, 2.7, 3.9, 1.2],\n",
       "       [5.7, 2.8, 4.5, 1.3],\n",
       "       [5.1, 3.5, 1.4, 0.2],\n",
       "       [6.4, 2.8, 5.6, 2.1],\n",
       "       [6.9, 3.1, 4.9, 1.5],\n",
       "       [5.2, 2.7, 3.9, 1.4],\n",
       "       [5. , 2.3, 3.3, 1. ],\n",
       "       [7.7, 3.8, 6.7, 2.2],\n",
       "       [6.3, 3.3, 4.7, 1.6],\n",
       "       [5. , 2. , 3.5, 1. ],\n",
       "       [5.6, 3. , 4.5, 1.5]])"
      ]
     },
     "execution_count": 5,
     "metadata": {},
     "output_type": "execute_result"
    }
   ],
   "source": [
    "X_train"
   ]
  },
  {
   "cell_type": "code",
   "execution_count": 8,
   "id": "41f25f19",
   "metadata": {},
   "outputs": [
    {
     "name": "stdout",
     "output_type": "stream",
     "text": [
      "0.9\n"
     ]
    }
   ],
   "source": [
    "gnb = GaussianNB()\n",
    "gnb.fit(X_train, y_train)\n",
    "y_pred = gnb.predict(X_test)\n",
    "acc = accuracy_score(y_test,y_pred)\n",
    "\n",
    "print(acc)"
   ]
  },
  {
   "cell_type": "code",
   "execution_count": 10,
   "id": "c74e3091",
   "metadata": {},
   "outputs": [
    {
     "name": "stdout",
     "output_type": "stream",
     "text": [
      "0.9\n"
     ]
    }
   ],
   "source": [
    "mnb = MultinomialNB()\n",
    "mnb.fit(X_train,y_train)\n",
    "acc_mnb = accuracy_score(y_test, mnb.predict(X_test))\n",
    "\n",
    "print(acc_mnb)"
   ]
  },
  {
   "cell_type": "code",
   "execution_count": 16,
   "id": "cab29647",
   "metadata": {},
   "outputs": [
    {
     "data": {
      "image/png": "[encoded data removed]",
      "text/plain": [
       "<Figure size 432x288 with 2 Axes>"
      ]
     },
     "metadata": {
      "needs_background": "light"
     },
     "output_type": "display_data"
    }
   ],
   "source": [
    "cm = confusion_matrix(y_test, y_pred)\n",
    "sns.heatmap(cm, cmap='Reds', annot=True)\n",
    "plt.show()"
   ]
  },
  {
   "cell_type": "code",
   "execution_count": 17,
   "id": "2ce956a2",
   "metadata": {},
   "outputs": [
    {
     "data": {
      "image/png": "[encoded data removed]",
      "text/plain": [
       "<Figure size 432x288 with 2 Axes>"
      ]
     },
     "metadata": {
      "needs_background": "light"
     },
     "output_type": "display_data"
    }
   ],
   "source": [
    "cm = confusion_matrix(y_test, mnb.predict(X_test))\n",
    "sns.heatmap(cm, cmap='Reds', annot=True)\n",
    "plt.show()"
   ]
  }
 ],
 "metadata": {
  "kernelspec": {
   "display_name": "base",
   "language": "python",
   "name": "python3"
  },
  "language_info": {
   "codemirror_mode": {
    "name": "ipython",
    "version": 3
   },
   "file_extension": ".py",
   "mimetype": "text/x-python",
   "name": "python",
   "nbconvert_exporter": "python",
   "pygments_lexer": "ipython3",
   "version": "3.8.8"
  }
 },
 "nbformat": 4,
 "nbformat_minor": 5
}
