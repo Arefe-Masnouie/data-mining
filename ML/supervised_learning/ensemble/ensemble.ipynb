{
 "cells": [
  {
   "cell_type": "code",
   "execution_count": 13,
   "id": "050b2e22",
   "metadata": {},
   "outputs": [],
   "source": [
    "import numpy as np\n",
    "import pandas as pd\n",
    "import matplotlib.pyplot as plt\n",
    "from sklearn.model_selection import train_test_split\n",
    "from sklearn.preprocessing import MinMaxScaler\n",
    "from sklearn.ensemble import RandomForestRegressor,AdaBoostClassifier\n"
   ]
  },
  {
   "cell_type": "code",
   "execution_count": 3,
   "id": "9d06dc2e",
   "metadata": {},
   "outputs": [
    {
     "data": {
      "application/vnd.microsoft.datawrangler.viewer.v0+json": {
       "columns": [
        {
         "name": "index",
         "rawType": "int64",
         "type": "integer"
        },
        {
         "name": "0",
         "rawType": "int64",
         "type": "integer"
        },
        {
         "name": "1",
         "rawType": "int64",
         "type": "integer"
        },
        {
         "name": "2",
         "rawType": "int64",
         "type": "integer"
        },
        {
         "name": "3",
         "rawType": "int64",
         "type": "integer"
        },
        {
         "name": "4",
         "rawType": "int64",
         "type": "integer"
        }
       ],
       "ref": "a273ec68-e687-46aa-9351-1ca22770822c",
       "rows": [
        [
         "0",
         "2",
         "50",
         "12500",
         "98",
         "1"
        ],
        [
         "1",
         "0",
         "13",
         "3250",
         "28",
         "1"
        ],
        [
         "2",
         "1",
         "16",
         "4000",
         "35",
         "1"
        ],
        [
         "3",
         "2",
         "20",
         "5000",
         "45",
         "1"
        ],
        [
         "4",
         "1",
         "24",
         "6000",
         "77",
         "0"
        ],
        [
         "5",
         "4",
         "4",
         "1000",
         "4",
         "0"
        ],
        [
         "6",
         "2",
         "7",
         "1750",
         "14",
         "1"
        ],
        [
         "7",
         "1",
         "12",
         "3000",
         "35",
         "0"
        ],
        [
         "8",
         "2",
         "9",
         "2250",
         "22",
         "1"
        ],
        [
         "9",
         "5",
         "46",
         "11500",
         "98",
         "1"
        ],
        [
         "10",
         "4",
         "23",
         "5750",
         "58",
         "0"
        ],
        [
         "11",
         "0",
         "3",
         "750",
         "4",
         "0"
        ],
        [
         "12",
         "2",
         "10",
         "2500",
         "28",
         "1"
        ],
        [
         "13",
         "1",
         "13",
         "3250",
         "47",
         "0"
        ],
        [
         "14",
         "2",
         "6",
         "1500",
         "15",
         "1"
        ],
        [
         "15",
         "2",
         "5",
         "1250",
         "11",
         "1"
        ],
        [
         "16",
         "2",
         "14",
         "3500",
         "48",
         "1"
        ],
        [
         "17",
         "2",
         "15",
         "3750",
         "49",
         "1"
        ],
        [
         "18",
         "2",
         "6",
         "1500",
         "15",
         "1"
        ],
        [
         "19",
         "2",
         "3",
         "750",
         "4",
         "1"
        ],
        [
         "20",
         "2",
         "3",
         "750",
         "4",
         "1"
        ],
        [
         "21",
         "4",
         "11",
         "2750",
         "28",
         "0"
        ],
        [
         "22",
         "2",
         "6",
         "1500",
         "16",
         "1"
        ],
        [
         "23",
         "2",
         "6",
         "1500",
         "16",
         "1"
        ],
        [
         "24",
         "9",
         "9",
         "2250",
         "16",
         "0"
        ],
        [
         "25",
         "4",
         "14",
         "3500",
         "40",
         "0"
        ],
        [
         "26",
         "4",
         "6",
         "1500",
         "14",
         "0"
        ],
        [
         "27",
         "4",
         "12",
         "3000",
         "34",
         "1"
        ],
        [
         "28",
         "4",
         "5",
         "1250",
         "11",
         "1"
        ],
        [
         "29",
         "4",
         "8",
         "2000",
         "21",
         "0"
        ],
        [
         "30",
         "1",
         "14",
         "3500",
         "58",
         "0"
        ],
        [
         "31",
         "4",
         "10",
         "2500",
         "28",
         "1"
        ],
        [
         "32",
         "4",
         "10",
         "2500",
         "28",
         "1"
        ],
        [
         "33",
         "4",
         "9",
         "2250",
         "26",
         "1"
        ],
        [
         "34",
         "2",
         "16",
         "4000",
         "64",
         "0"
        ],
        [
         "35",
         "2",
         "8",
         "2000",
         "28",
         "1"
        ],
        [
         "36",
         "2",
         "12",
         "3000",
         "47",
         "1"
        ],
        [
         "37",
         "4",
         "6",
         "1500",
         "16",
         "1"
        ],
        [
         "38",
         "2",
         "14",
         "3500",
         "57",
         "1"
        ],
        [
         "39",
         "4",
         "7",
         "1750",
         "22",
         "1"
        ],
        [
         "40",
         "2",
         "13",
         "3250",
         "53",
         "1"
        ],
        [
         "41",
         "2",
         "5",
         "1250",
         "16",
         "0"
        ],
        [
         "42",
         "2",
         "5",
         "1250",
         "16",
         "1"
        ],
        [
         "43",
         "2",
         "5",
         "1250",
         "16",
         "0"
        ],
        [
         "44",
         "4",
         "20",
         "5000",
         "69",
         "1"
        ],
        [
         "45",
         "4",
         "9",
         "2250",
         "28",
         "1"
        ],
        [
         "46",
         "2",
         "9",
         "2250",
         "36",
         "0"
        ],
        [
         "47",
         "2",
         "2",
         "500",
         "2",
         "0"
        ],
        [
         "48",
         "2",
         "2",
         "500",
         "2",
         "0"
        ],
        [
         "49",
         "2",
         "2",
         "500",
         "2",
         "0"
        ]
       ],
       "shape": {
        "columns": 5,
        "rows": 748
       }
      },
      "text/html": [
       "<div>\n",
       "<style scoped>\n",
       "    .dataframe tbody tr th:only-of-type {\n",
       "        vertical-align: middle;\n",
       "    }\n",
       "\n",
       "    .dataframe tbody tr th {\n",
       "        vertical-align: top;\n",
       "    }\n",
       "\n",
       "    .dataframe thead th {\n",
       "        text-align: right;\n",
       "    }\n",
       "</style>\n",
       "<table border=\"1\" class=\"dataframe\">\n",
       "  <thead>\n",
       "    <tr style=\"text-align: right;\">\n",
       "      <th></th>\n",
       "      <th>0</th>\n",
       "      <th>1</th>\n",
       "      <th>2</th>\n",
       "      <th>3</th>\n",
       "      <th>4</th>\n",
       "    </tr>\n",
       "  </thead>\n",
       "  <tbody>\n",
       "    <tr>\n",
       "      <th>0</th>\n",
       "      <td>2</td>\n",
       "      <td>50</td>\n",
       "      <td>12500</td>\n",
       "      <td>98</td>\n",
       "      <td>1</td>\n",
       "    </tr>\n",
       "    <tr>\n",
       "      <th>1</th>\n",
       "      <td>0</td>\n",
       "      <td>13</td>\n",
       "      <td>3250</td>\n",
       "      <td>28</td>\n",
       "      <td>1</td>\n",
       "    </tr>\n",
       "    <tr>\n",
       "      <th>2</th>\n",
       "      <td>1</td>\n",
       "      <td>16</td>\n",
       "      <td>4000</td>\n",
       "      <td>35</td>\n",
       "      <td>1</td>\n",
       "    </tr>\n",
       "    <tr>\n",
       "      <th>3</th>\n",
       "      <td>2</td>\n",
       "      <td>20</td>\n",
       "      <td>5000</td>\n",
       "      <td>45</td>\n",
       "      <td>1</td>\n",
       "    </tr>\n",
       "    <tr>\n",
       "      <th>4</th>\n",
       "      <td>1</td>\n",
       "      <td>24</td>\n",
       "      <td>6000</td>\n",
       "      <td>77</td>\n",
       "      <td>0</td>\n",
       "    </tr>\n",
       "    <tr>\n",
       "      <th>...</th>\n",
       "      <td>...</td>\n",
       "      <td>...</td>\n",
       "      <td>...</td>\n",
       "      <td>...</td>\n",
       "      <td>...</td>\n",
       "    </tr>\n",
       "    <tr>\n",
       "      <th>743</th>\n",
       "      <td>23</td>\n",
       "      <td>2</td>\n",
       "      <td>500</td>\n",
       "      <td>38</td>\n",
       "      <td>0</td>\n",
       "    </tr>\n",
       "    <tr>\n",
       "      <th>744</th>\n",
       "      <td>21</td>\n",
       "      <td>2</td>\n",
       "      <td>500</td>\n",
       "      <td>52</td>\n",
       "      <td>0</td>\n",
       "    </tr>\n",
       "    <tr>\n",
       "      <th>745</th>\n",
       "      <td>23</td>\n",
       "      <td>3</td>\n",
       "      <td>750</td>\n",
       "      <td>62</td>\n",
       "      <td>0</td>\n",
       "    </tr>\n",
       "    <tr>\n",
       "      <th>746</th>\n",
       "      <td>39</td>\n",
       "      <td>1</td>\n",
       "      <td>250</td>\n",
       "      <td>39</td>\n",
       "      <td>0</td>\n",
       "    </tr>\n",
       "    <tr>\n",
       "      <th>747</th>\n",
       "      <td>72</td>\n",
       "      <td>1</td>\n",
       "      <td>250</td>\n",
       "      <td>72</td>\n",
       "      <td>0</td>\n",
       "    </tr>\n",
       "  </tbody>\n",
       "</table>\n",
       "<p>748 rows × 5 columns</p>\n",
       "</div>"
      ],
      "text/plain": [
       "      0   1      2   3  4\n",
       "0     2  50  12500  98  1\n",
       "1     0  13   3250  28  1\n",
       "2     1  16   4000  35  1\n",
       "3     2  20   5000  45  1\n",
       "4     1  24   6000  77  0\n",
       "..   ..  ..    ...  .. ..\n",
       "743  23   2    500  38  0\n",
       "744  21   2    500  52  0\n",
       "745  23   3    750  62  0\n",
       "746  39   1    250  39  0\n",
       "747  72   1    250  72  0\n",
       "\n",
       "[748 rows x 5 columns]"
      ]
     },
     "execution_count": 3,
     "metadata": {},
     "output_type": "execute_result"
    }
   ],
   "source": [
    "df = pd.read_csv(\"transfusion.data\").set_axis(labels=list(range(5)),axis=1)\n",
    "df"
   ]
  },
  {
   "cell_type": "code",
   "execution_count": 4,
   "id": "e98df001",
   "metadata": {},
   "outputs": [
    {
     "data": {
      "application/vnd.microsoft.datawrangler.viewer.v0+json": {
       "columns": [
        {
         "name": "index",
         "rawType": "int64",
         "type": "integer"
        },
        {
         "name": "0",
         "rawType": "int64",
         "type": "integer"
        },
        {
         "name": "1",
         "rawType": "int64",
         "type": "integer"
        },
        {
         "name": "2",
         "rawType": "int64",
         "type": "integer"
        },
        {
         "name": "3",
         "rawType": "int64",
         "type": "integer"
        }
       ],
       "ref": "c64280ca-0916-492b-975c-616357af8cd5",
       "rows": [
        [
         "0",
         "2",
         "50",
         "12500",
         "98"
        ],
        [
         "1",
         "0",
         "13",
         "3250",
         "28"
        ],
        [
         "2",
         "1",
         "16",
         "4000",
         "35"
        ],
        [
         "3",
         "2",
         "20",
         "5000",
         "45"
        ],
        [
         "4",
         "1",
         "24",
         "6000",
         "77"
        ],
        [
         "5",
         "4",
         "4",
         "1000",
         "4"
        ],
        [
         "6",
         "2",
         "7",
         "1750",
         "14"
        ],
        [
         "7",
         "1",
         "12",
         "3000",
         "35"
        ],
        [
         "8",
         "2",
         "9",
         "2250",
         "22"
        ],
        [
         "9",
         "5",
         "46",
         "11500",
         "98"
        ],
        [
         "10",
         "4",
         "23",
         "5750",
         "58"
        ],
        [
         "11",
         "0",
         "3",
         "750",
         "4"
        ],
        [
         "12",
         "2",
         "10",
         "2500",
         "28"
        ],
        [
         "13",
         "1",
         "13",
         "3250",
         "47"
        ],
        [
         "14",
         "2",
         "6",
         "1500",
         "15"
        ],
        [
         "15",
         "2",
         "5",
         "1250",
         "11"
        ],
        [
         "16",
         "2",
         "14",
         "3500",
         "48"
        ],
        [
         "17",
         "2",
         "15",
         "3750",
         "49"
        ],
        [
         "18",
         "2",
         "6",
         "1500",
         "15"
        ],
        [
         "19",
         "2",
         "3",
         "750",
         "4"
        ],
        [
         "20",
         "2",
         "3",
         "750",
         "4"
        ],
        [
         "21",
         "4",
         "11",
         "2750",
         "28"
        ],
        [
         "22",
         "2",
         "6",
         "1500",
         "16"
        ],
        [
         "23",
         "2",
         "6",
         "1500",
         "16"
        ],
        [
         "24",
         "9",
         "9",
         "2250",
         "16"
        ],
        [
         "25",
         "4",
         "14",
         "3500",
         "40"
        ],
        [
         "26",
         "4",
         "6",
         "1500",
         "14"
        ],
        [
         "27",
         "4",
         "12",
         "3000",
         "34"
        ],
        [
         "28",
         "4",
         "5",
         "1250",
         "11"
        ],
        [
         "29",
         "4",
         "8",
         "2000",
         "21"
        ],
        [
         "30",
         "1",
         "14",
         "3500",
         "58"
        ],
        [
         "31",
         "4",
         "10",
         "2500",
         "28"
        ],
        [
         "32",
         "4",
         "10",
         "2500",
         "28"
        ],
        [
         "33",
         "4",
         "9",
         "2250",
         "26"
        ],
        [
         "34",
         "2",
         "16",
         "4000",
         "64"
        ],
        [
         "35",
         "2",
         "8",
         "2000",
         "28"
        ],
        [
         "36",
         "2",
         "12",
         "3000",
         "47"
        ],
        [
         "37",
         "4",
         "6",
         "1500",
         "16"
        ],
        [
         "38",
         "2",
         "14",
         "3500",
         "57"
        ],
        [
         "39",
         "4",
         "7",
         "1750",
         "22"
        ],
        [
         "40",
         "2",
         "13",
         "3250",
         "53"
        ],
        [
         "41",
         "2",
         "5",
         "1250",
         "16"
        ],
        [
         "42",
         "2",
         "5",
         "1250",
         "16"
        ],
        [
         "43",
         "2",
         "5",
         "1250",
         "16"
        ],
        [
         "44",
         "4",
         "20",
         "5000",
         "69"
        ],
        [
         "45",
         "4",
         "9",
         "2250",
         "28"
        ],
        [
         "46",
         "2",
         "9",
         "2250",
         "36"
        ],
        [
         "47",
         "2",
         "2",
         "500",
         "2"
        ],
        [
         "48",
         "2",
         "2",
         "500",
         "2"
        ],
        [
         "49",
         "2",
         "2",
         "500",
         "2"
        ]
       ],
       "shape": {
        "columns": 4,
        "rows": 748
       }
      },
      "text/html": [
       "<div>\n",
       "<style scoped>\n",
       "    .dataframe tbody tr th:only-of-type {\n",
       "        vertical-align: middle;\n",
       "    }\n",
       "\n",
       "    .dataframe tbody tr th {\n",
       "        vertical-align: top;\n",
       "    }\n",
       "\n",
       "    .dataframe thead th {\n",
       "        text-align: right;\n",
       "    }\n",
       "</style>\n",
       "<table border=\"1\" class=\"dataframe\">\n",
       "  <thead>\n",
       "    <tr style=\"text-align: right;\">\n",
       "      <th></th>\n",
       "      <th>0</th>\n",
       "      <th>1</th>\n",
       "      <th>2</th>\n",
       "      <th>3</th>\n",
       "    </tr>\n",
       "  </thead>\n",
       "  <tbody>\n",
       "    <tr>\n",
       "      <th>0</th>\n",
       "      <td>2</td>\n",
       "      <td>50</td>\n",
       "      <td>12500</td>\n",
       "      <td>98</td>\n",
       "    </tr>\n",
       "    <tr>\n",
       "      <th>1</th>\n",
       "      <td>0</td>\n",
       "      <td>13</td>\n",
       "      <td>3250</td>\n",
       "      <td>28</td>\n",
       "    </tr>\n",
       "    <tr>\n",
       "      <th>2</th>\n",
       "      <td>1</td>\n",
       "      <td>16</td>\n",
       "      <td>4000</td>\n",
       "      <td>35</td>\n",
       "    </tr>\n",
       "    <tr>\n",
       "      <th>3</th>\n",
       "      <td>2</td>\n",
       "      <td>20</td>\n",
       "      <td>5000</td>\n",
       "      <td>45</td>\n",
       "    </tr>\n",
       "    <tr>\n",
       "      <th>4</th>\n",
       "      <td>1</td>\n",
       "      <td>24</td>\n",
       "      <td>6000</td>\n",
       "      <td>77</td>\n",
       "    </tr>\n",
       "    <tr>\n",
       "      <th>...</th>\n",
       "      <td>...</td>\n",
       "      <td>...</td>\n",
       "      <td>...</td>\n",
       "      <td>...</td>\n",
       "    </tr>\n",
       "    <tr>\n",
       "      <th>743</th>\n",
       "      <td>23</td>\n",
       "      <td>2</td>\n",
       "      <td>500</td>\n",
       "      <td>38</td>\n",
       "    </tr>\n",
       "    <tr>\n",
       "      <th>744</th>\n",
       "      <td>21</td>\n",
       "      <td>2</td>\n",
       "      <td>500</td>\n",
       "      <td>52</td>\n",
       "    </tr>\n",
       "    <tr>\n",
       "      <th>745</th>\n",
       "      <td>23</td>\n",
       "      <td>3</td>\n",
       "      <td>750</td>\n",
       "      <td>62</td>\n",
       "    </tr>\n",
       "    <tr>\n",
       "      <th>746</th>\n",
       "      <td>39</td>\n",
       "      <td>1</td>\n",
       "      <td>250</td>\n",
       "      <td>39</td>\n",
       "    </tr>\n",
       "    <tr>\n",
       "      <th>747</th>\n",
       "      <td>72</td>\n",
       "      <td>1</td>\n",
       "      <td>250</td>\n",
       "      <td>72</td>\n",
       "    </tr>\n",
       "  </tbody>\n",
       "</table>\n",
       "<p>748 rows × 4 columns</p>\n",
       "</div>"
      ],
      "text/plain": [
       "      0   1      2   3\n",
       "0     2  50  12500  98\n",
       "1     0  13   3250  28\n",
       "2     1  16   4000  35\n",
       "3     2  20   5000  45\n",
       "4     1  24   6000  77\n",
       "..   ..  ..    ...  ..\n",
       "743  23   2    500  38\n",
       "744  21   2    500  52\n",
       "745  23   3    750  62\n",
       "746  39   1    250  39\n",
       "747  72   1    250  72\n",
       "\n",
       "[748 rows x 4 columns]"
      ]
     },
     "execution_count": 4,
     "metadata": {},
     "output_type": "execute_result"
    }
   ],
   "source": [
    "Y= df.pop(4)\n",
    "df"
   ]
  },
  {
   "cell_type": "code",
   "execution_count": 6,
   "id": "42b5b9f7",
   "metadata": {},
   "outputs": [
    {
     "name": "stdout",
     "output_type": "stream",
     "text": [
      "(598, 4) (150, 4) (598,) (150,)\n"
     ]
    }
   ],
   "source": [
    "X = np.array(df)\n",
    "\n",
    "min_max_scaler = MinMaxScaler()\n",
    "X_scaled = min_max_scaler.fit_transform(X)\n",
    "\n",
    "X_train, X_test, Y_train, Y_test = train_test_split(X_scaled, Y, test_size=0.2, random_state=42)\n",
    "print(X_train.shape, X_test.shape, Y_train.shape, Y_test.shape)"
   ]
  },
  {
   "cell_type": "code",
   "execution_count": 15,
   "id": "5ad862ec",
   "metadata": {},
   "outputs": [
    {
     "name": "stdout",
     "output_type": "stream",
     "text": [
      "-0.06814053213637239\n"
     ]
    }
   ],
   "source": [
    "#ensemble methods(random forest here)\n",
    "rf = RandomForestRegressor()\n",
    "rf.fit(X_train, Y_train)\n",
    "score = rf.score(X_test, Y_test)\n",
    "print(score)"
   ]
  },
  {
   "cell_type": "code",
   "execution_count": 14,
   "id": "a0a1c97e",
   "metadata": {},
   "outputs": [
    {
     "name": "stdout",
     "output_type": "stream",
     "text": [
      "0.8066666666666666\n"
     ]
    }
   ],
   "source": [
    "ad = AdaBoostClassifier()\n",
    "ad.fit(X_train, Y_train)\n",
    "score = ad.score(X_test, Y_test)\n",
    "print(score)"
   ]
  }
 ],
 "metadata": {
  "kernelspec": {
   "display_name": "base",
   "language": "python",
   "name": "python3"
  },
  "language_info": {
   "codemirror_mode": {
    "name": "ipython",
    "version": 3
   },
   "file_extension": ".py",
   "mimetype": "text/x-python",
   "name": "python",
   "nbconvert_exporter": "python",
   "pygments_lexer": "ipython3",
   "version": "3.8.8"
  }
 },
 "nbformat": 4,
 "nbformat_minor": 5
}
