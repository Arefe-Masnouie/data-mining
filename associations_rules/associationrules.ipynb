{
 "cells": [
  {
   "cell_type": "code",
   "execution_count": 2,
   "metadata": {},
   "outputs": [],
   "source": [
    "import pandas as pd\n",
    "from mlxtend.preprocessing import TransactionEncoder\n",
    "from mlxtend.frequent_patterns import apriori"
   ]
  },
  {
   "cell_type": "code",
   "execution_count": 3,
   "metadata": {},
   "outputs": [],
   "source": [
    "#data needed to be catagorical\n",
    "dataset = [['milk', 'onion', 'nutmag', 'kidney beans', 'eggs', 'yogurt'],\n",
    "           ['dill', 'onion', 'nutmag', 'kidney beans', 'eggs', 'yogurt' ],\n",
    "           ['milk','apple', 'kidney beans', 'eggs'],\n",
    "           ['milk', 'unicorn', 'corn', 'kidney beans', 'yogurt'],\n",
    "           ['corn', 'onion', 'onion', 'kidney beans', 'ice creams', 'eggs']]"
   ]
  },
  {
   "cell_type": "code",
   "execution_count": 5,
   "metadata": {},
   "outputs": [
    {
     "name": "stdout",
     "output_type": "stream",
     "text": [
      "   apple   corn   dill   eggs  ice creams  kidney beans   milk  nutmag  onion  \\\n",
      "0  False  False  False   True       False          True   True    True   True   \n",
      "1  False  False   True   True       False          True  False    True   True   \n",
      "2   True  False  False   True       False          True   True   False  False   \n",
      "3  False   True  False  False       False          True   True   False  False   \n",
      "4  False   True  False   True        True          True  False   False   True   \n",
      "\n",
      "   unicorn  yogurt  \n",
      "0    False    True  \n",
      "1    False    True  \n",
      "2    False   False  \n",
      "3     True    True  \n",
      "4    False   False  \n"
     ]
    }
   ],
   "source": [
    "te = TransactionEncoder()\n",
    "te_ary = te.fit(dataset).transform(dataset)\n",
    "df = pd.DataFrame(te_ary, columns = te.columns_)\n",
    "print(df.head())"
   ]
  },
  {
   "cell_type": "code",
   "execution_count": 6,
   "metadata": {},
   "outputs": [
    {
     "name": "stdout",
     "output_type": "stream",
     "text": [
      "    support                     itemsets\n",
      "0       0.8                       (eggs)\n",
      "1       1.0               (kidney beans)\n",
      "2       0.6                       (milk)\n",
      "3       0.6                      (onion)\n",
      "4       0.6                     (yogurt)\n",
      "5       0.8         (eggs, kidney beans)\n",
      "6       0.6                (onion, eggs)\n",
      "7       0.6         (kidney beans, milk)\n",
      "8       0.6        (onion, kidney beans)\n",
      "9       0.6       (kidney beans, yogurt)\n",
      "10      0.6  (onion, eggs, kidney beans)\n"
     ]
    }
   ],
   "source": [
    "frequent_itemset = apriori(df, min_support=0.6, use_colnames=True)\n",
    "print(frequent_itemset)"
   ]
  },
  {
   "cell_type": "code",
   "execution_count": null,
   "metadata": {},
   "outputs": [
    {
     "name": "stdout",
     "output_type": "stream",
     "text": [
      "    support                     itemsets  length\n",
      "0       0.8                       (eggs)       1\n",
      "1       1.0               (kidney beans)       1\n",
      "2       0.6                       (milk)       1\n",
      "3       0.6                      (onion)       1\n",
      "4       0.6                     (yogurt)       1\n",
      "5       0.8         (eggs, kidney beans)       2\n",
      "6       0.6                (onion, eggs)       2\n",
      "7       0.6         (kidney beans, milk)       2\n",
      "8       0.6        (onion, kidney beans)       2\n",
      "9       0.6       (kidney beans, yogurt)       2\n",
      "10      0.6  (onion, eggs, kidney beans)       3\n"
     ]
    }
   ],
   "source": [
    "#adding the length of every basket to the dataset\n",
    "frequent_itemset['length'] = frequent_itemset['itemsets'].apply(lambda x : len(x))\n",
    "print(frequent_itemset)"
   ]
  },
  {
   "cell_type": "code",
   "execution_count": 8,
   "metadata": {},
   "outputs": [
    {
     "data": {
      "application/vnd.microsoft.datawrangler.viewer.v0+json": {
       "columns": [
        {
         "name": "index",
         "rawType": "int64",
         "type": "integer"
        },
        {
         "name": "support",
         "rawType": "float64",
         "type": "float"
        },
        {
         "name": "itemsets",
         "rawType": "object",
         "type": "unknown"
        },
        {
         "name": "length",
         "rawType": "int64",
         "type": "integer"
        }
       ],
       "conversionMethod": "pd.DataFrame",
       "ref": "7f3f1d83-db13-4862-b270-36a52d1d4d80",
       "rows": [
        [
         "5",
         "0.8",
         "frozenset({'eggs', 'kidney beans'})",
         "2"
        ]
       ],
       "shape": {
        "columns": 3,
        "rows": 1
       }
      },
      "text/html": [
       "<div>\n",
       "<style scoped>\n",
       "    .dataframe tbody tr th:only-of-type {\n",
       "        vertical-align: middle;\n",
       "    }\n",
       "\n",
       "    .dataframe tbody tr th {\n",
       "        vertical-align: top;\n",
       "    }\n",
       "\n",
       "    .dataframe thead th {\n",
       "        text-align: right;\n",
       "    }\n",
       "</style>\n",
       "<table border=\"1\" class=\"dataframe\">\n",
       "  <thead>\n",
       "    <tr style=\"text-align: right;\">\n",
       "      <th></th>\n",
       "      <th>support</th>\n",
       "      <th>itemsets</th>\n",
       "      <th>length</th>\n",
       "    </tr>\n",
       "  </thead>\n",
       "  <tbody>\n",
       "    <tr>\n",
       "      <th>5</th>\n",
       "      <td>0.8</td>\n",
       "      <td>(eggs, kidney beans)</td>\n",
       "      <td>2</td>\n",
       "    </tr>\n",
       "  </tbody>\n",
       "</table>\n",
       "</div>"
      ],
      "text/plain": [
       "   support              itemsets  length\n",
       "5      0.8  (eggs, kidney beans)       2"
      ]
     },
     "execution_count": 8,
     "metadata": {},
     "output_type": "execute_result"
    }
   ],
   "source": [
    "#finging a basket with the length of 3 and the support of more than 80 percent\n",
    "frequent_itemset[ (frequent_itemset['length']>=2)&\n",
    "                  (frequent_itemset['support']>=0.8)]"
   ]
  },
  {
   "cell_type": "code",
   "execution_count": 11,
   "metadata": {},
   "outputs": [
    {
     "data": {
      "application/vnd.microsoft.datawrangler.viewer.v0+json": {
       "columns": [
        {
         "name": "index",
         "rawType": "int64",
         "type": "integer"
        },
        {
         "name": "support",
         "rawType": "float64",
         "type": "float"
        },
        {
         "name": "itemsets",
         "rawType": "object",
         "type": "unknown"
        },
        {
         "name": "length",
         "rawType": "int64",
         "type": "integer"
        }
       ],
       "conversionMethod": "pd.DataFrame",
       "ref": "c0212e02-7f9f-4f50-8024-7dea39c33132",
       "rows": [
        [
         "6",
         "0.6",
         "frozenset({'onion', 'eggs'})",
         "2"
        ]
       ],
       "shape": {
        "columns": 3,
        "rows": 1
       }
      },
      "text/html": [
       "<div>\n",
       "<style scoped>\n",
       "    .dataframe tbody tr th:only-of-type {\n",
       "        vertical-align: middle;\n",
       "    }\n",
       "\n",
       "    .dataframe tbody tr th {\n",
       "        vertical-align: top;\n",
       "    }\n",
       "\n",
       "    .dataframe thead th {\n",
       "        text-align: right;\n",
       "    }\n",
       "</style>\n",
       "<table border=\"1\" class=\"dataframe\">\n",
       "  <thead>\n",
       "    <tr style=\"text-align: right;\">\n",
       "      <th></th>\n",
       "      <th>support</th>\n",
       "      <th>itemsets</th>\n",
       "      <th>length</th>\n",
       "    </tr>\n",
       "  </thead>\n",
       "  <tbody>\n",
       "    <tr>\n",
       "      <th>6</th>\n",
       "      <td>0.6</td>\n",
       "      <td>(onion, eggs)</td>\n",
       "      <td>2</td>\n",
       "    </tr>\n",
       "  </tbody>\n",
       "</table>\n",
       "</div>"
      ],
      "text/plain": [
       "   support       itemsets  length\n",
       "6      0.6  (onion, eggs)       2"
      ]
     },
     "execution_count": 11,
     "metadata": {},
     "output_type": "execute_result"
    }
   ],
   "source": [
    "#finding a basket that envolves onions and eggs\n",
    "frequent_itemset[frequent_itemset['itemsets']== {'onion', 'eggs'}]"
   ]
  },
  {
   "cell_type": "code",
   "execution_count": 12,
   "metadata": {},
   "outputs": [
    {
     "name": "stdout",
     "output_type": "stream",
     "text": [
      "   apple  corn  dill  eggs  ice creams  kidney beans  milk  nutmag  onion  \\\n",
      "0      0     0     0     1           0          True     1       1      1   \n",
      "1      0     0     1     1           0          True     0       1      1   \n",
      "2      1     0     0     1           0          True     1       0      0   \n",
      "3      0     1     0     0           0          True     1       0      0   \n",
      "4      0     1     0     1           1          True     0       0      1   \n",
      "\n",
      "   unicorn  yogurt  \n",
      "0        0       1  \n",
      "1        0       1  \n",
      "2        0       0  \n",
      "3        1       1  \n",
      "4        0       0  \n"
     ]
    }
   ],
   "source": [
    "#sparsing the dataset\n",
    "oht_ary = te.fit(dataset).transform(dataset, sparse = True)\n",
    "sparse_df = pd.DataFrame.sparse.from_spmatrix(oht_ary, columns=te.columns_)\n",
    "print(sparse_df)\n"
   ]
  },
  {
   "cell_type": "code",
   "execution_count": 13,
   "metadata": {},
   "outputs": [
    {
     "name": "stdout",
     "output_type": "stream",
     "text": [
      "Processing 21 combinations | Sampling itemset size 3\n"
     ]
    },
    {
     "data": {
      "application/vnd.microsoft.datawrangler.viewer.v0+json": {
       "columns": [
        {
         "name": "index",
         "rawType": "int64",
         "type": "integer"
        },
        {
         "name": "support",
         "rawType": "float64",
         "type": "float"
        },
        {
         "name": "itemsets",
         "rawType": "object",
         "type": "unknown"
        }
       ],
       "conversionMethod": "pd.DataFrame",
       "ref": "d516e509-8d0f-4a3e-9bee-53bab1eab936",
       "rows": [
        [
         "0",
         "0.8",
         "frozenset({'eggs'})"
        ],
        [
         "1",
         "1.0",
         "frozenset({'kidney beans'})"
        ],
        [
         "2",
         "0.6",
         "frozenset({'milk'})"
        ],
        [
         "3",
         "0.6",
         "frozenset({'onion'})"
        ],
        [
         "4",
         "0.6",
         "frozenset({'yogurt'})"
        ],
        [
         "5",
         "0.8",
         "frozenset({'eggs', 'kidney beans'})"
        ],
        [
         "6",
         "0.6",
         "frozenset({'onion', 'eggs'})"
        ],
        [
         "7",
         "0.6",
         "frozenset({'kidney beans', 'milk'})"
        ],
        [
         "8",
         "0.6",
         "frozenset({'onion', 'kidney beans'})"
        ],
        [
         "9",
         "0.6",
         "frozenset({'kidney beans', 'yogurt'})"
        ],
        [
         "10",
         "0.6",
         "frozenset({'onion', 'eggs', 'kidney beans'})"
        ]
       ],
       "shape": {
        "columns": 2,
        "rows": 11
       }
      },
      "text/html": [
       "<div>\n",
       "<style scoped>\n",
       "    .dataframe tbody tr th:only-of-type {\n",
       "        vertical-align: middle;\n",
       "    }\n",
       "\n",
       "    .dataframe tbody tr th {\n",
       "        vertical-align: top;\n",
       "    }\n",
       "\n",
       "    .dataframe thead th {\n",
       "        text-align: right;\n",
       "    }\n",
       "</style>\n",
       "<table border=\"1\" class=\"dataframe\">\n",
       "  <thead>\n",
       "    <tr style=\"text-align: right;\">\n",
       "      <th></th>\n",
       "      <th>support</th>\n",
       "      <th>itemsets</th>\n",
       "    </tr>\n",
       "  </thead>\n",
       "  <tbody>\n",
       "    <tr>\n",
       "      <th>0</th>\n",
       "      <td>0.8</td>\n",
       "      <td>(eggs)</td>\n",
       "    </tr>\n",
       "    <tr>\n",
       "      <th>1</th>\n",
       "      <td>1.0</td>\n",
       "      <td>(kidney beans)</td>\n",
       "    </tr>\n",
       "    <tr>\n",
       "      <th>2</th>\n",
       "      <td>0.6</td>\n",
       "      <td>(milk)</td>\n",
       "    </tr>\n",
       "    <tr>\n",
       "      <th>3</th>\n",
       "      <td>0.6</td>\n",
       "      <td>(onion)</td>\n",
       "    </tr>\n",
       "    <tr>\n",
       "      <th>4</th>\n",
       "      <td>0.6</td>\n",
       "      <td>(yogurt)</td>\n",
       "    </tr>\n",
       "    <tr>\n",
       "      <th>5</th>\n",
       "      <td>0.8</td>\n",
       "      <td>(eggs, kidney beans)</td>\n",
       "    </tr>\n",
       "    <tr>\n",
       "      <th>6</th>\n",
       "      <td>0.6</td>\n",
       "      <td>(onion, eggs)</td>\n",
       "    </tr>\n",
       "    <tr>\n",
       "      <th>7</th>\n",
       "      <td>0.6</td>\n",
       "      <td>(kidney beans, milk)</td>\n",
       "    </tr>\n",
       "    <tr>\n",
       "      <th>8</th>\n",
       "      <td>0.6</td>\n",
       "      <td>(onion, kidney beans)</td>\n",
       "    </tr>\n",
       "    <tr>\n",
       "      <th>9</th>\n",
       "      <td>0.6</td>\n",
       "      <td>(kidney beans, yogurt)</td>\n",
       "    </tr>\n",
       "    <tr>\n",
       "      <th>10</th>\n",
       "      <td>0.6</td>\n",
       "      <td>(onion, eggs, kidney beans)</td>\n",
       "    </tr>\n",
       "  </tbody>\n",
       "</table>\n",
       "</div>"
      ],
      "text/plain": [
       "    support                     itemsets\n",
       "0       0.8                       (eggs)\n",
       "1       1.0               (kidney beans)\n",
       "2       0.6                       (milk)\n",
       "3       0.6                      (onion)\n",
       "4       0.6                     (yogurt)\n",
       "5       0.8         (eggs, kidney beans)\n",
       "6       0.6                (onion, eggs)\n",
       "7       0.6         (kidney beans, milk)\n",
       "8       0.6        (onion, kidney beans)\n",
       "9       0.6       (kidney beans, yogurt)\n",
       "10      0.6  (onion, eggs, kidney beans)"
      ]
     },
     "execution_count": 13,
     "metadata": {},
     "output_type": "execute_result"
    }
   ],
   "source": [
    "apriori(sparse_df, min_support=0.6, use_colnames=True, verbose=1) #verbose is to give us info about what is processing rn"
   ]
  },
  {
   "cell_type": "code",
   "execution_count": null,
   "metadata": {},
   "outputs": [
    {
     "name": "stderr",
     "output_type": "stream",
     "text": [
      "c:\\ProgramData\\Anaconda3\\lib\\site-packages\\mlxtend\\frequent_patterns\\association_rules.py:186: RuntimeWarning: invalid value encountered in divide\n",
      "  cert_metric = np.where(certainty_denom == 0, 0, certainty_num / certainty_denom)\n"
     ]
    },
    {
     "data": {
      "application/vnd.microsoft.datawrangler.viewer.v0+json": {
       "columns": [
        {
         "name": "index",
         "rawType": "int64",
         "type": "integer"
        },
        {
         "name": "antecedents",
         "rawType": "object",
         "type": "unknown"
        },
        {
         "name": "consequents",
         "rawType": "object",
         "type": "unknown"
        },
        {
         "name": "antecedent support",
         "rawType": "float64",
         "type": "float"
        },
        {
         "name": "consequent support",
         "rawType": "float64",
         "type": "float"
        },
        {
         "name": "support",
         "rawType": "float64",
         "type": "float"
        },
        {
         "name": "confidence",
         "rawType": "float64",
         "type": "float"
        },
        {
         "name": "lift",
         "rawType": "float64",
         "type": "float"
        },
        {
         "name": "representativity",
         "rawType": "float64",
         "type": "float"
        },
        {
         "name": "leverage",
         "rawType": "float64",
         "type": "float"
        },
        {
         "name": "conviction",
         "rawType": "float64",
         "type": "float"
        },
        {
         "name": "zhangs_metric",
         "rawType": "float64",
         "type": "float"
        },
        {
         "name": "jaccard",
         "rawType": "float64",
         "type": "float"
        },
        {
         "name": "certainty",
         "rawType": "float64",
         "type": "float"
        },
        {
         "name": "kulczynski",
         "rawType": "float64",
         "type": "float"
        }
       ],
       "conversionMethod": "pd.DataFrame",
       "ref": "6c81f0e6-2eff-4b09-9ac9-af12e724ebff",
       "rows": [
        [
         "0",
         "frozenset({'eggs'})",
         "frozenset({'kidney beans'})",
         "0.8",
         "1.0",
         "0.8",
         "1.0",
         "1.0",
         "1.0",
         "0.0",
         "inf",
         "0.0",
         "0.8",
         "0.0",
         "0.9"
        ],
        [
         "1",
         "frozenset({'kidney beans'})",
         "frozenset({'eggs'})",
         "1.0",
         "0.8",
         "0.8",
         "0.8",
         "1.0",
         "1.0",
         "0.0",
         "1.0",
         "0.0",
         "0.8",
         "0.0",
         "0.9"
        ],
        [
         "2",
         "frozenset({'onion'})",
         "frozenset({'eggs'})",
         "0.6",
         "0.8",
         "0.6",
         "1.0",
         "1.25",
         "1.0",
         "0.12",
         "inf",
         "0.5",
         "0.75",
         "1.0",
         "0.875"
        ],
        [
         "3",
         "frozenset({'eggs'})",
         "frozenset({'onion'})",
         "0.8",
         "0.6",
         "0.6",
         "0.7499999999999999",
         "1.2499999999999998",
         "1.0",
         "0.12",
         "1.5999999999999994",
         "1.0000000000000002",
         "0.75",
         "0.3749999999999998",
         "0.875"
        ],
        [
         "4",
         "frozenset({'milk'})",
         "frozenset({'kidney beans'})",
         "0.6",
         "1.0",
         "0.6",
         "1.0",
         "1.0",
         "1.0",
         "0.0",
         "inf",
         "0.0",
         "0.6",
         "0.0",
         "0.8"
        ]
       ],
       "shape": {
        "columns": 14,
        "rows": 5
       }
      },
      "text/html": [
       "<div>\n",
       "<style scoped>\n",
       "    .dataframe tbody tr th:only-of-type {\n",
       "        vertical-align: middle;\n",
       "    }\n",
       "\n",
       "    .dataframe tbody tr th {\n",
       "        vertical-align: top;\n",
       "    }\n",
       "\n",
       "    .dataframe thead th {\n",
       "        text-align: right;\n",
       "    }\n",
       "</style>\n",
       "<table border=\"1\" class=\"dataframe\">\n",
       "  <thead>\n",
       "    <tr style=\"text-align: right;\">\n",
       "      <th></th>\n",
       "      <th>antecedents</th>\n",
       "      <th>consequents</th>\n",
       "      <th>antecedent support</th>\n",
       "      <th>consequent support</th>\n",
       "      <th>support</th>\n",
       "      <th>confidence</th>\n",
       "      <th>lift</th>\n",
       "      <th>representativity</th>\n",
       "      <th>leverage</th>\n",
       "      <th>conviction</th>\n",
       "      <th>zhangs_metric</th>\n",
       "      <th>jaccard</th>\n",
       "      <th>certainty</th>\n",
       "      <th>kulczynski</th>\n",
       "    </tr>\n",
       "  </thead>\n",
       "  <tbody>\n",
       "    <tr>\n",
       "      <th>0</th>\n",
       "      <td>(eggs)</td>\n",
       "      <td>(kidney beans)</td>\n",
       "      <td>0.8</td>\n",
       "      <td>1.0</td>\n",
       "      <td>0.8</td>\n",
       "      <td>1.00</td>\n",
       "      <td>1.00</td>\n",
       "      <td>1.0</td>\n",
       "      <td>0.00</td>\n",
       "      <td>inf</td>\n",
       "      <td>0.0</td>\n",
       "      <td>0.80</td>\n",
       "      <td>0.000</td>\n",
       "      <td>0.900</td>\n",
       "    </tr>\n",
       "    <tr>\n",
       "      <th>1</th>\n",
       "      <td>(kidney beans)</td>\n",
       "      <td>(eggs)</td>\n",
       "      <td>1.0</td>\n",
       "      <td>0.8</td>\n",
       "      <td>0.8</td>\n",
       "      <td>0.80</td>\n",
       "      <td>1.00</td>\n",
       "      <td>1.0</td>\n",
       "      <td>0.00</td>\n",
       "      <td>1.0</td>\n",
       "      <td>0.0</td>\n",
       "      <td>0.80</td>\n",
       "      <td>0.000</td>\n",
       "      <td>0.900</td>\n",
       "    </tr>\n",
       "    <tr>\n",
       "      <th>2</th>\n",
       "      <td>(onion)</td>\n",
       "      <td>(eggs)</td>\n",
       "      <td>0.6</td>\n",
       "      <td>0.8</td>\n",
       "      <td>0.6</td>\n",
       "      <td>1.00</td>\n",
       "      <td>1.25</td>\n",
       "      <td>1.0</td>\n",
       "      <td>0.12</td>\n",
       "      <td>inf</td>\n",
       "      <td>0.5</td>\n",
       "      <td>0.75</td>\n",
       "      <td>1.000</td>\n",
       "      <td>0.875</td>\n",
       "    </tr>\n",
       "    <tr>\n",
       "      <th>3</th>\n",
       "      <td>(eggs)</td>\n",
       "      <td>(onion)</td>\n",
       "      <td>0.8</td>\n",
       "      <td>0.6</td>\n",
       "      <td>0.6</td>\n",
       "      <td>0.75</td>\n",
       "      <td>1.25</td>\n",
       "      <td>1.0</td>\n",
       "      <td>0.12</td>\n",
       "      <td>1.6</td>\n",
       "      <td>1.0</td>\n",
       "      <td>0.75</td>\n",
       "      <td>0.375</td>\n",
       "      <td>0.875</td>\n",
       "    </tr>\n",
       "    <tr>\n",
       "      <th>4</th>\n",
       "      <td>(milk)</td>\n",
       "      <td>(kidney beans)</td>\n",
       "      <td>0.6</td>\n",
       "      <td>1.0</td>\n",
       "      <td>0.6</td>\n",
       "      <td>1.00</td>\n",
       "      <td>1.00</td>\n",
       "      <td>1.0</td>\n",
       "      <td>0.00</td>\n",
       "      <td>inf</td>\n",
       "      <td>0.0</td>\n",
       "      <td>0.60</td>\n",
       "      <td>0.000</td>\n",
       "      <td>0.800</td>\n",
       "    </tr>\n",
       "  </tbody>\n",
       "</table>\n",
       "</div>"
      ],
      "text/plain": [
       "      antecedents     consequents  antecedent support  consequent support  \\\n",
       "0          (eggs)  (kidney beans)                 0.8                 1.0   \n",
       "1  (kidney beans)          (eggs)                 1.0                 0.8   \n",
       "2         (onion)          (eggs)                 0.6                 0.8   \n",
       "3          (eggs)         (onion)                 0.8                 0.6   \n",
       "4          (milk)  (kidney beans)                 0.6                 1.0   \n",
       "\n",
       "   support  confidence  lift  representativity  leverage  conviction  \\\n",
       "0      0.8        1.00  1.00               1.0      0.00         inf   \n",
       "1      0.8        0.80  1.00               1.0      0.00         1.0   \n",
       "2      0.6        1.00  1.25               1.0      0.12         inf   \n",
       "3      0.6        0.75  1.25               1.0      0.12         1.6   \n",
       "4      0.6        1.00  1.00               1.0      0.00         inf   \n",
       "\n",
       "   zhangs_metric  jaccard  certainty  kulczynski  \n",
       "0            0.0     0.80      0.000       0.900  \n",
       "1            0.0     0.80      0.000       0.900  \n",
       "2            0.5     0.75      1.000       0.875  \n",
       "3            1.0     0.75      0.375       0.875  \n",
       "4            0.0     0.60      0.000       0.800  "
      ]
     },
     "execution_count": 14,
     "metadata": {},
     "output_type": "execute_result"
    }
   ],
   "source": [
    "from mlxtend.frequent_patterns import association_rules\n",
    "myrules = association_rules(frequent_itemset, metric='confidence', min_threshold= 0.7) #min threshold is \n",
    "#antecedents is the things we bought and consequents is the items that are possible to be bought with them with the probability of the confidence \n",
    "myrules.head()"
   ]
  },
  {
   "cell_type": "code",
   "execution_count": null,
   "metadata": {},
   "outputs": [
    {
     "data": {
      "application/vnd.microsoft.datawrangler.viewer.v0+json": {
       "columns": [
        {
         "name": "index",
         "rawType": "int64",
         "type": "integer"
        },
        {
         "name": "antecedents",
         "rawType": "object",
         "type": "unknown"
        },
        {
         "name": "consequents",
         "rawType": "object",
         "type": "unknown"
        },
        {
         "name": "antecedent support",
         "rawType": "float64",
         "type": "float"
        },
        {
         "name": "consequent support",
         "rawType": "float64",
         "type": "float"
        },
        {
         "name": "support",
         "rawType": "float64",
         "type": "float"
        },
        {
         "name": "confidence",
         "rawType": "float64",
         "type": "float"
        },
        {
         "name": "lift",
         "rawType": "float64",
         "type": "float"
        },
        {
         "name": "representativity",
         "rawType": "float64",
         "type": "float"
        },
        {
         "name": "leverage",
         "rawType": "float64",
         "type": "float"
        },
        {
         "name": "conviction",
         "rawType": "float64",
         "type": "float"
        },
        {
         "name": "zhangs_metric",
         "rawType": "float64",
         "type": "float"
        },
        {
         "name": "jaccard",
         "rawType": "float64",
         "type": "float"
        },
        {
         "name": "certainty",
         "rawType": "float64",
         "type": "float"
        },
        {
         "name": "kulczynski",
         "rawType": "float64",
         "type": "float"
        }
       ],
       "conversionMethod": "pd.DataFrame",
       "ref": "0f20aaa4-92d4-4b46-9bc0-5234946a49e8",
       "rows": [
        [
         "1",
         "frozenset({'kidney beans'})",
         "frozenset({'eggs'})",
         "1.0",
         "0.8",
         "0.8",
         "0.8",
         "1.0",
         "1.0",
         "0.0",
         "1.0",
         "0.0",
         "0.8",
         "0.0",
         "0.9"
        ],
        [
         "2",
         "frozenset({'onion'})",
         "frozenset({'eggs'})",
         "0.6",
         "0.8",
         "0.6",
         "1.0",
         "1.25",
         "1.0",
         "0.12",
         "inf",
         "0.5",
         "0.75",
         "1.0",
         "0.875"
        ],
        [
         "8",
         "frozenset({'onion', 'kidney beans'})",
         "frozenset({'eggs'})",
         "0.6",
         "0.8",
         "0.6",
         "1.0",
         "1.25",
         "1.0",
         "0.12",
         "inf",
         "0.5",
         "0.75",
         "1.0",
         "0.875"
        ]
       ],
       "shape": {
        "columns": 14,
        "rows": 3
       }
      },
      "text/html": [
       "<div>\n",
       "<style scoped>\n",
       "    .dataframe tbody tr th:only-of-type {\n",
       "        vertical-align: middle;\n",
       "    }\n",
       "\n",
       "    .dataframe tbody tr th {\n",
       "        vertical-align: top;\n",
       "    }\n",
       "\n",
       "    .dataframe thead th {\n",
       "        text-align: right;\n",
       "    }\n",
       "</style>\n",
       "<table border=\"1\" class=\"dataframe\">\n",
       "  <thead>\n",
       "    <tr style=\"text-align: right;\">\n",
       "      <th></th>\n",
       "      <th>antecedents</th>\n",
       "      <th>consequents</th>\n",
       "      <th>antecedent support</th>\n",
       "      <th>consequent support</th>\n",
       "      <th>support</th>\n",
       "      <th>confidence</th>\n",
       "      <th>lift</th>\n",
       "      <th>representativity</th>\n",
       "      <th>leverage</th>\n",
       "      <th>conviction</th>\n",
       "      <th>zhangs_metric</th>\n",
       "      <th>jaccard</th>\n",
       "      <th>certainty</th>\n",
       "      <th>kulczynski</th>\n",
       "    </tr>\n",
       "  </thead>\n",
       "  <tbody>\n",
       "    <tr>\n",
       "      <th>1</th>\n",
       "      <td>(kidney beans)</td>\n",
       "      <td>(eggs)</td>\n",
       "      <td>1.0</td>\n",
       "      <td>0.8</td>\n",
       "      <td>0.8</td>\n",
       "      <td>0.8</td>\n",
       "      <td>1.00</td>\n",
       "      <td>1.0</td>\n",
       "      <td>0.00</td>\n",
       "      <td>1.0</td>\n",
       "      <td>0.0</td>\n",
       "      <td>0.80</td>\n",
       "      <td>0.0</td>\n",
       "      <td>0.900</td>\n",
       "    </tr>\n",
       "    <tr>\n",
       "      <th>2</th>\n",
       "      <td>(onion)</td>\n",
       "      <td>(eggs)</td>\n",
       "      <td>0.6</td>\n",
       "      <td>0.8</td>\n",
       "      <td>0.6</td>\n",
       "      <td>1.0</td>\n",
       "      <td>1.25</td>\n",
       "      <td>1.0</td>\n",
       "      <td>0.12</td>\n",
       "      <td>inf</td>\n",
       "      <td>0.5</td>\n",
       "      <td>0.75</td>\n",
       "      <td>1.0</td>\n",
       "      <td>0.875</td>\n",
       "    </tr>\n",
       "    <tr>\n",
       "      <th>8</th>\n",
       "      <td>(onion, kidney beans)</td>\n",
       "      <td>(eggs)</td>\n",
       "      <td>0.6</td>\n",
       "      <td>0.8</td>\n",
       "      <td>0.6</td>\n",
       "      <td>1.0</td>\n",
       "      <td>1.25</td>\n",
       "      <td>1.0</td>\n",
       "      <td>0.12</td>\n",
       "      <td>inf</td>\n",
       "      <td>0.5</td>\n",
       "      <td>0.75</td>\n",
       "      <td>1.0</td>\n",
       "      <td>0.875</td>\n",
       "    </tr>\n",
       "  </tbody>\n",
       "</table>\n",
       "</div>"
      ],
      "text/plain": [
       "             antecedents consequents  antecedent support  consequent support  \\\n",
       "1         (kidney beans)      (eggs)                 1.0                 0.8   \n",
       "2                (onion)      (eggs)                 0.6                 0.8   \n",
       "8  (onion, kidney beans)      (eggs)                 0.6                 0.8   \n",
       "\n",
       "   support  confidence  lift  representativity  leverage  conviction  \\\n",
       "1      0.8         0.8  1.00               1.0      0.00         1.0   \n",
       "2      0.6         1.0  1.25               1.0      0.12         inf   \n",
       "8      0.6         1.0  1.25               1.0      0.12         inf   \n",
       "\n",
       "   zhangs_metric  jaccard  certainty  kulczynski  \n",
       "1            0.0     0.80        0.0       0.900  \n",
       "2            0.5     0.75        1.0       0.875  \n",
       "8            0.5     0.75        1.0       0.875  "
      ]
     },
     "execution_count": 16,
     "metadata": {},
     "output_type": "execute_result"
    }
   ],
   "source": [
    "#for classification we should use the class as consequence\n",
    "import numpy as np\n",
    "#so this code classifies all the consequents that has eggs\n",
    "myrules.iloc[np.array(myrules['consequents']=={'eggs'}),:]"
   ]
  },
  {
   "cell_type": "code",
   "execution_count": null,
   "metadata": {},
   "outputs": [
    {
     "data": {
      "application/vnd.microsoft.datawrangler.viewer.v0+json": {
       "columns": [
        {
         "name": "index",
         "rawType": "int64",
         "type": "integer"
        },
        {
         "name": "support",
         "rawType": "float64",
         "type": "float"
        },
        {
         "name": "itemsets",
         "rawType": "object",
         "type": "unknown"
        }
       ],
       "conversionMethod": "pd.DataFrame",
       "ref": "b664ef47-4384-44ad-96a7-58178ee9d28a",
       "rows": [
        [
         "0",
         "1.0",
         "frozenset({'kidney beans'})"
        ],
        [
         "1",
         "0.8",
         "frozenset({'eggs'})"
        ],
        [
         "2",
         "0.6",
         "frozenset({'yogurt'})"
        ],
        [
         "3",
         "0.6",
         "frozenset({'onion'})"
        ],
        [
         "4",
         "0.6",
         "frozenset({'milk'})"
        ],
        [
         "5",
         "0.8",
         "frozenset({'eggs', 'kidney beans'})"
        ],
        [
         "6",
         "0.6",
         "frozenset({'kidney beans', 'yogurt'})"
        ],
        [
         "7",
         "0.6",
         "frozenset({'onion', 'eggs'})"
        ],
        [
         "8",
         "0.6",
         "frozenset({'onion', 'kidney beans'})"
        ],
        [
         "9",
         "0.6",
         "frozenset({'onion', 'eggs', 'kidney beans'})"
        ],
        [
         "10",
         "0.6",
         "frozenset({'kidney beans', 'milk'})"
        ]
       ],
       "shape": {
        "columns": 2,
        "rows": 11
       }
      },
      "text/html": [
       "<div>\n",
       "<style scoped>\n",
       "    .dataframe tbody tr th:only-of-type {\n",
       "        vertical-align: middle;\n",
       "    }\n",
       "\n",
       "    .dataframe tbody tr th {\n",
       "        vertical-align: top;\n",
       "    }\n",
       "\n",
       "    .dataframe thead th {\n",
       "        text-align: right;\n",
       "    }\n",
       "</style>\n",
       "<table border=\"1\" class=\"dataframe\">\n",
       "  <thead>\n",
       "    <tr style=\"text-align: right;\">\n",
       "      <th></th>\n",
       "      <th>support</th>\n",
       "      <th>itemsets</th>\n",
       "    </tr>\n",
       "  </thead>\n",
       "  <tbody>\n",
       "    <tr>\n",
       "      <th>0</th>\n",
       "      <td>1.0</td>\n",
       "      <td>(kidney beans)</td>\n",
       "    </tr>\n",
       "    <tr>\n",
       "      <th>1</th>\n",
       "      <td>0.8</td>\n",
       "      <td>(eggs)</td>\n",
       "    </tr>\n",
       "    <tr>\n",
       "      <th>2</th>\n",
       "      <td>0.6</td>\n",
       "      <td>(yogurt)</td>\n",
       "    </tr>\n",
       "    <tr>\n",
       "      <th>3</th>\n",
       "      <td>0.6</td>\n",
       "      <td>(onion)</td>\n",
       "    </tr>\n",
       "    <tr>\n",
       "      <th>4</th>\n",
       "      <td>0.6</td>\n",
       "      <td>(milk)</td>\n",
       "    </tr>\n",
       "    <tr>\n",
       "      <th>5</th>\n",
       "      <td>0.8</td>\n",
       "      <td>(eggs, kidney beans)</td>\n",
       "    </tr>\n",
       "    <tr>\n",
       "      <th>6</th>\n",
       "      <td>0.6</td>\n",
       "      <td>(kidney beans, yogurt)</td>\n",
       "    </tr>\n",
       "    <tr>\n",
       "      <th>7</th>\n",
       "      <td>0.6</td>\n",
       "      <td>(onion, eggs)</td>\n",
       "    </tr>\n",
       "    <tr>\n",
       "      <th>8</th>\n",
       "      <td>0.6</td>\n",
       "      <td>(onion, kidney beans)</td>\n",
       "    </tr>\n",
       "    <tr>\n",
       "      <th>9</th>\n",
       "      <td>0.6</td>\n",
       "      <td>(onion, eggs, kidney beans)</td>\n",
       "    </tr>\n",
       "    <tr>\n",
       "      <th>10</th>\n",
       "      <td>0.6</td>\n",
       "      <td>(kidney beans, milk)</td>\n",
       "    </tr>\n",
       "  </tbody>\n",
       "</table>\n",
       "</div>"
      ],
      "text/plain": [
       "    support                     itemsets\n",
       "0       1.0               (kidney beans)\n",
       "1       0.8                       (eggs)\n",
       "2       0.6                     (yogurt)\n",
       "3       0.6                      (onion)\n",
       "4       0.6                       (milk)\n",
       "5       0.8         (eggs, kidney beans)\n",
       "6       0.6       (kidney beans, yogurt)\n",
       "7       0.6                (onion, eggs)\n",
       "8       0.6        (onion, kidney beans)\n",
       "9       0.6  (onion, eggs, kidney beans)\n",
       "10      0.6         (kidney beans, milk)"
      ]
     },
     "execution_count": 17,
     "metadata": {},
     "output_type": "execute_result"
    }
   ],
   "source": [
    "from mlxtend.frequent_patterns import fpgrowth\n",
    "#second way for making this dataset \n",
    "fpgrowth(df, min_support =0.6, use_colnames=True)"
   ]
  },
  {
   "cell_type": "code",
   "execution_count": null,
   "metadata": {},
   "outputs": [
    {
     "data": {
      "application/vnd.microsoft.datawrangler.viewer.v0+json": {
       "columns": [
        {
         "name": "index",
         "rawType": "int64",
         "type": "integer"
        },
        {
         "name": "support",
         "rawType": "float64",
         "type": "float"
        },
        {
         "name": "itemsets",
         "rawType": "object",
         "type": "unknown"
        }
       ],
       "conversionMethod": "pd.DataFrame",
       "ref": "b664ef47-4384-44ad-96a7-58178ee9d28a",
       "rows": [
        [
         "0",
         "1.0",
         "frozenset({'kidney beans'})"
        ],
        [
         "1",
         "0.8",
         "frozenset({'eggs'})"
        ],
        [
         "2",
         "0.6",
         "frozenset({'yogurt'})"
        ],
        [
         "3",
         "0.6",
         "frozenset({'onion'})"
        ],
        [
         "4",
         "0.6",
         "frozenset({'milk'})"
        ],
        [
         "5",
         "0.8",
         "frozenset({'eggs', 'kidney beans'})"
        ],
        [
         "6",
         "0.6",
         "frozenset({'kidney beans', 'yogurt'})"
        ],
        [
         "7",
         "0.6",
         "frozenset({'onion', 'eggs'})"
        ],
        [
         "8",
         "0.6",
         "frozenset({'onion', 'kidney beans'})"
        ],
        [
         "9",
         "0.6",
         "frozenset({'onion', 'eggs', 'kidney beans'})"
        ],
        [
         "10",
         "0.6",
         "frozenset({'kidney beans', 'milk'})"
        ]
       ],
       "shape": {
        "columns": 2,
        "rows": 11
       }
      },
      "text/html": [
       "<div>\n",
       "<style scoped>\n",
       "    .dataframe tbody tr th:only-of-type {\n",
       "        vertical-align: middle;\n",
       "    }\n",
       "\n",
       "    .dataframe tbody tr th {\n",
       "        vertical-align: top;\n",
       "    }\n",
       "\n",
       "    .dataframe thead th {\n",
       "        text-align: right;\n",
       "    }\n",
       "</style>\n",
       "<table border=\"1\" class=\"dataframe\">\n",
       "  <thead>\n",
       "    <tr style=\"text-align: right;\">\n",
       "      <th></th>\n",
       "      <th>support</th>\n",
       "      <th>itemsets</th>\n",
       "    </tr>\n",
       "  </thead>\n",
       "  <tbody>\n",
       "    <tr>\n",
       "      <th>0</th>\n",
       "      <td>1.0</td>\n",
       "      <td>(kidney beans)</td>\n",
       "    </tr>\n",
       "    <tr>\n",
       "      <th>1</th>\n",
       "      <td>0.8</td>\n",
       "      <td>(eggs)</td>\n",
       "    </tr>\n",
       "    <tr>\n",
       "      <th>2</th>\n",
       "      <td>0.6</td>\n",
       "      <td>(yogurt)</td>\n",
       "    </tr>\n",
       "    <tr>\n",
       "      <th>3</th>\n",
       "      <td>0.6</td>\n",
       "      <td>(onion)</td>\n",
       "    </tr>\n",
       "    <tr>\n",
       "      <th>4</th>\n",
       "      <td>0.6</td>\n",
       "      <td>(milk)</td>\n",
       "    </tr>\n",
       "    <tr>\n",
       "      <th>5</th>\n",
       "      <td>0.8</td>\n",
       "      <td>(eggs, kidney beans)</td>\n",
       "    </tr>\n",
       "    <tr>\n",
       "      <th>6</th>\n",
       "      <td>0.6</td>\n",
       "      <td>(kidney beans, yogurt)</td>\n",
       "    </tr>\n",
       "    <tr>\n",
       "      <th>7</th>\n",
       "      <td>0.6</td>\n",
       "      <td>(onion, eggs)</td>\n",
       "    </tr>\n",
       "    <tr>\n",
       "      <th>8</th>\n",
       "      <td>0.6</td>\n",
       "      <td>(onion, kidney beans)</td>\n",
       "    </tr>\n",
       "    <tr>\n",
       "      <th>9</th>\n",
       "      <td>0.6</td>\n",
       "      <td>(onion, eggs, kidney beans)</td>\n",
       "    </tr>\n",
       "    <tr>\n",
       "      <th>10</th>\n",
       "      <td>0.6</td>\n",
       "      <td>(kidney beans, milk)</td>\n",
       "    </tr>\n",
       "  </tbody>\n",
       "</table>\n",
       "</div>"
      ],
      "text/plain": [
       "    support                     itemsets\n",
       "0       1.0               (kidney beans)\n",
       "1       0.8                       (eggs)\n",
       "2       0.6                     (yogurt)\n",
       "3       0.6                      (onion)\n",
       "4       0.6                       (milk)\n",
       "5       0.8         (eggs, kidney beans)\n",
       "6       0.6       (kidney beans, yogurt)\n",
       "7       0.6                (onion, eggs)\n",
       "8       0.6        (onion, kidney beans)\n",
       "9       0.6  (onion, eggs, kidney beans)\n",
       "10      0.6         (kidney beans, milk)"
      ]
     },
     "metadata": {},
     "output_type": "display_data"
    }
   ],
   "source": [
    "from mlxtend.frequent_patterns import fpgrowth\n",
    "#second way for making this dataset \n",
    "fpgrowth(df, min_support =0.6, use_colnames=True)"
   ]
  }
 ],
 "metadata": {
  "kernelspec": {
   "display_name": "base",
   "language": "python",
   "name": "python3"
  },
  "language_info": {
   "codemirror_mode": {
    "name": "ipython",
    "version": 3
   },
   "file_extension": ".py",
   "mimetype": "text/x-python",
   "name": "python",
   "nbconvert_exporter": "python",
   "pygments_lexer": "ipython3",
   "version": "3.8.8"
  }
 },
 "nbformat": 4,
 "nbformat_minor": 2
}
